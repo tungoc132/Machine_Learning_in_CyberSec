{
  "cells": [
    {
      "cell_type": "markdown",
      "source": [
        "**Nhóm 7**\n",
        "\n",
        "|STT|\tHọ và tên|\tMSSV\t|Email|\n",
        "|-|--|--|--|\n",
        "|1|\tTrần Hoàng Khang\t|19521671|\t19521671@gm.uit.edu.vn|\n",
        "|2|\tNguyễn Tú Ngọc\t|20521665\t|20521665@gm.uit.edu.vn|\n",
        "\n",
        "\n"
      ],
      "metadata": {
        "id": "O-nhUprMeHv6"
      }
    },
    {
      "cell_type": "markdown",
      "source": [
        "Cấu trúc cây thư mục làm lab của mình:\n",
        "\n",
        "<center>\n",
        "  <img src=\"https://i.imgur.com/KDbS21a.png\" alt=\"folder-struct\">\n",
        "</center>"
      ],
      "metadata": {
        "id": "Xj_myi68yCcU"
      }
    },
    {
      "cell_type": "markdown",
      "metadata": {
        "id": "PHBb0V3-zfvy"
      },
      "source": [
        "**LAB 4.1**\n",
        "\n",
        "# **A. Phát hiện trang web lừa đảo bằng kỹ thuật học máy**\n",
        "***(Phishing Website Detection by Machine Learning Techniques)***"
      ]
    },
    {
      "cell_type": "markdown",
      "metadata": {
        "id": "t9DeVCT_zuRQ"
      },
      "source": [
        "# **1. Mục tiêu:**\n",
        "Website lừa đảo (phishing website) là một tấn công phi kỹ thuật (social engineering) bằng cách bắt trước các URL tin cậy. Mục tiêu bài thực hành sẽ đào tạo mô hình học máy và học sâu trên tập dữ liệu để dự đoán website lừa đảo. Cả 2 URL lừa đảo và lành tính (benign) được trích xuất thuộc tình từ thành phần cơ bản của website thành tập dữ liệu.\n",
        "Dataset sử dụng trong Lab: https://drive.google.com/drive/folders/1vD0i34RVMFKXdvDmnZmejmTQ-tNm5xcB?usp=sharing"
      ]
    },
    {
      "cell_type": "markdown",
      "metadata": {
        "id": "qZQJleKe0p7u"
      },
      "source": [
        "## **2. Tải dữ liệu**\n",
        "Các tính năng được trích xuất và lưu trữ trong tập tin csv.\n"
      ]
    },
    {
      "cell_type": "code",
      "source": [
        "from google.colab import drive\n",
        "drive.mount('/content/drive')"
      ],
      "metadata": {
        "id": "AwOUFGAquyYf",
        "colab": {
          "base_uri": "https://localhost:8080/"
        },
        "outputId": "fdd8975d-25f0-4e48-b34c-4feeb5416062"
      },
      "execution_count": null,
      "outputs": [
        {
          "output_type": "stream",
          "name": "stdout",
          "text": [
            "Mounted at /content/drive\n"
          ]
        }
      ]
    },
    {
      "cell_type": "code",
      "source": [
        "data_dir = '/content/drive/MyDrive/Lab/Lab4/Dataset/'"
      ],
      "metadata": {
        "id": "xpmcUIF52A6P"
      },
      "execution_count": null,
      "outputs": []
    },
    {
      "cell_type": "code",
      "execution_count": null,
      "metadata": {
        "id": "j2R_S9hE-f_H"
      },
      "outputs": [],
      "source": [
        "#import ackages\n",
        "import pandas as pd\n",
        "import numpy as np\n",
        "import seaborn as sns\n",
        "import matplotlib.pyplot as plt"
      ]
    },
    {
      "cell_type": "code",
      "execution_count": null,
      "metadata": {
        "id": "RRXHJ3ID-dcK",
        "colab": {
          "base_uri": "https://localhost:8080/",
          "height": 270
        },
        "outputId": "c7e76625-189f-4a25-9d1a-aee40b4894a9"
      },
      "outputs": [
        {
          "output_type": "execute_result",
          "data": {
            "text/plain": [
              "             Domain  Have_IP  Have_At  URL_Length  URL_Depth  Redirection  \\\n",
              "0  graphicriver.net        0        0           1          1            0   \n",
              "1         ecnavi.jp        0        0           1          1            1   \n",
              "2      hubpages.com        0        0           1          1            0   \n",
              "3   extratorrent.cc        0        0           1          3            0   \n",
              "4     icicibank.com        0        0           1          3            0   \n",
              "\n",
              "   https_Domain  TinyURL  Prefix/Suffix  DNS_Record  Web_Traffic  Domain_Age  \\\n",
              "0             0        0              0           0            1           1   \n",
              "1             0        0              0           0            1           1   \n",
              "2             0        0              0           0            1           0   \n",
              "3             0        0              0           0            1           0   \n",
              "4             0        0              0           0            1           0   \n",
              "\n",
              "   Domain_End  iFrame  Mouse_Over  Right_Click  Web_Forwards  Label  \n",
              "0           1       0           0            1             0      0  \n",
              "1           1       0           0            1             0      0  \n",
              "2           1       0           0            1             0      0  \n",
              "3           1       0           0            1             0      0  \n",
              "4           1       0           0            1             0      0  "
            ],
            "text/html": [
              "\n",
              "  <div id=\"df-8d668107-1ed4-4c71-ae14-3696c0d3e814\">\n",
              "    <div class=\"colab-df-container\">\n",
              "      <div>\n",
              "<style scoped>\n",
              "    .dataframe tbody tr th:only-of-type {\n",
              "        vertical-align: middle;\n",
              "    }\n",
              "\n",
              "    .dataframe tbody tr th {\n",
              "        vertical-align: top;\n",
              "    }\n",
              "\n",
              "    .dataframe thead th {\n",
              "        text-align: right;\n",
              "    }\n",
              "</style>\n",
              "<table border=\"1\" class=\"dataframe\">\n",
              "  <thead>\n",
              "    <tr style=\"text-align: right;\">\n",
              "      <th></th>\n",
              "      <th>Domain</th>\n",
              "      <th>Have_IP</th>\n",
              "      <th>Have_At</th>\n",
              "      <th>URL_Length</th>\n",
              "      <th>URL_Depth</th>\n",
              "      <th>Redirection</th>\n",
              "      <th>https_Domain</th>\n",
              "      <th>TinyURL</th>\n",
              "      <th>Prefix/Suffix</th>\n",
              "      <th>DNS_Record</th>\n",
              "      <th>Web_Traffic</th>\n",
              "      <th>Domain_Age</th>\n",
              "      <th>Domain_End</th>\n",
              "      <th>iFrame</th>\n",
              "      <th>Mouse_Over</th>\n",
              "      <th>Right_Click</th>\n",
              "      <th>Web_Forwards</th>\n",
              "      <th>Label</th>\n",
              "    </tr>\n",
              "  </thead>\n",
              "  <tbody>\n",
              "    <tr>\n",
              "      <th>0</th>\n",
              "      <td>graphicriver.net</td>\n",
              "      <td>0</td>\n",
              "      <td>0</td>\n",
              "      <td>1</td>\n",
              "      <td>1</td>\n",
              "      <td>0</td>\n",
              "      <td>0</td>\n",
              "      <td>0</td>\n",
              "      <td>0</td>\n",
              "      <td>0</td>\n",
              "      <td>1</td>\n",
              "      <td>1</td>\n",
              "      <td>1</td>\n",
              "      <td>0</td>\n",
              "      <td>0</td>\n",
              "      <td>1</td>\n",
              "      <td>0</td>\n",
              "      <td>0</td>\n",
              "    </tr>\n",
              "    <tr>\n",
              "      <th>1</th>\n",
              "      <td>ecnavi.jp</td>\n",
              "      <td>0</td>\n",
              "      <td>0</td>\n",
              "      <td>1</td>\n",
              "      <td>1</td>\n",
              "      <td>1</td>\n",
              "      <td>0</td>\n",
              "      <td>0</td>\n",
              "      <td>0</td>\n",
              "      <td>0</td>\n",
              "      <td>1</td>\n",
              "      <td>1</td>\n",
              "      <td>1</td>\n",
              "      <td>0</td>\n",
              "      <td>0</td>\n",
              "      <td>1</td>\n",
              "      <td>0</td>\n",
              "      <td>0</td>\n",
              "    </tr>\n",
              "    <tr>\n",
              "      <th>2</th>\n",
              "      <td>hubpages.com</td>\n",
              "      <td>0</td>\n",
              "      <td>0</td>\n",
              "      <td>1</td>\n",
              "      <td>1</td>\n",
              "      <td>0</td>\n",
              "      <td>0</td>\n",
              "      <td>0</td>\n",
              "      <td>0</td>\n",
              "      <td>0</td>\n",
              "      <td>1</td>\n",
              "      <td>0</td>\n",
              "      <td>1</td>\n",
              "      <td>0</td>\n",
              "      <td>0</td>\n",
              "      <td>1</td>\n",
              "      <td>0</td>\n",
              "      <td>0</td>\n",
              "    </tr>\n",
              "    <tr>\n",
              "      <th>3</th>\n",
              "      <td>extratorrent.cc</td>\n",
              "      <td>0</td>\n",
              "      <td>0</td>\n",
              "      <td>1</td>\n",
              "      <td>3</td>\n",
              "      <td>0</td>\n",
              "      <td>0</td>\n",
              "      <td>0</td>\n",
              "      <td>0</td>\n",
              "      <td>0</td>\n",
              "      <td>1</td>\n",
              "      <td>0</td>\n",
              "      <td>1</td>\n",
              "      <td>0</td>\n",
              "      <td>0</td>\n",
              "      <td>1</td>\n",
              "      <td>0</td>\n",
              "      <td>0</td>\n",
              "    </tr>\n",
              "    <tr>\n",
              "      <th>4</th>\n",
              "      <td>icicibank.com</td>\n",
              "      <td>0</td>\n",
              "      <td>0</td>\n",
              "      <td>1</td>\n",
              "      <td>3</td>\n",
              "      <td>0</td>\n",
              "      <td>0</td>\n",
              "      <td>0</td>\n",
              "      <td>0</td>\n",
              "      <td>0</td>\n",
              "      <td>1</td>\n",
              "      <td>0</td>\n",
              "      <td>1</td>\n",
              "      <td>0</td>\n",
              "      <td>0</td>\n",
              "      <td>1</td>\n",
              "      <td>0</td>\n",
              "      <td>0</td>\n",
              "    </tr>\n",
              "  </tbody>\n",
              "</table>\n",
              "</div>\n",
              "      <button class=\"colab-df-convert\" onclick=\"convertToInteractive('df-8d668107-1ed4-4c71-ae14-3696c0d3e814')\"\n",
              "              title=\"Convert this dataframe to an interactive table.\"\n",
              "              style=\"display:none;\">\n",
              "        \n",
              "  <svg xmlns=\"http://www.w3.org/2000/svg\" height=\"24px\"viewBox=\"0 0 24 24\"\n",
              "       width=\"24px\">\n",
              "    <path d=\"M0 0h24v24H0V0z\" fill=\"none\"/>\n",
              "    <path d=\"M18.56 5.44l.94 2.06.94-2.06 2.06-.94-2.06-.94-.94-2.06-.94 2.06-2.06.94zm-11 1L8.5 8.5l.94-2.06 2.06-.94-2.06-.94L8.5 2.5l-.94 2.06-2.06.94zm10 10l.94 2.06.94-2.06 2.06-.94-2.06-.94-.94-2.06-.94 2.06-2.06.94z\"/><path d=\"M17.41 7.96l-1.37-1.37c-.4-.4-.92-.59-1.43-.59-.52 0-1.04.2-1.43.59L10.3 9.45l-7.72 7.72c-.78.78-.78 2.05 0 2.83L4 21.41c.39.39.9.59 1.41.59.51 0 1.02-.2 1.41-.59l7.78-7.78 2.81-2.81c.8-.78.8-2.07 0-2.86zM5.41 20L4 18.59l7.72-7.72 1.47 1.35L5.41 20z\"/>\n",
              "  </svg>\n",
              "      </button>\n",
              "      \n",
              "  <style>\n",
              "    .colab-df-container {\n",
              "      display:flex;\n",
              "      flex-wrap:wrap;\n",
              "      gap: 12px;\n",
              "    }\n",
              "\n",
              "    .colab-df-convert {\n",
              "      background-color: #E8F0FE;\n",
              "      border: none;\n",
              "      border-radius: 50%;\n",
              "      cursor: pointer;\n",
              "      display: none;\n",
              "      fill: #1967D2;\n",
              "      height: 32px;\n",
              "      padding: 0 0 0 0;\n",
              "      width: 32px;\n",
              "    }\n",
              "\n",
              "    .colab-df-convert:hover {\n",
              "      background-color: #E2EBFA;\n",
              "      box-shadow: 0px 1px 2px rgba(60, 64, 67, 0.3), 0px 1px 3px 1px rgba(60, 64, 67, 0.15);\n",
              "      fill: #174EA6;\n",
              "    }\n",
              "\n",
              "    [theme=dark] .colab-df-convert {\n",
              "      background-color: #3B4455;\n",
              "      fill: #D2E3FC;\n",
              "    }\n",
              "\n",
              "    [theme=dark] .colab-df-convert:hover {\n",
              "      background-color: #434B5C;\n",
              "      box-shadow: 0px 1px 3px 1px rgba(0, 0, 0, 0.15);\n",
              "      filter: drop-shadow(0px 1px 2px rgba(0, 0, 0, 0.3));\n",
              "      fill: #FFFFFF;\n",
              "    }\n",
              "  </style>\n",
              "\n",
              "      <script>\n",
              "        const buttonEl =\n",
              "          document.querySelector('#df-8d668107-1ed4-4c71-ae14-3696c0d3e814 button.colab-df-convert');\n",
              "        buttonEl.style.display =\n",
              "          google.colab.kernel.accessAllowed ? 'block' : 'none';\n",
              "\n",
              "        async function convertToInteractive(key) {\n",
              "          const element = document.querySelector('#df-8d668107-1ed4-4c71-ae14-3696c0d3e814');\n",
              "          const dataTable =\n",
              "            await google.colab.kernel.invokeFunction('convertToInteractive',\n",
              "                                                     [key], {});\n",
              "          if (!dataTable) return;\n",
              "\n",
              "          const docLinkHtml = 'Like what you see? Visit the ' +\n",
              "            '<a target=\"_blank\" href=https://colab.research.google.com/notebooks/data_table.ipynb>data table notebook</a>'\n",
              "            + ' to learn more about interactive tables.';\n",
              "          element.innerHTML = '';\n",
              "          dataTable['output_type'] = 'display_data';\n",
              "          await google.colab.output.renderOutput(dataTable, element);\n",
              "          const docLink = document.createElement('div');\n",
              "          docLink.innerHTML = docLinkHtml;\n",
              "          element.appendChild(docLink);\n",
              "        }\n",
              "      </script>\n",
              "    </div>\n",
              "  </div>\n",
              "  "
            ]
          },
          "metadata": {},
          "execution_count": 4
        }
      ],
      "source": [
        "#Loading the data\n",
        "data0 = pd.read_csv(data_dir + 'urldata.csv')\n",
        "data0.head()\n",
        "# Comment the meaning of ech feature. Ex: 'Have_IP'?\n",
        "# 'Right_click' is allow to right click to show more info about website"
      ]
    },
    {
      "cell_type": "markdown",
      "metadata": {
        "id": "Wglpi49N-xrX"
      },
      "source": [
        "# **3. Làm quen với dữ liệu**\n",
        "Dùng Dataframe để xem qua dữ liệu."
      ]
    },
    {
      "cell_type": "code",
      "execution_count": null,
      "metadata": {
        "id": "t2afYJC6-__O",
        "colab": {
          "base_uri": "https://localhost:8080/"
        },
        "outputId": "2ae7eaab-5bb5-49fd-c79b-6cc08a9e3fd7"
      },
      "outputs": [
        {
          "output_type": "execute_result",
          "data": {
            "text/plain": [
              "(10000, 18)"
            ]
          },
          "metadata": {},
          "execution_count": 5
        }
      ],
      "source": [
        "#Check shape\n",
        "data0.shape"
      ]
    },
    {
      "cell_type": "code",
      "execution_count": null,
      "metadata": {
        "id": "lCBagKMrB6TO",
        "colab": {
          "base_uri": "https://localhost:8080/"
        },
        "outputId": "850e8e00-5836-40f5-9b21-2bea9bafc2db"
      },
      "outputs": [
        {
          "output_type": "execute_result",
          "data": {
            "text/plain": [
              "Index(['Domain', 'Have_IP', 'Have_At', 'URL_Length', 'URL_Depth',\n",
              "       'Redirection', 'https_Domain', 'TinyURL', 'Prefix/Suffix', 'DNS_Record',\n",
              "       'Web_Traffic', 'Domain_Age', 'Domain_End', 'iFrame', 'Mouse_Over',\n",
              "       'Right_Click', 'Web_Forwards', 'Label'],\n",
              "      dtype='object')"
            ]
          },
          "metadata": {},
          "execution_count": 6
        }
      ],
      "source": [
        "#List features\n",
        "data0.columns"
      ]
    },
    {
      "cell_type": "code",
      "execution_count": null,
      "metadata": {
        "id": "m_uxSyN8CCNd",
        "colab": {
          "base_uri": "https://localhost:8080/"
        },
        "outputId": "8c669cac-580f-4334-8a3d-eeeb1bae92dd"
      },
      "outputs": [
        {
          "output_type": "stream",
          "name": "stdout",
          "text": [
            "<class 'pandas.core.frame.DataFrame'>\n",
            "RangeIndex: 10000 entries, 0 to 9999\n",
            "Data columns (total 18 columns):\n",
            " #   Column         Non-Null Count  Dtype \n",
            "---  ------         --------------  ----- \n",
            " 0   Domain         10000 non-null  object\n",
            " 1   Have_IP        10000 non-null  int64 \n",
            " 2   Have_At        10000 non-null  int64 \n",
            " 3   URL_Length     10000 non-null  int64 \n",
            " 4   URL_Depth      10000 non-null  int64 \n",
            " 5   Redirection    10000 non-null  int64 \n",
            " 6   https_Domain   10000 non-null  int64 \n",
            " 7   TinyURL        10000 non-null  int64 \n",
            " 8   Prefix/Suffix  10000 non-null  int64 \n",
            " 9   DNS_Record     10000 non-null  int64 \n",
            " 10  Web_Traffic    10000 non-null  int64 \n",
            " 11  Domain_Age     10000 non-null  int64 \n",
            " 12  Domain_End     10000 non-null  int64 \n",
            " 13  iFrame         10000 non-null  int64 \n",
            " 14  Mouse_Over     10000 non-null  int64 \n",
            " 15  Right_Click    10000 non-null  int64 \n",
            " 16  Web_Forwards   10000 non-null  int64 \n",
            " 17  Label          10000 non-null  int64 \n",
            "dtypes: int64(17), object(1)\n",
            "memory usage: 1.4+ MB\n"
          ]
        }
      ],
      "source": [
        "#Information\n",
        "data0.info()"
      ]
    },
    {
      "cell_type": "markdown",
      "metadata": {
        "id": "akgh4KUtDN3t"
      },
      "source": [
        "# **4. Trực quan hóa dữ liệu**\n",
        "Một số biểu đồ hiển thị để tìm các phân phối dữ liệu và cách mỗi liên quan với nhau giữa các đối tượng. "
      ]
    },
    {
      "cell_type": "code",
      "execution_count": null,
      "metadata": {
        "id": "qFI_un9mDzJU",
        "colab": {
          "base_uri": "https://localhost:8080/"
        },
        "outputId": "aa2f6959-7945-4576-8f0e-d130b4784c40"
      },
      "outputs": [
        {
          "output_type": "display_data",
          "data": {
            "text/plain": [
              "<Figure size 1080x1080 with 20 Axes>"
            ],
            "image/png": "[encoded data removed]"
          },
          "metadata": {
            "needs_background": "light"
          }
        }
      ],
      "source": [
        "#Plotting the data distribution\n",
        "data0.hist(bins = 50,figsize = (15,15))\n",
        "plt.show()"
      ]
    },
    {
      "cell_type": "code",
      "execution_count": null,
      "metadata": {
        "id": "HcsMPvBBEENX",
        "colab": {
          "base_uri": "https://localhost:8080/"
        },
        "outputId": "ec3a5a88-70e0-44d3-dfc7-68ee53c30a78"
      },
      "outputs": [
        {
          "output_type": "display_data",
          "data": {
            "text/plain": [
              "<Figure size 1080x936 with 2 Axes>"
            ],
            "image/png": "[encoded data removed]"
          },
          "metadata": {
            "needs_background": "light"
          }
        }
      ],
      "source": [
        "#Correlation heatmap\n",
        "plt.figure(figsize=(15,13))\n",
        "sns.heatmap(data0.corr())\n",
        "plt.show()"
      ]
    },
    {
      "cell_type": "markdown",
      "metadata": {
        "id": "gD-KzGg2EQJq"
      },
      "source": [
        "# **5. Tiền xử lý dữ liệu & EDA**\n",
        "Làm sạch dữ liệu bằng cách áp dụng các kỹ thuật tiền xử lý dữ liệu và chuyển đổi dữ liệu để sử dụng nó trong các mô hình."
      ]
    },
    {
      "cell_type": "code",
      "execution_count": null,
      "metadata": {
        "id": "oUkN1DYtFNef",
        "colab": {
          "base_uri": "https://localhost:8080/"
        },
        "outputId": "db186cb6-0b66-4afb-bedf-1ac235794363"
      },
      "outputs": [
        {
          "output_type": "execute_result",
          "data": {
            "text/plain": [
              "            Have_IP       Have_At    URL_Length     URL_Depth   Redirection  \\\n",
              "count  10000.000000  10000.000000  10000.000000  10000.000000  10000.000000   \n",
              "mean       0.005500      0.022600      0.773400      3.072000      0.013500   \n",
              "std        0.073961      0.148632      0.418653      2.128631      0.115408   \n",
              "min        0.000000      0.000000      0.000000      0.000000      0.000000   \n",
              "25%        0.000000      0.000000      1.000000      2.000000      0.000000   \n",
              "50%        0.000000      0.000000      1.000000      3.000000      0.000000   \n",
              "75%        0.000000      0.000000      1.000000      4.000000      0.000000   \n",
              "max        1.000000      1.000000      1.000000     20.000000      1.000000   \n",
              "\n",
              "       https_Domain       TinyURL  Prefix/Suffix    DNS_Record   Web_Traffic  \\\n",
              "count  10000.000000  10000.000000   10000.000000  10000.000000  10000.000000   \n",
              "mean       0.000200      0.090300       0.093200      0.100800      0.845700   \n",
              "std        0.014141      0.286625       0.290727      0.301079      0.361254   \n",
              "min        0.000000      0.000000       0.000000      0.000000      0.000000   \n",
              "25%        0.000000      0.000000       0.000000      0.000000      1.000000   \n",
              "50%        0.000000      0.000000       0.000000      0.000000      1.000000   \n",
              "75%        0.000000      0.000000       0.000000      0.000000      1.000000   \n",
              "max        1.000000      1.000000       1.000000      1.000000      1.000000   \n",
              "\n",
              "         Domain_Age  Domain_End        iFrame   Mouse_Over  Right_Click  \\\n",
              "count  10000.000000  10000.0000  10000.000000  10000.00000  10000.00000   \n",
              "mean       0.413700      0.8099      0.090900      0.06660      0.99930   \n",
              "std        0.492521      0.3924      0.287481      0.24934      0.02645   \n",
              "min        0.000000      0.0000      0.000000      0.00000      0.00000   \n",
              "25%        0.000000      1.0000      0.000000      0.00000      1.00000   \n",
              "50%        0.000000      1.0000      0.000000      0.00000      1.00000   \n",
              "75%        1.000000      1.0000      0.000000      0.00000      1.00000   \n",
              "max        1.000000      1.0000      1.000000      1.00000      1.00000   \n",
              "\n",
              "       Web_Forwards         Label  \n",
              "count  10000.000000  10000.000000  \n",
              "mean       0.105300      0.500000  \n",
              "std        0.306955      0.500025  \n",
              "min        0.000000      0.000000  \n",
              "25%        0.000000      0.000000  \n",
              "50%        0.000000      0.500000  \n",
              "75%        0.000000      1.000000  \n",
              "max        1.000000      1.000000  "
            ],
            "text/html": [
              "\n",
              "  <div id=\"df-a3d7bb96-4977-4a2c-9a4b-d3ee590f307a\">\n",
              "    <div class=\"colab-df-container\">\n",
              "      <div>\n",
              "<style scoped>\n",
              "    .dataframe tbody tr th:only-of-type {\n",
              "        vertical-align: middle;\n",
              "    }\n",
              "\n",
              "    .dataframe tbody tr th {\n",
              "        vertical-align: top;\n",
              "    }\n",
              "\n",
              "    .dataframe thead th {\n",
              "        text-align: right;\n",
              "    }\n",
              "</style>\n",
              "<table border=\"1\" class=\"dataframe\">\n",
              "  <thead>\n",
              "    <tr style=\"text-align: right;\">\n",
              "      <th></th>\n",
              "      <th>Have_IP</th>\n",
              "      <th>Have_At</th>\n",
              "      <th>URL_Length</th>\n",
              "      <th>URL_Depth</th>\n",
              "      <th>Redirection</th>\n",
              "      <th>https_Domain</th>\n",
              "      <th>TinyURL</th>\n",
              "      <th>Prefix/Suffix</th>\n",
              "      <th>DNS_Record</th>\n",
              "      <th>Web_Traffic</th>\n",
              "      <th>Domain_Age</th>\n",
              "      <th>Domain_End</th>\n",
              "      <th>iFrame</th>\n",
              "      <th>Mouse_Over</th>\n",
              "      <th>Right_Click</th>\n",
              "      <th>Web_Forwards</th>\n",
              "      <th>Label</th>\n",
              "    </tr>\n",
              "  </thead>\n",
              "  <tbody>\n",
              "    <tr>\n",
              "      <th>count</th>\n",
              "      <td>10000.000000</td>\n",
              "      <td>10000.000000</td>\n",
              "      <td>10000.000000</td>\n",
              "      <td>10000.000000</td>\n",
              "      <td>10000.000000</td>\n",
              "      <td>10000.000000</td>\n",
              "      <td>10000.000000</td>\n",
              "      <td>10000.000000</td>\n",
              "      <td>10000.000000</td>\n",
              "      <td>10000.000000</td>\n",
              "      <td>10000.000000</td>\n",
              "      <td>10000.0000</td>\n",
              "      <td>10000.000000</td>\n",
              "      <td>10000.00000</td>\n",
              "      <td>10000.00000</td>\n",
              "      <td>10000.000000</td>\n",
              "      <td>10000.000000</td>\n",
              "    </tr>\n",
              "    <tr>\n",
              "      <th>mean</th>\n",
              "      <td>0.005500</td>\n",
              "      <td>0.022600</td>\n",
              "      <td>0.773400</td>\n",
              "      <td>3.072000</td>\n",
              "      <td>0.013500</td>\n",
              "      <td>0.000200</td>\n",
              "      <td>0.090300</td>\n",
              "      <td>0.093200</td>\n",
              "      <td>0.100800</td>\n",
              "      <td>0.845700</td>\n",
              "      <td>0.413700</td>\n",
              "      <td>0.8099</td>\n",
              "      <td>0.090900</td>\n",
              "      <td>0.06660</td>\n",
              "      <td>0.99930</td>\n",
              "      <td>0.105300</td>\n",
              "      <td>0.500000</td>\n",
              "    </tr>\n",
              "    <tr>\n",
              "      <th>std</th>\n",
              "      <td>0.073961</td>\n",
              "      <td>0.148632</td>\n",
              "      <td>0.418653</td>\n",
              "      <td>2.128631</td>\n",
              "      <td>0.115408</td>\n",
              "      <td>0.014141</td>\n",
              "      <td>0.286625</td>\n",
              "      <td>0.290727</td>\n",
              "      <td>0.301079</td>\n",
              "      <td>0.361254</td>\n",
              "      <td>0.492521</td>\n",
              "      <td>0.3924</td>\n",
              "      <td>0.287481</td>\n",
              "      <td>0.24934</td>\n",
              "      <td>0.02645</td>\n",
              "      <td>0.306955</td>\n",
              "      <td>0.500025</td>\n",
              "    </tr>\n",
              "    <tr>\n",
              "      <th>min</th>\n",
              "      <td>0.000000</td>\n",
              "      <td>0.000000</td>\n",
              "      <td>0.000000</td>\n",
              "      <td>0.000000</td>\n",
              "      <td>0.000000</td>\n",
              "      <td>0.000000</td>\n",
              "      <td>0.000000</td>\n",
              "      <td>0.000000</td>\n",
              "      <td>0.000000</td>\n",
              "      <td>0.000000</td>\n",
              "      <td>0.000000</td>\n",
              "      <td>0.0000</td>\n",
              "      <td>0.000000</td>\n",
              "      <td>0.00000</td>\n",
              "      <td>0.00000</td>\n",
              "      <td>0.000000</td>\n",
              "      <td>0.000000</td>\n",
              "    </tr>\n",
              "    <tr>\n",
              "      <th>25%</th>\n",
              "      <td>0.000000</td>\n",
              "      <td>0.000000</td>\n",
              "      <td>1.000000</td>\n",
              "      <td>2.000000</td>\n",
              "      <td>0.000000</td>\n",
              "      <td>0.000000</td>\n",
              "      <td>0.000000</td>\n",
              "      <td>0.000000</td>\n",
              "      <td>0.000000</td>\n",
              "      <td>1.000000</td>\n",
              "      <td>0.000000</td>\n",
              "      <td>1.0000</td>\n",
              "      <td>0.000000</td>\n",
              "      <td>0.00000</td>\n",
              "      <td>1.00000</td>\n",
              "      <td>0.000000</td>\n",
              "      <td>0.000000</td>\n",
              "    </tr>\n",
              "    <tr>\n",
              "      <th>50%</th>\n",
              "      <td>0.000000</td>\n",
              "      <td>0.000000</td>\n",
              "      <td>1.000000</td>\n",
              "      <td>3.000000</td>\n",
              "      <td>0.000000</td>\n",
              "      <td>0.000000</td>\n",
              "      <td>0.000000</td>\n",
              "      <td>0.000000</td>\n",
              "      <td>0.000000</td>\n",
              "      <td>1.000000</td>\n",
              "      <td>0.000000</td>\n",
              "      <td>1.0000</td>\n",
              "      <td>0.000000</td>\n",
              "      <td>0.00000</td>\n",
              "      <td>1.00000</td>\n",
              "      <td>0.000000</td>\n",
              "      <td>0.500000</td>\n",
              "    </tr>\n",
              "    <tr>\n",
              "      <th>75%</th>\n",
              "      <td>0.000000</td>\n",
              "      <td>0.000000</td>\n",
              "      <td>1.000000</td>\n",
              "      <td>4.000000</td>\n",
              "      <td>0.000000</td>\n",
              "      <td>0.000000</td>\n",
              "      <td>0.000000</td>\n",
              "      <td>0.000000</td>\n",
              "      <td>0.000000</td>\n",
              "      <td>1.000000</td>\n",
              "      <td>1.000000</td>\n",
              "      <td>1.0000</td>\n",
              "      <td>0.000000</td>\n",
              "      <td>0.00000</td>\n",
              "      <td>1.00000</td>\n",
              "      <td>0.000000</td>\n",
              "      <td>1.000000</td>\n",
              "    </tr>\n",
              "    <tr>\n",
              "      <th>max</th>\n",
              "      <td>1.000000</td>\n",
              "      <td>1.000000</td>\n",
              "      <td>1.000000</td>\n",
              "      <td>20.000000</td>\n",
              "      <td>1.000000</td>\n",
              "      <td>1.000000</td>\n",
              "      <td>1.000000</td>\n",
              "      <td>1.000000</td>\n",
              "      <td>1.000000</td>\n",
              "      <td>1.000000</td>\n",
              "      <td>1.000000</td>\n",
              "      <td>1.0000</td>\n",
              "      <td>1.000000</td>\n",
              "      <td>1.00000</td>\n",
              "      <td>1.00000</td>\n",
              "      <td>1.000000</td>\n",
              "      <td>1.000000</td>\n",
              "    </tr>\n",
              "  </tbody>\n",
              "</table>\n",
              "</div>\n",
              "      <button class=\"colab-df-convert\" onclick=\"convertToInteractive('df-a3d7bb96-4977-4a2c-9a4b-d3ee590f307a')\"\n",
              "              title=\"Convert this dataframe to an interactive table.\"\n",
              "              style=\"display:none;\">\n",
              "        \n",
              "  <svg xmlns=\"http://www.w3.org/2000/svg\" height=\"24px\"viewBox=\"0 0 24 24\"\n",
              "       width=\"24px\">\n",
              "    <path d=\"M0 0h24v24H0V0z\" fill=\"none\"/>\n",
              "    <path d=\"M18.56 5.44l.94 2.06.94-2.06 2.06-.94-2.06-.94-.94-2.06-.94 2.06-2.06.94zm-11 1L8.5 8.5l.94-2.06 2.06-.94-2.06-.94L8.5 2.5l-.94 2.06-2.06.94zm10 10l.94 2.06.94-2.06 2.06-.94-2.06-.94-.94-2.06-.94 2.06-2.06.94z\"/><path d=\"M17.41 7.96l-1.37-1.37c-.4-.4-.92-.59-1.43-.59-.52 0-1.04.2-1.43.59L10.3 9.45l-7.72 7.72c-.78.78-.78 2.05 0 2.83L4 21.41c.39.39.9.59 1.41.59.51 0 1.02-.2 1.41-.59l7.78-7.78 2.81-2.81c.8-.78.8-2.07 0-2.86zM5.41 20L4 18.59l7.72-7.72 1.47 1.35L5.41 20z\"/>\n",
              "  </svg>\n",
              "      </button>\n",
              "      \n",
              "  <style>\n",
              "    .colab-df-container {\n",
              "      display:flex;\n",
              "      flex-wrap:wrap;\n",
              "      gap: 12px;\n",
              "    }\n",
              "\n",
              "    .colab-df-convert {\n",
              "      background-color: #E8F0FE;\n",
              "      border: none;\n",
              "      border-radius: 50%;\n",
              "      cursor: pointer;\n",
              "      display: none;\n",
              "      fill: #1967D2;\n",
              "      height: 32px;\n",
              "      padding: 0 0 0 0;\n",
              "      width: 32px;\n",
              "    }\n",
              "\n",
              "    .colab-df-convert:hover {\n",
              "      background-color: #E2EBFA;\n",
              "      box-shadow: 0px 1px 2px rgba(60, 64, 67, 0.3), 0px 1px 3px 1px rgba(60, 64, 67, 0.15);\n",
              "      fill: #174EA6;\n",
              "    }\n",
              "\n",
              "    [theme=dark] .colab-df-convert {\n",
              "      background-color: #3B4455;\n",
              "      fill: #D2E3FC;\n",
              "    }\n",
              "\n",
              "    [theme=dark] .colab-df-convert:hover {\n",
              "      background-color: #434B5C;\n",
              "      box-shadow: 0px 1px 3px 1px rgba(0, 0, 0, 0.15);\n",
              "      filter: drop-shadow(0px 1px 2px rgba(0, 0, 0, 0.3));\n",
              "      fill: #FFFFFF;\n",
              "    }\n",
              "  </style>\n",
              "\n",
              "      <script>\n",
              "        const buttonEl =\n",
              "          document.querySelector('#df-a3d7bb96-4977-4a2c-9a4b-d3ee590f307a button.colab-df-convert');\n",
              "        buttonEl.style.display =\n",
              "          google.colab.kernel.accessAllowed ? 'block' : 'none';\n",
              "\n",
              "        async function convertToInteractive(key) {\n",
              "          const element = document.querySelector('#df-a3d7bb96-4977-4a2c-9a4b-d3ee590f307a');\n",
              "          const dataTable =\n",
              "            await google.colab.kernel.invokeFunction('convertToInteractive',\n",
              "                                                     [key], {});\n",
              "          if (!dataTable) return;\n",
              "\n",
              "          const docLinkHtml = 'Like what you see? Visit the ' +\n",
              "            '<a target=\"_blank\" href=https://colab.research.google.com/notebooks/data_table.ipynb>data table notebook</a>'\n",
              "            + ' to learn more about interactive tables.';\n",
              "          element.innerHTML = '';\n",
              "          dataTable['output_type'] = 'display_data';\n",
              "          await google.colab.output.renderOutput(dataTable, element);\n",
              "          const docLink = document.createElement('div');\n",
              "          docLink.innerHTML = docLinkHtml;\n",
              "          element.appendChild(docLink);\n",
              "        }\n",
              "      </script>\n",
              "    </div>\n",
              "  </div>\n",
              "  "
            ]
          },
          "metadata": {},
          "execution_count": 10
        }
      ],
      "source": [
        "data0.describe()"
      ]
    },
    {
      "cell_type": "markdown",
      "metadata": {
        "id": "3Jxem5jbFn56"
      },
      "source": [
        "Kết quả thu được ở trên cho thấy rằng hầu hết dữ liệu được tạo từ 0 và 1 ngoại trừ cột  'Domain' & 'URL_Depth'. cột Domain hoàn toàn không có ý nghĩa gì để đào tạo mô hình nên loại nó."
      ]
    },
    {
      "cell_type": "code",
      "execution_count": null,
      "metadata": {
        "id": "IeH0UwxBHAS8"
      },
      "outputs": [],
      "source": [
        "#Drop Domain column\n",
        "data = data0.drop(['Domain'], axis = 1).copy()"
      ]
    },
    {
      "cell_type": "markdown",
      "metadata": {
        "id": "HteH1rb6HInK"
      },
      "source": [
        "Ta còn lại 16 thuộc tính và 1 cột phân loại. Giá trị tối đa của 'URL_Depth'  là 20. Ta cần chuẩn hoá cột này."
      ]
    },
    {
      "cell_type": "code",
      "execution_count": null,
      "metadata": {
        "id": "P136_dVjHdPh",
        "colab": {
          "base_uri": "https://localhost:8080/"
        },
        "outputId": "5e4acf50-f31d-4812-c148-3b887c8f6a03"
      },
      "outputs": [
        {
          "output_type": "execute_result",
          "data": {
            "text/plain": [
              "Have_IP          0\n",
              "Have_At          0\n",
              "URL_Length       0\n",
              "URL_Depth        0\n",
              "Redirection      0\n",
              "https_Domain     0\n",
              "TinyURL          0\n",
              "Prefix/Suffix    0\n",
              "DNS_Record       0\n",
              "Web_Traffic      0\n",
              "Domain_Age       0\n",
              "Domain_End       0\n",
              "iFrame           0\n",
              "Mouse_Over       0\n",
              "Right_Click      0\n",
              "Web_Forwards     0\n",
              "Label            0\n",
              "dtype: int64"
            ]
          },
          "metadata": {},
          "execution_count": 12
        }
      ],
      "source": [
        "#check data null \n",
        "data.isnull().sum()"
      ]
    },
    {
      "cell_type": "markdown",
      "metadata": {
        "id": "PJGivGCsH3gg"
      },
      "source": [
        "Trong tập tin thuộc tính được trích xuất, các thuộc tính được trích xuất của tập url lừa đảo và lành tính không có bất kỳ xáo trộn nào."
      ]
    },
    {
      "cell_type": "code",
      "execution_count": null,
      "metadata": {
        "id": "5GBQkwm4JYz6",
        "colab": {
          "base_uri": "https://localhost:8080/"
        },
        "outputId": "183db136-191a-4103-9a25-0076e85feaa8"
      },
      "outputs": [
        {
          "output_type": "execute_result",
          "data": {
            "text/plain": [
              "   Have_IP  Have_At  URL_Length  URL_Depth  Redirection  https_Domain  \\\n",
              "0        0        0           0          2            0             0   \n",
              "1        0        0           1          2            0             0   \n",
              "2        0        0           1          2            0             0   \n",
              "3        0        0           1          3            0             0   \n",
              "4        0        0           1          3            0             0   \n",
              "\n",
              "   TinyURL  Prefix/Suffix  DNS_Record  Web_Traffic  Domain_Age  Domain_End  \\\n",
              "0        0              0           0            1           0           1   \n",
              "1        0              0           0            1           0           0   \n",
              "2        0              0           1            1           1           1   \n",
              "3        0              0           0            1           0           1   \n",
              "4        0              0           0            1           0           1   \n",
              "\n",
              "   iFrame  Mouse_Over  Right_Click  Web_Forwards  Label  \n",
              "0       0           0            1             0      1  \n",
              "1       0           0            1             0      0  \n",
              "2       0           0            1             0      0  \n",
              "3       0           0            1             0      0  \n",
              "4       1           0            1             0      1  "
            ],
            "text/html": [
              "\n",
              "  <div id=\"df-9802dfbd-aaa1-42fb-b396-0b72f3231b49\">\n",
              "    <div class=\"colab-df-container\">\n",
              "      <div>\n",
              "<style scoped>\n",
              "    .dataframe tbody tr th:only-of-type {\n",
              "        vertical-align: middle;\n",
              "    }\n",
              "\n",
              "    .dataframe tbody tr th {\n",
              "        vertical-align: top;\n",
              "    }\n",
              "\n",
              "    .dataframe thead th {\n",
              "        text-align: right;\n",
              "    }\n",
              "</style>\n",
              "<table border=\"1\" class=\"dataframe\">\n",
              "  <thead>\n",
              "    <tr style=\"text-align: right;\">\n",
              "      <th></th>\n",
              "      <th>Have_IP</th>\n",
              "      <th>Have_At</th>\n",
              "      <th>URL_Length</th>\n",
              "      <th>URL_Depth</th>\n",
              "      <th>Redirection</th>\n",
              "      <th>https_Domain</th>\n",
              "      <th>TinyURL</th>\n",
              "      <th>Prefix/Suffix</th>\n",
              "      <th>DNS_Record</th>\n",
              "      <th>Web_Traffic</th>\n",
              "      <th>Domain_Age</th>\n",
              "      <th>Domain_End</th>\n",
              "      <th>iFrame</th>\n",
              "      <th>Mouse_Over</th>\n",
              "      <th>Right_Click</th>\n",
              "      <th>Web_Forwards</th>\n",
              "      <th>Label</th>\n",
              "    </tr>\n",
              "  </thead>\n",
              "  <tbody>\n",
              "    <tr>\n",
              "      <th>0</th>\n",
              "      <td>0</td>\n",
              "      <td>0</td>\n",
              "      <td>0</td>\n",
              "      <td>2</td>\n",
              "      <td>0</td>\n",
              "      <td>0</td>\n",
              "      <td>0</td>\n",
              "      <td>0</td>\n",
              "      <td>0</td>\n",
              "      <td>1</td>\n",
              "      <td>0</td>\n",
              "      <td>1</td>\n",
              "      <td>0</td>\n",
              "      <td>0</td>\n",
              "      <td>1</td>\n",
              "      <td>0</td>\n",
              "      <td>1</td>\n",
              "    </tr>\n",
              "    <tr>\n",
              "      <th>1</th>\n",
              "      <td>0</td>\n",
              "      <td>0</td>\n",
              "      <td>1</td>\n",
              "      <td>2</td>\n",
              "      <td>0</td>\n",
              "      <td>0</td>\n",
              "      <td>0</td>\n",
              "      <td>0</td>\n",
              "      <td>0</td>\n",
              "      <td>1</td>\n",
              "      <td>0</td>\n",
              "      <td>0</td>\n",
              "      <td>0</td>\n",
              "      <td>0</td>\n",
              "      <td>1</td>\n",
              "      <td>0</td>\n",
              "      <td>0</td>\n",
              "    </tr>\n",
              "    <tr>\n",
              "      <th>2</th>\n",
              "      <td>0</td>\n",
              "      <td>0</td>\n",
              "      <td>1</td>\n",
              "      <td>2</td>\n",
              "      <td>0</td>\n",
              "      <td>0</td>\n",
              "      <td>0</td>\n",
              "      <td>0</td>\n",
              "      <td>1</td>\n",
              "      <td>1</td>\n",
              "      <td>1</td>\n",
              "      <td>1</td>\n",
              "      <td>0</td>\n",
              "      <td>0</td>\n",
              "      <td>1</td>\n",
              "      <td>0</td>\n",
              "      <td>0</td>\n",
              "    </tr>\n",
              "    <tr>\n",
              "      <th>3</th>\n",
              "      <td>0</td>\n",
              "      <td>0</td>\n",
              "      <td>1</td>\n",
              "      <td>3</td>\n",
              "      <td>0</td>\n",
              "      <td>0</td>\n",
              "      <td>0</td>\n",
              "      <td>0</td>\n",
              "      <td>0</td>\n",
              "      <td>1</td>\n",
              "      <td>0</td>\n",
              "      <td>1</td>\n",
              "      <td>0</td>\n",
              "      <td>0</td>\n",
              "      <td>1</td>\n",
              "      <td>0</td>\n",
              "      <td>0</td>\n",
              "    </tr>\n",
              "    <tr>\n",
              "      <th>4</th>\n",
              "      <td>0</td>\n",
              "      <td>0</td>\n",
              "      <td>1</td>\n",
              "      <td>3</td>\n",
              "      <td>0</td>\n",
              "      <td>0</td>\n",
              "      <td>0</td>\n",
              "      <td>0</td>\n",
              "      <td>0</td>\n",
              "      <td>1</td>\n",
              "      <td>0</td>\n",
              "      <td>1</td>\n",
              "      <td>1</td>\n",
              "      <td>0</td>\n",
              "      <td>1</td>\n",
              "      <td>0</td>\n",
              "      <td>1</td>\n",
              "    </tr>\n",
              "  </tbody>\n",
              "</table>\n",
              "</div>\n",
              "      <button class=\"colab-df-convert\" onclick=\"convertToInteractive('df-9802dfbd-aaa1-42fb-b396-0b72f3231b49')\"\n",
              "              title=\"Convert this dataframe to an interactive table.\"\n",
              "              style=\"display:none;\">\n",
              "        \n",
              "  <svg xmlns=\"http://www.w3.org/2000/svg\" height=\"24px\"viewBox=\"0 0 24 24\"\n",
              "       width=\"24px\">\n",
              "    <path d=\"M0 0h24v24H0V0z\" fill=\"none\"/>\n",
              "    <path d=\"M18.56 5.44l.94 2.06.94-2.06 2.06-.94-2.06-.94-.94-2.06-.94 2.06-2.06.94zm-11 1L8.5 8.5l.94-2.06 2.06-.94-2.06-.94L8.5 2.5l-.94 2.06-2.06.94zm10 10l.94 2.06.94-2.06 2.06-.94-2.06-.94-.94-2.06-.94 2.06-2.06.94z\"/><path d=\"M17.41 7.96l-1.37-1.37c-.4-.4-.92-.59-1.43-.59-.52 0-1.04.2-1.43.59L10.3 9.45l-7.72 7.72c-.78.78-.78 2.05 0 2.83L4 21.41c.39.39.9.59 1.41.59.51 0 1.02-.2 1.41-.59l7.78-7.78 2.81-2.81c.8-.78.8-2.07 0-2.86zM5.41 20L4 18.59l7.72-7.72 1.47 1.35L5.41 20z\"/>\n",
              "  </svg>\n",
              "      </button>\n",
              "      \n",
              "  <style>\n",
              "    .colab-df-container {\n",
              "      display:flex;\n",
              "      flex-wrap:wrap;\n",
              "      gap: 12px;\n",
              "    }\n",
              "\n",
              "    .colab-df-convert {\n",
              "      background-color: #E8F0FE;\n",
              "      border: none;\n",
              "      border-radius: 50%;\n",
              "      cursor: pointer;\n",
              "      display: none;\n",
              "      fill: #1967D2;\n",
              "      height: 32px;\n",
              "      padding: 0 0 0 0;\n",
              "      width: 32px;\n",
              "    }\n",
              "\n",
              "    .colab-df-convert:hover {\n",
              "      background-color: #E2EBFA;\n",
              "      box-shadow: 0px 1px 2px rgba(60, 64, 67, 0.3), 0px 1px 3px 1px rgba(60, 64, 67, 0.15);\n",
              "      fill: #174EA6;\n",
              "    }\n",
              "\n",
              "    [theme=dark] .colab-df-convert {\n",
              "      background-color: #3B4455;\n",
              "      fill: #D2E3FC;\n",
              "    }\n",
              "\n",
              "    [theme=dark] .colab-df-convert:hover {\n",
              "      background-color: #434B5C;\n",
              "      box-shadow: 0px 1px 3px 1px rgba(0, 0, 0, 0.15);\n",
              "      filter: drop-shadow(0px 1px 2px rgba(0, 0, 0, 0.3));\n",
              "      fill: #FFFFFF;\n",
              "    }\n",
              "  </style>\n",
              "\n",
              "      <script>\n",
              "        const buttonEl =\n",
              "          document.querySelector('#df-9802dfbd-aaa1-42fb-b396-0b72f3231b49 button.colab-df-convert');\n",
              "        buttonEl.style.display =\n",
              "          google.colab.kernel.accessAllowed ? 'block' : 'none';\n",
              "\n",
              "        async function convertToInteractive(key) {\n",
              "          const element = document.querySelector('#df-9802dfbd-aaa1-42fb-b396-0b72f3231b49');\n",
              "          const dataTable =\n",
              "            await google.colab.kernel.invokeFunction('convertToInteractive',\n",
              "                                                     [key], {});\n",
              "          if (!dataTable) return;\n",
              "\n",
              "          const docLinkHtml = 'Like what you see? Visit the ' +\n",
              "            '<a target=\"_blank\" href=https://colab.research.google.com/notebooks/data_table.ipynb>data table notebook</a>'\n",
              "            + ' to learn more about interactive tables.';\n",
              "          element.innerHTML = '';\n",
              "          dataTable['output_type'] = 'display_data';\n",
              "          await google.colab.output.renderOutput(dataTable, element);\n",
              "          const docLink = document.createElement('div');\n",
              "          docLink.innerHTML = docLinkHtml;\n",
              "          element.appendChild(docLink);\n",
              "        }\n",
              "      </script>\n",
              "    </div>\n",
              "  </div>\n",
              "  "
            ]
          },
          "metadata": {},
          "execution_count": 13
        }
      ],
      "source": [
        "# shuffling the rows \n",
        "data = data.sample(frac=1).reset_index(drop=True)\n",
        "data.head()"
      ]
    },
    {
      "cell_type": "markdown",
      "metadata": {
        "id": "ULpWf7j_Jiid"
      },
      "source": [
        "# **6. Chia dữ liệu**"
      ]
    },
    {
      "cell_type": "code",
      "execution_count": null,
      "metadata": {
        "id": "jjWuzJWQJmef",
        "colab": {
          "base_uri": "https://localhost:8080/"
        },
        "outputId": "c7f3d0d6-22b6-4f3f-d272-0300b18205eb"
      },
      "outputs": [
        {
          "output_type": "execute_result",
          "data": {
            "text/plain": [
              "((10000, 16), (10000,))"
            ]
          },
          "metadata": {},
          "execution_count": 14
        }
      ],
      "source": [
        "#features and target columns to X & y\n",
        "y = data['Label']\n",
        "X = data.drop('Label',axis=1)\n",
        "X.shape, y.shape"
      ]
    },
    {
      "cell_type": "code",
      "execution_count": null,
      "metadata": {
        "id": "aimvLwIqLMzF",
        "colab": {
          "base_uri": "https://localhost:8080/"
        },
        "outputId": "76ea8c6f-2830-4e6e-eba6-0372179e28fe"
      },
      "outputs": [
        {
          "output_type": "execute_result",
          "data": {
            "text/plain": [
              "((8000, 16), (2000, 16))"
            ]
          },
          "metadata": {},
          "execution_count": 15
        }
      ],
      "source": [
        "# train and test sets: 80-20 split\n",
        "from sklearn.model_selection import train_test_split\n",
        "\n",
        "X_train, X_test, y_train, y_test = train_test_split(X, y, \n",
        "                                                    test_size = 0.2, random_state = 12)\n",
        "X_train.shape, X_test.shape"
      ]
    },
    {
      "cell_type": "markdown",
      "metadata": {
        "id": "1xjDwwlyLbz7"
      },
      "source": [
        "# **7. Đào tạo mô hình học máy**\n",
        "Dữ liệu phù hợp với việc học có giám sát và hai bài toán nên áp dụng là classification - phân loại và regression - hồi quy.\n",
        "Ta sẽ có 2 nhãn  phishing (1) và legitimate (0), với các mô hình học giám sát sau:\n",
        "*  Decision Tree\n",
        "*  Random Forest\n",
        "*  Multilayer Perceptrons\n",
        "* XGBoost\n",
        "* Autoencoder Neural Network\n",
        "* Support Vector Machines"
      ]
    },
    {
      "cell_type": "code",
      "execution_count": null,
      "metadata": {
        "id": "8EXAe0GtMa_v"
      },
      "outputs": [],
      "source": [
        "from sklearn.metrics import accuracy_score"
      ]
    },
    {
      "cell_type": "code",
      "execution_count": null,
      "metadata": {
        "id": "Rt9j-a5KMd-m"
      },
      "outputs": [],
      "source": [
        "# Creating model results\n",
        "ML_Model = []\n",
        "acc_train = []\n",
        "acc_test = []\n",
        "\n",
        "#storing the results\n",
        "def storeResults(model, a,b):\n",
        "  ML_Model.append(model)\n",
        "  acc_train.append(round(a, 3))\n",
        "  acc_test.append(round(b, 3))"
      ]
    },
    {
      "cell_type": "markdown",
      "metadata": {
        "id": "2VzDewbsMsHw"
      },
      "source": [
        "## **7.1 Decision Tree Classifier**"
      ]
    },
    {
      "cell_type": "code",
      "execution_count": null,
      "metadata": {
        "id": "O-fMx-MOM2tY",
        "colab": {
          "base_uri": "https://localhost:8080/"
        },
        "outputId": "6d25a9f7-185d-4711-8f5d-494c7dea447a"
      },
      "outputs": [
        {
          "output_type": "execute_result",
          "data": {
            "text/plain": [
              "DecisionTreeClassifier(max_depth=5)"
            ]
          },
          "metadata": {},
          "execution_count": 18
        }
      ],
      "source": [
        "# Decision Tree model \n",
        "from sklearn.tree import DecisionTreeClassifier\n",
        "\n",
        "# instantiate\n",
        "tree = DecisionTreeClassifier(max_depth = 5)\n",
        "# fit \n",
        "tree.fit(X_train, y_train)"
      ]
    },
    {
      "cell_type": "code",
      "execution_count": null,
      "metadata": {
        "id": "YB1ZBIgQM8g5"
      },
      "outputs": [],
      "source": [
        "#predicting \n",
        "y_test_tree = tree.predict(X_test)\n",
        "y_train_tree = tree.predict(X_train)"
      ]
    },
    {
      "cell_type": "markdown",
      "metadata": {
        "id": "51jY-Mi9NCKl"
      },
      "source": [
        "***Đánh giá hiệu suất***"
      ]
    },
    {
      "cell_type": "code",
      "execution_count": null,
      "metadata": {
        "id": "MDXBhzc4NE3T",
        "colab": {
          "base_uri": "https://localhost:8080/"
        },
        "outputId": "9f7ad8b5-c80d-4ded-caea-15f370af40cc"
      },
      "outputs": [
        {
          "output_type": "stream",
          "name": "stdout",
          "text": [
            "Decision Tree: Accuracy on training Data: 0.811\n",
            "Decision Tree: Accuracy on test Data: 0.823\n"
          ]
        }
      ],
      "source": [
        "#computing the accuracy\n",
        "acc_train_tree = accuracy_score(y_train,y_train_tree)\n",
        "acc_test_tree = accuracy_score(y_test,y_test_tree)\n",
        "\n",
        "print(\"Decision Tree: Accuracy on training Data: {:.3f}\".format(acc_train_tree))\n",
        "print(\"Decision Tree: Accuracy on test Data: {:.3f}\".format(acc_test_tree))"
      ]
    },
    {
      "cell_type": "code",
      "execution_count": null,
      "metadata": {
        "id": "cKL-SxyYNPVS",
        "colab": {
          "base_uri": "https://localhost:8080/"
        },
        "outputId": "d4a206ae-c4f6-4621-f0e1-599dcc54e3b9"
      },
      "outputs": [
        {
          "output_type": "display_data",
          "data": {
            "text/plain": [
              "<Figure size 648x504 with 1 Axes>"
            ],
            "image/png": "[encoded data removed]"
          },
          "metadata": {
            "needs_background": "light"
          }
        }
      ],
      "source": [
        "#checking the feature improtance in the model\n",
        "plt.figure(figsize=(9,7))\n",
        "n_features = X_train.shape[1]\n",
        "plt.barh(range(n_features), tree.feature_importances_, align='center')\n",
        "plt.yticks(np.arange(n_features), X_train.columns)\n",
        "plt.xlabel(\"Feature importance\")\n",
        "plt.ylabel(\"Feature\")\n",
        "plt.show()"
      ]
    },
    {
      "cell_type": "markdown",
      "metadata": {
        "id": "mf9DcHcjNVP5"
      },
      "source": [
        "**Lưu trữ kết quả**"
      ]
    },
    {
      "cell_type": "code",
      "execution_count": null,
      "metadata": {
        "id": "K1tfnfcqNZGl"
      },
      "outputs": [],
      "source": [
        "storeResults('Decision Tree', acc_train_tree, acc_test_tree)"
      ]
    },
    {
      "cell_type": "markdown",
      "metadata": {
        "id": "140lDfWSN1xJ"
      },
      "source": [
        "## **7.2 Random Forest Classifier**"
      ]
    },
    {
      "cell_type": "code",
      "execution_count": null,
      "metadata": {
        "id": "WDb9p4qYN30z",
        "colab": {
          "base_uri": "https://localhost:8080/"
        },
        "outputId": "8b31af6f-4022-4182-e6c5-58ecc6669d15"
      },
      "outputs": [
        {
          "output_type": "execute_result",
          "data": {
            "text/plain": [
              "RandomForestClassifier(max_depth=5)"
            ]
          },
          "metadata": {},
          "execution_count": 23
        }
      ],
      "source": [
        "# Random Forest model\n",
        "from sklearn.ensemble import RandomForestClassifier\n",
        "\n",
        "# instantiate \n",
        "forest = RandomForestClassifier(max_depth=5)\n",
        "\n",
        "# fit \n",
        "forest.fit(X_train, y_train)"
      ]
    },
    {
      "cell_type": "code",
      "execution_count": null,
      "metadata": {
        "id": "dnTZnkNON68f"
      },
      "outputs": [],
      "source": [
        "#predicting \n",
        "y_test_forest = forest.predict(X_test)\n",
        "y_train_forest = forest.predict(X_train)"
      ]
    },
    {
      "cell_type": "markdown",
      "metadata": {
        "id": "1-07CrheOBOH"
      },
      "source": [
        "**Đánh giá hiệu suất**"
      ]
    },
    {
      "cell_type": "code",
      "execution_count": null,
      "metadata": {
        "id": "U-E22FFLOF0W",
        "colab": {
          "base_uri": "https://localhost:8080/"
        },
        "outputId": "a24b3c08-01b8-4603-f661-48af16030dbc"
      },
      "outputs": [
        {
          "output_type": "stream",
          "name": "stdout",
          "text": [
            "Random forest: Accuracy on training Data: 0.816\n",
            "Random forest: Accuracy on test Data: 0.827\n"
          ]
        }
      ],
      "source": [
        "#computing the accuracy\n",
        "acc_train_forest = accuracy_score(y_train,y_train_forest)\n",
        "acc_test_forest = accuracy_score(y_test,y_test_forest)\n",
        "\n",
        "print(\"Random forest: Accuracy on training Data: {:.3f}\".format(acc_train_forest))\n",
        "print(\"Random forest: Accuracy on test Data: {:.3f}\".format(acc_test_forest))"
      ]
    },
    {
      "cell_type": "code",
      "execution_count": null,
      "metadata": {
        "id": "r2A5R3tXOJQc",
        "colab": {
          "base_uri": "https://localhost:8080/"
        },
        "outputId": "f9c7a581-601e-4db9-c6d8-cf869f1780e3"
      },
      "outputs": [
        {
          "output_type": "display_data",
          "data": {
            "text/plain": [
              "<Figure size 648x504 with 1 Axes>"
            ],
            "image/png": "[encoded data removed]"
          },
          "metadata": {
            "needs_background": "light"
          }
        }
      ],
      "source": [
        "#checking the feature improtance in the model\n",
        "plt.figure(figsize=(9,7))\n",
        "n_features = X_train.shape[1]\n",
        "plt.barh(range(n_features), forest.feature_importances_, align='center')\n",
        "plt.yticks(np.arange(n_features), X_train.columns)\n",
        "plt.xlabel(\"Feature importance\")\n",
        "plt.ylabel(\"Feature\")\n",
        "plt.show()"
      ]
    },
    {
      "cell_type": "markdown",
      "metadata": {
        "id": "-X1hZcB3ONIP"
      },
      "source": [
        "**Lưu trữ kết quả**"
      ]
    },
    {
      "cell_type": "code",
      "execution_count": null,
      "metadata": {
        "id": "ZWNOm0lsOOfj"
      },
      "outputs": [],
      "source": [
        "storeResults('Random Forest', acc_train_forest, acc_test_forest)"
      ]
    },
    {
      "cell_type": "markdown",
      "metadata": {
        "id": "BkmZK_LjOQ9q"
      },
      "source": [
        "##**7.3. Multilayer Perceptrons (MLPs) - Học sâu**"
      ]
    },
    {
      "cell_type": "code",
      "execution_count": null,
      "metadata": {
        "id": "Z6SbM0hIOfXR",
        "colab": {
          "base_uri": "https://localhost:8080/"
        },
        "outputId": "0954fc6f-c7db-4ba8-f95f-cbf3896e774a"
      },
      "outputs": [
        {
          "output_type": "execute_result",
          "data": {
            "text/plain": [
              "MLPClassifier(alpha=0.001, hidden_layer_sizes=[100, 100, 100])"
            ]
          },
          "metadata": {},
          "execution_count": 28
        }
      ],
      "source": [
        "# Multilayer Perceptrons model\n",
        "from sklearn.neural_network import MLPClassifier\n",
        "\n",
        "# instantiate \n",
        "mlp = MLPClassifier(alpha=0.001, hidden_layer_sizes=([100,100,100]))\n",
        "\n",
        "# fit  \n",
        "mlp.fit(X_train, y_train)"
      ]
    },
    {
      "cell_type": "code",
      "execution_count": null,
      "metadata": {
        "id": "V5PHTtQsOhbk"
      },
      "outputs": [],
      "source": [
        "#predicting \n",
        "y_test_mlp = mlp.predict(X_test)\n",
        "y_train_mlp = mlp.predict(X_train)"
      ]
    },
    {
      "cell_type": "markdown",
      "metadata": {
        "id": "zAbA_enlOpXF"
      },
      "source": [
        "**Đánh giá hiệu suất**"
      ]
    },
    {
      "cell_type": "code",
      "execution_count": null,
      "metadata": {
        "id": "BCpvGhO1OmTq",
        "colab": {
          "base_uri": "https://localhost:8080/"
        },
        "outputId": "ea5c6083-03b0-4c51-dfff-b9dd54427c46"
      },
      "outputs": [
        {
          "output_type": "stream",
          "name": "stdout",
          "text": [
            "Multilayer Perceptrons: Accuracy on training Data: 0.861\n",
            "Multilayer Perceptrons: Accuracy on test Data: 0.859\n"
          ]
        }
      ],
      "source": [
        "#computing the accuracy\n",
        "acc_train_mlp = accuracy_score(y_train,y_train_mlp)\n",
        "acc_test_mlp = accuracy_score(y_test,y_test_mlp)\n",
        "\n",
        "print(\"Multilayer Perceptrons: Accuracy on training Data: {:.3f}\".format(acc_train_mlp))\n",
        "print(\"Multilayer Perceptrons: Accuracy on test Data: {:.3f}\".format(acc_test_mlp))"
      ]
    },
    {
      "cell_type": "markdown",
      "metadata": {
        "id": "w9Em2zu7Ovp-"
      },
      "source": [
        "**Lưu trữ kết quả**"
      ]
    },
    {
      "cell_type": "code",
      "execution_count": null,
      "metadata": {
        "id": "yY4WbLNMOyiA"
      },
      "outputs": [],
      "source": [
        "storeResults('Multilayer Perceptrons', acc_train_mlp, acc_test_mlp)"
      ]
    },
    {
      "cell_type": "markdown",
      "metadata": {
        "id": "mQcWx-AjO1R3"
      },
      "source": [
        "## **7.4. XGBoost Classifier**"
      ]
    },
    {
      "cell_type": "code",
      "execution_count": null,
      "metadata": {
        "id": "lc18IiIRO5Ql",
        "colab": {
          "base_uri": "https://localhost:8080/"
        },
        "outputId": "2ab69b73-ca05-4697-d76c-43d1e7173074"
      },
      "outputs": [
        {
          "output_type": "execute_result",
          "data": {
            "text/plain": [
              "XGBClassifier(learning_rate=0.4, max_depth=7)"
            ]
          },
          "metadata": {},
          "execution_count": 32
        }
      ],
      "source": [
        "#XGBoost Classification model\n",
        "from xgboost import XGBClassifier\n",
        "\n",
        "# instantiate\n",
        "xgb = XGBClassifier(learning_rate=0.4,max_depth=7)\n",
        "#fit\n",
        "xgb.fit(X_train, y_train)"
      ]
    },
    {
      "cell_type": "code",
      "execution_count": null,
      "metadata": {
        "id": "zsYyQSVeO_MS"
      },
      "outputs": [],
      "source": [
        "#predicting \n",
        "y_test_xgb = xgb.predict(X_test)\n",
        "y_train_xgb = xgb.predict(X_train)"
      ]
    },
    {
      "cell_type": "markdown",
      "metadata": {
        "id": "m9evkwbLPC9Y"
      },
      "source": [
        "**Đánh giá hiệu suất**"
      ]
    },
    {
      "cell_type": "code",
      "execution_count": null,
      "metadata": {
        "id": "U894_KF1PGPo",
        "colab": {
          "base_uri": "https://localhost:8080/"
        },
        "outputId": "5859aced-bef2-4dd7-c6ab-51919504f3a8"
      },
      "outputs": [
        {
          "output_type": "stream",
          "name": "stdout",
          "text": [
            "XGBoost: Accuracy on training Data: 0.866\n",
            "XGBoost : Accuracy on test Data: 0.867\n"
          ]
        }
      ],
      "source": [
        "#computing the accuracy \n",
        "acc_train_xgb = accuracy_score(y_train,y_train_xgb)\n",
        "acc_test_xgb = accuracy_score(y_test,y_test_xgb)\n",
        "\n",
        "print(\"XGBoost: Accuracy on training Data: {:.3f}\".format(acc_train_xgb))\n",
        "print(\"XGBoost : Accuracy on test Data: {:.3f}\".format(acc_test_xgb))"
      ]
    },
    {
      "cell_type": "markdown",
      "metadata": {
        "id": "rhx-2CmKPJp3"
      },
      "source": [
        "**Lưu trữ kết quả**"
      ]
    },
    {
      "cell_type": "code",
      "execution_count": null,
      "metadata": {
        "id": "GQYEnKqSPLCq"
      },
      "outputs": [],
      "source": [
        "storeResults('XGBoost', acc_train_xgb, acc_test_xgb)"
      ]
    },
    {
      "cell_type": "markdown",
      "metadata": {
        "id": "jS_0btviXw_-"
      },
      "source": [
        "## **7.5. Autoencoder Neural Network**\n",
        "***Bài tập số 1: Hoàn thành huấn luyến mô hình ANN.***"
      ]
    },
    {
      "cell_type": "markdown",
      "source": [
        "Sơ lược: \"Autoencoder\" là một model hay thuật toán nén dữ liệu trong đó các chức năng nén và giải nén là 1) data-specific, 2) lossy, and 3) learned automatically from examples thay vì do con người thiết kế. Ngoài ra, trong hầu hết các ngữ cảnh mà thuật ngữ \"Autoencoder\" được sử dụng, các chức năng nén và giải nén được triển khai với mạng thần kinh.\n",
        "\n",
        "Tìm hiểu một cách details với 3 từ khóa trên tại link sau: https://blog.keras.io/building-autoencoders-in-keras.html"
      ],
      "metadata": {
        "id": "fwmAqJPTiu3c"
      }
    },
    {
      "cell_type": "code",
      "source": [
        "import keras\n",
        "from keras import layers\n",
        "\n",
        "# This is the size of our encoded representations\n",
        "encoding_dim = 16  # 32 floats -> Lấy số chiều input của mình là 16, sau khi bỏ 'Domain' và 'label' và chia cho 24.5\n",
        "# nhưng số chiều encoding không được là số thập phân nên mình lấy giá trị 16. \n",
        "# Theo nhiều nguồn tham khảo thì `encoding_dim` nên là 7, 16, 32\n",
        "\n",
        "# Đây là input image đối với dữ liệu dạng ảnh. Mình có thể sử dụng lại cho mô hình phân loại của chúng\n",
        "input_img = keras.Input(shape=(16,)) # Chỉnh lại số chiều input theo dữ liệu của mình, sau khi bỏ 'Domain' và 'label' thì còn 16 cột.\n",
        "\n",
        "# \"encoded\" là layer dạng encode đại diện cho input\n",
        "encoded = layers.Dense(encoding_dim, activation='relu')(input_img)\n",
        "# \"decoded\" là layer dạng  lossy reconstruction của input.\n",
        "decoded = layers.Dense(16, activation='sigmoid')(encoded) # Chỉnh lại theo số chiều dữ liệu của mình ở đây\n",
        "\n",
        "#  model sẽ maps (ánh xạ) một input vào một reconstruction\n",
        "autoencoder = keras.Model(input_img, decoded)"
      ],
      "metadata": {
        "id": "nKIiko7r4J1o"
      },
      "execution_count": null,
      "outputs": []
    },
    {
      "cell_type": "code",
      "source": [
        "# Còn model này sẽ map input thành bản bị encoded của nó\n",
        "encoder = keras.Model(input_img, encoded)"
      ],
      "metadata": {
        "id": "9P-JIcmh54FJ"
      },
      "execution_count": null,
      "outputs": []
    },
    {
      "cell_type": "code",
      "source": [
        "# Đây là input (đã bị encoded) với số chiều 16 \n",
        "encoded_input = keras.Input(shape=(encoding_dim,))\n",
        "# Lấy output layer từ model Autoencoder\n",
        "decoder_layer = autoencoder.layers[-1]\n",
        "# Tạo model Decoder\n",
        "decoder = keras.Model(encoded_input, decoder_layer(encoded_input))"
      ],
      "metadata": {
        "id": "daawn6zr6EUK"
      },
      "execution_count": null,
      "outputs": []
    },
    {
      "cell_type": "code",
      "source": [
        "autoencoder.compile(optimizer='adam', loss='binary_crossentropy', metrics=['accuracy'])"
      ],
      "metadata": {
        "id": "K1hAV7Nr6TC-"
      },
      "execution_count": null,
      "outputs": []
    },
    {
      "cell_type": "code",
      "source": [
        "autoencoder.fit(X_train, X_train,\n",
        "                epochs=50,\n",
        "                batch_size=256,\n",
        "                shuffle=True,\n",
        "                #validation_split=0.2,\n",
        "                validation_data=(X_test, X_test)\n",
        "                )"
      ],
      "metadata": {
        "id": "Cs6DRBxO6il2",
        "colab": {
          "base_uri": "https://localhost:8080/"
        },
        "outputId": "ab98a2e6-8327-41ab-f96a-c6b966fc2483"
      },
      "execution_count": null,
      "outputs": [
        {
          "output_type": "stream",
          "name": "stdout",
          "text": [
            "Epoch 1/50\n",
            "32/32 [==============================] - 1s 7ms/step - loss: 0.2573 - accuracy: 0.6708 - val_loss: 0.0652 - val_accuracy: 0.8410\n",
            "Epoch 2/50\n",
            "32/32 [==============================] - 0s 3ms/step - loss: -0.1483 - accuracy: 0.8455 - val_loss: -0.3462 - val_accuracy: 0.8410\n",
            "Epoch 3/50\n",
            "32/32 [==============================] - 0s 2ms/step - loss: -0.5869 - accuracy: 0.8453 - val_loss: -0.7939 - val_accuracy: 0.8410\n",
            "Epoch 4/50\n",
            "32/32 [==============================] - 0s 3ms/step - loss: -1.0690 - accuracy: 0.8453 - val_loss: -1.2923 - val_accuracy: 0.8410\n",
            "Epoch 5/50\n",
            "32/32 [==============================] - 0s 2ms/step - loss: -1.6259 - accuracy: 0.8453 - val_loss: -1.8811 - val_accuracy: 0.8410\n",
            "Epoch 6/50\n",
            "32/32 [==============================] - 0s 3ms/step - loss: -2.2844 - accuracy: 0.8453 - val_loss: -2.5767 - val_accuracy: 0.8410\n",
            "Epoch 7/50\n",
            "32/32 [==============================] - 0s 3ms/step - loss: -3.0602 - accuracy: 0.8453 - val_loss: -3.3953 - val_accuracy: 0.8410\n",
            "Epoch 8/50\n",
            "32/32 [==============================] - 0s 3ms/step - loss: -3.9739 - accuracy: 0.8453 - val_loss: -4.3526 - val_accuracy: 0.8410\n",
            "Epoch 9/50\n",
            "32/32 [==============================] - 0s 3ms/step - loss: -5.0498 - accuracy: 0.8453 - val_loss: -5.4970 - val_accuracy: 0.8410\n",
            "Epoch 10/50\n",
            "32/32 [==============================] - 0s 3ms/step - loss: -6.3180 - accuracy: 0.8453 - val_loss: -6.8071 - val_accuracy: 0.8410\n",
            "Epoch 11/50\n",
            "32/32 [==============================] - 0s 2ms/step - loss: -7.7553 - accuracy: 0.8453 - val_loss: -8.2816 - val_accuracy: 0.8410\n",
            "Epoch 12/50\n",
            "32/32 [==============================] - 0s 3ms/step - loss: -9.3564 - accuracy: 0.8453 - val_loss: -9.9225 - val_accuracy: 0.8410\n",
            "Epoch 13/50\n",
            "32/32 [==============================] - 0s 2ms/step - loss: -11.1386 - accuracy: 0.8453 - val_loss: -11.7600 - val_accuracy: 0.8410\n",
            "Epoch 14/50\n",
            "32/32 [==============================] - 0s 3ms/step - loss: -13.1374 - accuracy: 0.8453 - val_loss: -13.8041 - val_accuracy: 0.8410\n",
            "Epoch 15/50\n",
            "32/32 [==============================] - 0s 3ms/step - loss: -15.3399 - accuracy: 0.8453 - val_loss: -16.0162 - val_accuracy: 0.8410\n",
            "Epoch 16/50\n",
            "32/32 [==============================] - 0s 2ms/step - loss: -17.7027 - accuracy: 0.8453 - val_loss: -18.4023 - val_accuracy: 0.8410\n",
            "Epoch 17/50\n",
            "32/32 [==============================] - 0s 3ms/step - loss: -20.2401 - accuracy: 0.8453 - val_loss: -20.9455 - val_accuracy: 0.8410\n",
            "Epoch 18/50\n",
            "32/32 [==============================] - 0s 3ms/step - loss: -22.9714 - accuracy: 0.8453 - val_loss: -23.6614 - val_accuracy: 0.8410\n",
            "Epoch 19/50\n",
            "32/32 [==============================] - 0s 3ms/step - loss: -25.8820 - accuracy: 0.8453 - val_loss: -26.6305 - val_accuracy: 0.8410\n",
            "Epoch 20/50\n",
            "32/32 [==============================] - 0s 2ms/step - loss: -29.0142 - accuracy: 0.8453 - val_loss: -29.7348 - val_accuracy: 0.8410\n",
            "Epoch 21/50\n",
            "32/32 [==============================] - 0s 3ms/step - loss: -32.3526 - accuracy: 0.8453 - val_loss: -33.0759 - val_accuracy: 0.8410\n",
            "Epoch 22/50\n",
            "32/32 [==============================] - 0s 3ms/step - loss: -35.8855 - accuracy: 0.8453 - val_loss: -36.6152 - val_accuracy: 0.8410\n",
            "Epoch 23/50\n",
            "32/32 [==============================] - 0s 2ms/step - loss: -39.5947 - accuracy: 0.8453 - val_loss: -40.3103 - val_accuracy: 0.8410\n",
            "Epoch 24/50\n",
            "32/32 [==============================] - 0s 2ms/step - loss: -43.4888 - accuracy: 0.8453 - val_loss: -44.1278 - val_accuracy: 0.8410\n",
            "Epoch 25/50\n",
            "32/32 [==============================] - 0s 3ms/step - loss: -47.5209 - accuracy: 0.8453 - val_loss: -48.1194 - val_accuracy: 0.8410\n",
            "Epoch 26/50\n",
            "32/32 [==============================] - 0s 3ms/step - loss: -51.8001 - accuracy: 0.8453 - val_loss: -52.4305 - val_accuracy: 0.8410\n",
            "Epoch 27/50\n",
            "32/32 [==============================] - 0s 2ms/step - loss: -56.3749 - accuracy: 0.8453 - val_loss: -56.9760 - val_accuracy: 0.8410\n",
            "Epoch 28/50\n",
            "32/32 [==============================] - 0s 2ms/step - loss: -61.1764 - accuracy: 0.8453 - val_loss: -61.7369 - val_accuracy: 0.8410\n",
            "Epoch 29/50\n",
            "32/32 [==============================] - 0s 3ms/step - loss: -66.1736 - accuracy: 0.8453 - val_loss: -66.6764 - val_accuracy: 0.8410\n",
            "Epoch 30/50\n",
            "32/32 [==============================] - 0s 3ms/step - loss: -71.3342 - accuracy: 0.8453 - val_loss: -71.7652 - val_accuracy: 0.8410\n",
            "Epoch 31/50\n",
            "32/32 [==============================] - 0s 2ms/step - loss: -76.6647 - accuracy: 0.8453 - val_loss: -76.9835 - val_accuracy: 0.8410\n",
            "Epoch 32/50\n",
            "32/32 [==============================] - 0s 8ms/step - loss: -82.1419 - accuracy: 0.8453 - val_loss: -82.4145 - val_accuracy: 0.8410\n",
            "Epoch 33/50\n",
            "32/32 [==============================] - 0s 2ms/step - loss: -87.7790 - accuracy: 0.8453 - val_loss: -87.9245 - val_accuracy: 0.8410\n",
            "Epoch 34/50\n",
            "32/32 [==============================] - 0s 2ms/step - loss: -93.5988 - accuracy: 0.8453 - val_loss: -93.6033 - val_accuracy: 0.8410\n",
            "Epoch 35/50\n",
            "32/32 [==============================] - 0s 3ms/step - loss: -99.5468 - accuracy: 0.8453 - val_loss: -99.4360 - val_accuracy: 0.8410\n",
            "Epoch 36/50\n",
            "32/32 [==============================] - 0s 2ms/step - loss: -105.6187 - accuracy: 0.8453 - val_loss: -105.4426 - val_accuracy: 0.8410\n",
            "Epoch 37/50\n",
            "32/32 [==============================] - 0s 3ms/step - loss: -111.8981 - accuracy: 0.8453 - val_loss: -111.5902 - val_accuracy: 0.8410\n",
            "Epoch 38/50\n",
            "32/32 [==============================] - 0s 3ms/step - loss: -118.2922 - accuracy: 0.8453 - val_loss: -117.8114 - val_accuracy: 0.8410\n",
            "Epoch 39/50\n",
            "32/32 [==============================] - 0s 4ms/step - loss: -124.7950 - accuracy: 0.8453 - val_loss: -124.2320 - val_accuracy: 0.8410\n",
            "Epoch 40/50\n",
            "32/32 [==============================] - 0s 5ms/step - loss: -131.4729 - accuracy: 0.8453 - val_loss: -130.7276 - val_accuracy: 0.8410\n",
            "Epoch 41/50\n",
            "32/32 [==============================] - 0s 2ms/step - loss: -138.2977 - accuracy: 0.8453 - val_loss: -137.4472 - val_accuracy: 0.8410\n",
            "Epoch 42/50\n",
            "32/32 [==============================] - 0s 2ms/step - loss: -145.2433 - accuracy: 0.8453 - val_loss: -144.2230 - val_accuracy: 0.8410\n",
            "Epoch 43/50\n",
            "32/32 [==============================] - 0s 2ms/step - loss: -152.3514 - accuracy: 0.8453 - val_loss: -151.2510 - val_accuracy: 0.8410\n",
            "Epoch 44/50\n",
            "32/32 [==============================] - 0s 3ms/step - loss: -159.6057 - accuracy: 0.8453 - val_loss: -158.2221 - val_accuracy: 0.8410\n",
            "Epoch 45/50\n",
            "32/32 [==============================] - 0s 2ms/step - loss: -166.9012 - accuracy: 0.8453 - val_loss: -165.4330 - val_accuracy: 0.8410\n",
            "Epoch 46/50\n",
            "32/32 [==============================] - 0s 3ms/step - loss: -174.4016 - accuracy: 0.8453 - val_loss: -172.7140 - val_accuracy: 0.8410\n",
            "Epoch 47/50\n",
            "32/32 [==============================] - 0s 8ms/step - loss: -181.9938 - accuracy: 0.8453 - val_loss: -180.1618 - val_accuracy: 0.8410\n",
            "Epoch 48/50\n",
            "32/32 [==============================] - 0s 3ms/step - loss: -189.7127 - accuracy: 0.8453 - val_loss: -187.7590 - val_accuracy: 0.8410\n",
            "Epoch 49/50\n",
            "32/32 [==============================] - 0s 3ms/step - loss: -197.5967 - accuracy: 0.8453 - val_loss: -195.4369 - val_accuracy: 0.8410\n",
            "Epoch 50/50\n",
            "32/32 [==============================] - 0s 3ms/step - loss: -205.6114 - accuracy: 0.8453 - val_loss: -203.2171 - val_accuracy: 0.8410\n"
          ]
        },
        {
          "output_type": "execute_result",
          "data": {
            "text/plain": [
              "<keras.callbacks.History at 0x7f5981233250>"
            ]
          },
          "metadata": {},
          "execution_count": 40
        }
      ]
    },
    {
      "cell_type": "code",
      "source": [
        "acc_train_auto = autoencoder.evaluate(X_train, X_train)[1]\n",
        "acc_test_auto = autoencoder.evaluate(X_test, X_test)[1]\n",
        "\n",
        "print('\\nAutoencoder: Accuracy on training Data: {:.3f}' .format(acc_train_auto))\n",
        "print('Autoencoder: Accuracy on test Data: {:.3f}' .format(acc_test_auto))"
      ],
      "metadata": {
        "id": "Z3T0458YJvgb",
        "colab": {
          "base_uri": "https://localhost:8080/"
        },
        "outputId": "efbf3020-eeab-4672-b22b-0a9fc7081325"
      },
      "execution_count": null,
      "outputs": [
        {
          "output_type": "stream",
          "name": "stdout",
          "text": [
            "250/250 [==============================] - 0s 1ms/step - loss: -209.8592 - accuracy: 0.8453\n",
            "63/63 [==============================] - 0s 1ms/step - loss: -203.2171 - accuracy: 0.8410\n",
            "\n",
            "Autoencoder: Accuracy on training Data: 0.845\n",
            "Autoencoder: Accuracy on test Data: 0.841\n"
          ]
        }
      ]
    },
    {
      "cell_type": "code",
      "source": [
        "storeResults('Autoencoder Neural Network', acc_train_auto, acc_test_auto) # Lưu trữ kết quả "
      ],
      "metadata": {
        "id": "DsDtFfJIJ5iI"
      },
      "execution_count": null,
      "outputs": []
    },
    {
      "cell_type": "markdown",
      "metadata": {
        "id": "BDBZI46PYRHD"
      },
      "source": [
        "## **7.6. Support Vector Machines**\n",
        "***Bài tập số 2: Hoàn thành huấn luyến mô hình SVM.***"
      ]
    },
    {
      "cell_type": "code",
      "source": [
        "from sklearn.svm import SVC\n",
        "svm = SVC(kernel='linear')\n",
        "svm.fit(X_train, y_train)"
      ],
      "metadata": {
        "id": "BsE-O3SgDKbi",
        "colab": {
          "base_uri": "https://localhost:8080/"
        },
        "outputId": "3b41d3b6-a99b-4243-eece-5a77c64f9d29"
      },
      "execution_count": null,
      "outputs": [
        {
          "output_type": "execute_result",
          "data": {
            "text/plain": [
              "SVC(kernel='linear')"
            ]
          },
          "metadata": {},
          "execution_count": 43
        }
      ]
    },
    {
      "cell_type": "markdown",
      "source": [
        "In ra nhiều chỉ số theo sách giáo khoa cho màu mè ^____^, khỏi mất công dùng hàm của người ta. Hiệu suất này đang lấy theo **Test Data**"
      ],
      "metadata": {
        "id": "psDPvNrEeZrB"
      }
    },
    {
      "cell_type": "code",
      "source": [
        "from sklearn.metrics import confusion_matrix\n",
        "\n",
        "y_pred = svm.predict(X_test)\n",
        "\n",
        "tn, fp, fn, tp = confusion_matrix(y_test, y_pred).ravel()\n",
        "\n",
        "print(\"Accuracy: \", round((tp + tn) / (tp + tn + fp + fn), 8))\n",
        "print('False positive rate(FPR): ', round(fp / (fp + tn), 8))\n",
        "print('False negative rate(FN): ', round(fn / (fn + tp), 8))\n",
        "recall = round(tp / (tp + fn), 8)\n",
        "print('Recall(TPR): ', recall)\n",
        "precision = round(tp / (tp + fp), 8)\n",
        "print('Precision: ', precision)\n",
        "print('F1 score: ', round((2 * precision * recall) / (precision + recall), 8))"
      ],
      "metadata": {
        "id": "qWsM2T2fD_Qt",
        "colab": {
          "base_uri": "https://localhost:8080/"
        },
        "outputId": "7ea2101b-3df5-4677-ca5d-9d80220c768e"
      },
      "execution_count": null,
      "outputs": [
        {
          "output_type": "stream",
          "name": "stdout",
          "text": [
            "Accuracy:  0.8115\n",
            "False positive rate(FPR):  0.02366864\n",
            "False negative rate(FN):  0.35801217\n",
            "Recall(TPR):  0.64198783\n",
            "Precision:  0.96347032\n",
            "F1 score:  0.77054169\n"
          ]
        }
      ]
    },
    {
      "cell_type": "code",
      "source": [
        "#predicting \n",
        "y_test_svm = svm.predict(X_test)\n",
        "y_train_svm = svm.predict(X_train)"
      ],
      "metadata": {
        "id": "e_FQ0Kp_I7ni"
      },
      "execution_count": null,
      "outputs": []
    },
    {
      "cell_type": "code",
      "source": [
        "#computing the accuracy \n",
        "acc_train_svm = accuracy_score(y_train,y_train_svm)\n",
        "acc_test_svm = accuracy_score(y_test,y_test_svm)\n",
        "\n",
        "print(\"XGBoost: Accuracy on training Data: {:.3f}\".format(acc_train_svm))\n",
        "print(\"XGBoost : Accuracy on test Data: {:.3f}\".format(acc_test_svm))"
      ],
      "metadata": {
        "id": "HTjgo7thI8vZ",
        "colab": {
          "base_uri": "https://localhost:8080/"
        },
        "outputId": "87e61fbe-55b2-40b8-e408-33db551bfd11"
      },
      "execution_count": null,
      "outputs": [
        {
          "output_type": "stream",
          "name": "stdout",
          "text": [
            "XGBoost: Accuracy on training Data: 0.800\n",
            "XGBoost : Accuracy on test Data: 0.811\n"
          ]
        }
      ]
    },
    {
      "cell_type": "code",
      "source": [
        "storeResults('Support Vector Machines', acc_train_svm, acc_test_svm)"
      ],
      "metadata": {
        "id": "wtTKgLF7I-Hi"
      },
      "execution_count": null,
      "outputs": []
    },
    {
      "cell_type": "markdown",
      "metadata": {
        "id": "AHI8pnJfYkr7"
      },
      "source": [
        "# **8. So sánh các mô hình**"
      ]
    },
    {
      "cell_type": "code",
      "execution_count": null,
      "metadata": {
        "id": "YR2hCekiYwz7",
        "colab": {
          "base_uri": "https://localhost:8080/",
          "height": 238
        },
        "outputId": "211cce10-311e-4386-b392-24202a837efe"
      },
      "outputs": [
        {
          "output_type": "execute_result",
          "data": {
            "text/plain": [
              "                     ML Model  Train Accuracy  Test Accuracy\n",
              "0               Decision Tree           0.811          0.823\n",
              "1               Random Forest           0.816          0.827\n",
              "2      Multilayer Perceptrons           0.861          0.858\n",
              "3                     XGBoost           0.866          0.867\n",
              "4  Autoencoder Neural Network           0.845          0.841\n",
              "5     Support Vector Machines           0.800          0.812"
            ],
            "text/html": [
              "\n",
              "  <div id=\"df-ada1757c-f900-44a6-bb5f-4f13c97f9d22\">\n",
              "    <div class=\"colab-df-container\">\n",
              "      <div>\n",
              "<style scoped>\n",
              "    .dataframe tbody tr th:only-of-type {\n",
              "        vertical-align: middle;\n",
              "    }\n",
              "\n",
              "    .dataframe tbody tr th {\n",
              "        vertical-align: top;\n",
              "    }\n",
              "\n",
              "    .dataframe thead th {\n",
              "        text-align: right;\n",
              "    }\n",
              "</style>\n",
              "<table border=\"1\" class=\"dataframe\">\n",
              "  <thead>\n",
              "    <tr style=\"text-align: right;\">\n",
              "      <th></th>\n",
              "      <th>ML Model</th>\n",
              "      <th>Train Accuracy</th>\n",
              "      <th>Test Accuracy</th>\n",
              "    </tr>\n",
              "  </thead>\n",
              "  <tbody>\n",
              "    <tr>\n",
              "      <th>0</th>\n",
              "      <td>Decision Tree</td>\n",
              "      <td>0.811</td>\n",
              "      <td>0.823</td>\n",
              "    </tr>\n",
              "    <tr>\n",
              "      <th>1</th>\n",
              "      <td>Random Forest</td>\n",
              "      <td>0.816</td>\n",
              "      <td>0.827</td>\n",
              "    </tr>\n",
              "    <tr>\n",
              "      <th>2</th>\n",
              "      <td>Multilayer Perceptrons</td>\n",
              "      <td>0.861</td>\n",
              "      <td>0.858</td>\n",
              "    </tr>\n",
              "    <tr>\n",
              "      <th>3</th>\n",
              "      <td>XGBoost</td>\n",
              "      <td>0.866</td>\n",
              "      <td>0.867</td>\n",
              "    </tr>\n",
              "    <tr>\n",
              "      <th>4</th>\n",
              "      <td>Autoencoder Neural Network</td>\n",
              "      <td>0.845</td>\n",
              "      <td>0.841</td>\n",
              "    </tr>\n",
              "    <tr>\n",
              "      <th>5</th>\n",
              "      <td>Support Vector Machines</td>\n",
              "      <td>0.800</td>\n",
              "      <td>0.812</td>\n",
              "    </tr>\n",
              "  </tbody>\n",
              "</table>\n",
              "</div>\n",
              "      <button class=\"colab-df-convert\" onclick=\"convertToInteractive('df-ada1757c-f900-44a6-bb5f-4f13c97f9d22')\"\n",
              "              title=\"Convert this dataframe to an interactive table.\"\n",
              "              style=\"display:none;\">\n",
              "        \n",
              "  <svg xmlns=\"http://www.w3.org/2000/svg\" height=\"24px\"viewBox=\"0 0 24 24\"\n",
              "       width=\"24px\">\n",
              "    <path d=\"M0 0h24v24H0V0z\" fill=\"none\"/>\n",
              "    <path d=\"M18.56 5.44l.94 2.06.94-2.06 2.06-.94-2.06-.94-.94-2.06-.94 2.06-2.06.94zm-11 1L8.5 8.5l.94-2.06 2.06-.94-2.06-.94L8.5 2.5l-.94 2.06-2.06.94zm10 10l.94 2.06.94-2.06 2.06-.94-2.06-.94-.94-2.06-.94 2.06-2.06.94z\"/><path d=\"M17.41 7.96l-1.37-1.37c-.4-.4-.92-.59-1.43-.59-.52 0-1.04.2-1.43.59L10.3 9.45l-7.72 7.72c-.78.78-.78 2.05 0 2.83L4 21.41c.39.39.9.59 1.41.59.51 0 1.02-.2 1.41-.59l7.78-7.78 2.81-2.81c.8-.78.8-2.07 0-2.86zM5.41 20L4 18.59l7.72-7.72 1.47 1.35L5.41 20z\"/>\n",
              "  </svg>\n",
              "      </button>\n",
              "      \n",
              "  <style>\n",
              "    .colab-df-container {\n",
              "      display:flex;\n",
              "      flex-wrap:wrap;\n",
              "      gap: 12px;\n",
              "    }\n",
              "\n",
              "    .colab-df-convert {\n",
              "      background-color: #E8F0FE;\n",
              "      border: none;\n",
              "      border-radius: 50%;\n",
              "      cursor: pointer;\n",
              "      display: none;\n",
              "      fill: #1967D2;\n",
              "      height: 32px;\n",
              "      padding: 0 0 0 0;\n",
              "      width: 32px;\n",
              "    }\n",
              "\n",
              "    .colab-df-convert:hover {\n",
              "      background-color: #E2EBFA;\n",
              "      box-shadow: 0px 1px 2px rgba(60, 64, 67, 0.3), 0px 1px 3px 1px rgba(60, 64, 67, 0.15);\n",
              "      fill: #174EA6;\n",
              "    }\n",
              "\n",
              "    [theme=dark] .colab-df-convert {\n",
              "      background-color: #3B4455;\n",
              "      fill: #D2E3FC;\n",
              "    }\n",
              "\n",
              "    [theme=dark] .colab-df-convert:hover {\n",
              "      background-color: #434B5C;\n",
              "      box-shadow: 0px 1px 3px 1px rgba(0, 0, 0, 0.15);\n",
              "      filter: drop-shadow(0px 1px 2px rgba(0, 0, 0, 0.3));\n",
              "      fill: #FFFFFF;\n",
              "    }\n",
              "  </style>\n",
              "\n",
              "      <script>\n",
              "        const buttonEl =\n",
              "          document.querySelector('#df-ada1757c-f900-44a6-bb5f-4f13c97f9d22 button.colab-df-convert');\n",
              "        buttonEl.style.display =\n",
              "          google.colab.kernel.accessAllowed ? 'block' : 'none';\n",
              "\n",
              "        async function convertToInteractive(key) {\n",
              "          const element = document.querySelector('#df-ada1757c-f900-44a6-bb5f-4f13c97f9d22');\n",
              "          const dataTable =\n",
              "            await google.colab.kernel.invokeFunction('convertToInteractive',\n",
              "                                                     [key], {});\n",
              "          if (!dataTable) return;\n",
              "\n",
              "          const docLinkHtml = 'Like what you see? Visit the ' +\n",
              "            '<a target=\"_blank\" href=https://colab.research.google.com/notebooks/data_table.ipynb>data table notebook</a>'\n",
              "            + ' to learn more about interactive tables.';\n",
              "          element.innerHTML = '';\n",
              "          dataTable['output_type'] = 'display_data';\n",
              "          await google.colab.output.renderOutput(dataTable, element);\n",
              "          const docLink = document.createElement('div');\n",
              "          docLink.innerHTML = docLinkHtml;\n",
              "          element.appendChild(docLink);\n",
              "        }\n",
              "      </script>\n",
              "    </div>\n",
              "  </div>\n",
              "  "
            ]
          },
          "metadata": {},
          "execution_count": 48
        }
      ],
      "source": [
        "results = pd.DataFrame({ 'ML Model': ML_Model,    \n",
        "    'Train Accuracy': acc_train,\n",
        "    'Test Accuracy': acc_test})\n",
        "results"
      ]
    },
    {
      "cell_type": "code",
      "execution_count": null,
      "metadata": {
        "id": "xaNM8_r4Y0zR",
        "colab": {
          "base_uri": "https://localhost:8080/",
          "height": 238
        },
        "outputId": "2bd0f5c2-a355-48bf-f79a-6086047b65c3"
      },
      "outputs": [
        {
          "output_type": "execute_result",
          "data": {
            "text/plain": [
              "                     ML Model  Train Accuracy  Test Accuracy\n",
              "3                     XGBoost           0.866          0.867\n",
              "2      Multilayer Perceptrons           0.861          0.858\n",
              "4  Autoencoder Neural Network           0.845          0.841\n",
              "1               Random Forest           0.816          0.827\n",
              "0               Decision Tree           0.811          0.823\n",
              "5     Support Vector Machines           0.800          0.812"
            ],
            "text/html": [
              "\n",
              "  <div id=\"df-0d555c84-6d0b-451f-9aeb-f4319bf54975\">\n",
              "    <div class=\"colab-df-container\">\n",
              "      <div>\n",
              "<style scoped>\n",
              "    .dataframe tbody tr th:only-of-type {\n",
              "        vertical-align: middle;\n",
              "    }\n",
              "\n",
              "    .dataframe tbody tr th {\n",
              "        vertical-align: top;\n",
              "    }\n",
              "\n",
              "    .dataframe thead th {\n",
              "        text-align: right;\n",
              "    }\n",
              "</style>\n",
              "<table border=\"1\" class=\"dataframe\">\n",
              "  <thead>\n",
              "    <tr style=\"text-align: right;\">\n",
              "      <th></th>\n",
              "      <th>ML Model</th>\n",
              "      <th>Train Accuracy</th>\n",
              "      <th>Test Accuracy</th>\n",
              "    </tr>\n",
              "  </thead>\n",
              "  <tbody>\n",
              "    <tr>\n",
              "      <th>3</th>\n",
              "      <td>XGBoost</td>\n",
              "      <td>0.866</td>\n",
              "      <td>0.867</td>\n",
              "    </tr>\n",
              "    <tr>\n",
              "      <th>2</th>\n",
              "      <td>Multilayer Perceptrons</td>\n",
              "      <td>0.861</td>\n",
              "      <td>0.858</td>\n",
              "    </tr>\n",
              "    <tr>\n",
              "      <th>4</th>\n",
              "      <td>Autoencoder Neural Network</td>\n",
              "      <td>0.845</td>\n",
              "      <td>0.841</td>\n",
              "    </tr>\n",
              "    <tr>\n",
              "      <th>1</th>\n",
              "      <td>Random Forest</td>\n",
              "      <td>0.816</td>\n",
              "      <td>0.827</td>\n",
              "    </tr>\n",
              "    <tr>\n",
              "      <th>0</th>\n",
              "      <td>Decision Tree</td>\n",
              "      <td>0.811</td>\n",
              "      <td>0.823</td>\n",
              "    </tr>\n",
              "    <tr>\n",
              "      <th>5</th>\n",
              "      <td>Support Vector Machines</td>\n",
              "      <td>0.800</td>\n",
              "      <td>0.812</td>\n",
              "    </tr>\n",
              "  </tbody>\n",
              "</table>\n",
              "</div>\n",
              "      <button class=\"colab-df-convert\" onclick=\"convertToInteractive('df-0d555c84-6d0b-451f-9aeb-f4319bf54975')\"\n",
              "              title=\"Convert this dataframe to an interactive table.\"\n",
              "              style=\"display:none;\">\n",
              "        \n",
              "  <svg xmlns=\"http://www.w3.org/2000/svg\" height=\"24px\"viewBox=\"0 0 24 24\"\n",
              "       width=\"24px\">\n",
              "    <path d=\"M0 0h24v24H0V0z\" fill=\"none\"/>\n",
              "    <path d=\"M18.56 5.44l.94 2.06.94-2.06 2.06-.94-2.06-.94-.94-2.06-.94 2.06-2.06.94zm-11 1L8.5 8.5l.94-2.06 2.06-.94-2.06-.94L8.5 2.5l-.94 2.06-2.06.94zm10 10l.94 2.06.94-2.06 2.06-.94-2.06-.94-.94-2.06-.94 2.06-2.06.94z\"/><path d=\"M17.41 7.96l-1.37-1.37c-.4-.4-.92-.59-1.43-.59-.52 0-1.04.2-1.43.59L10.3 9.45l-7.72 7.72c-.78.78-.78 2.05 0 2.83L4 21.41c.39.39.9.59 1.41.59.51 0 1.02-.2 1.41-.59l7.78-7.78 2.81-2.81c.8-.78.8-2.07 0-2.86zM5.41 20L4 18.59l7.72-7.72 1.47 1.35L5.41 20z\"/>\n",
              "  </svg>\n",
              "      </button>\n",
              "      \n",
              "  <style>\n",
              "    .colab-df-container {\n",
              "      display:flex;\n",
              "      flex-wrap:wrap;\n",
              "      gap: 12px;\n",
              "    }\n",
              "\n",
              "    .colab-df-convert {\n",
              "      background-color: #E8F0FE;\n",
              "      border: none;\n",
              "      border-radius: 50%;\n",
              "      cursor: pointer;\n",
              "      display: none;\n",
              "      fill: #1967D2;\n",
              "      height: 32px;\n",
              "      padding: 0 0 0 0;\n",
              "      width: 32px;\n",
              "    }\n",
              "\n",
              "    .colab-df-convert:hover {\n",
              "      background-color: #E2EBFA;\n",
              "      box-shadow: 0px 1px 2px rgba(60, 64, 67, 0.3), 0px 1px 3px 1px rgba(60, 64, 67, 0.15);\n",
              "      fill: #174EA6;\n",
              "    }\n",
              "\n",
              "    [theme=dark] .colab-df-convert {\n",
              "      background-color: #3B4455;\n",
              "      fill: #D2E3FC;\n",
              "    }\n",
              "\n",
              "    [theme=dark] .colab-df-convert:hover {\n",
              "      background-color: #434B5C;\n",
              "      box-shadow: 0px 1px 3px 1px rgba(0, 0, 0, 0.15);\n",
              "      filter: drop-shadow(0px 1px 2px rgba(0, 0, 0, 0.3));\n",
              "      fill: #FFFFFF;\n",
              "    }\n",
              "  </style>\n",
              "\n",
              "      <script>\n",
              "        const buttonEl =\n",
              "          document.querySelector('#df-0d555c84-6d0b-451f-9aeb-f4319bf54975 button.colab-df-convert');\n",
              "        buttonEl.style.display =\n",
              "          google.colab.kernel.accessAllowed ? 'block' : 'none';\n",
              "\n",
              "        async function convertToInteractive(key) {\n",
              "          const element = document.querySelector('#df-0d555c84-6d0b-451f-9aeb-f4319bf54975');\n",
              "          const dataTable =\n",
              "            await google.colab.kernel.invokeFunction('convertToInteractive',\n",
              "                                                     [key], {});\n",
              "          if (!dataTable) return;\n",
              "\n",
              "          const docLinkHtml = 'Like what you see? Visit the ' +\n",
              "            '<a target=\"_blank\" href=https://colab.research.google.com/notebooks/data_table.ipynb>data table notebook</a>'\n",
              "            + ' to learn more about interactive tables.';\n",
              "          element.innerHTML = '';\n",
              "          dataTable['output_type'] = 'display_data';\n",
              "          await google.colab.output.renderOutput(dataTable, element);\n",
              "          const docLink = document.createElement('div');\n",
              "          docLink.innerHTML = docLinkHtml;\n",
              "          element.appendChild(docLink);\n",
              "        }\n",
              "      </script>\n",
              "    </div>\n",
              "  </div>\n",
              "  "
            ]
          },
          "metadata": {},
          "execution_count": 49
        }
      ],
      "source": [
        "#Sort accuracy\n",
        "results.sort_values(by=['Test Accuracy', 'Train Accuracy'], ascending=False)"
      ]
    },
    {
      "cell_type": "markdown",
      "metadata": {
        "id": "KxoOdM_8ZSb0"
      },
      "source": [
        "***Bài tập số 3: Cho biết kết quả so sánh mô hình, sau đó viết code lưu trữ mô hình.***"
      ]
    },
    {
      "cell_type": "markdown",
      "source": [
        "*\\<Các bước lưu chỉ số và kết quả so sánh mình đã thực hiện ở trên một cách mỹ miều nên ở đây mình không trình bày lại nữa\\>*"
      ],
      "metadata": {
        "id": "isl5-sNsaS1u"
      }
    },
    {
      "cell_type": "markdown",
      "source": [
        "Lưu trữ model của keras của mục [7.5](#scrollTo=7_5_Autoencoder_Neural_Network)"
      ],
      "metadata": {
        "id": "HfxHSB2UILca"
      }
    },
    {
      "cell_type": "code",
      "source": [
        "autoencoder.save(\"/content/drive/MyDrive/Lab/Lab4/Output Model/AutoencoderNN.h5\")"
      ],
      "metadata": {
        "id": "2mAxXitAE0M4"
      },
      "execution_count": null,
      "outputs": []
    },
    {
      "cell_type": "code",
      "source": [
        "!ls \"/content/drive/MyDrive/Lab/Lab4/Output Model/\""
      ],
      "metadata": {
        "id": "eYgYsr6Clxfa",
        "colab": {
          "base_uri": "https://localhost:8080/"
        },
        "outputId": "0c3f73bb-afc7-40ef-b585-281bba27298a"
      },
      "execution_count": null,
      "outputs": [
        {
          "output_type": "stream",
          "name": "stdout",
          "text": [
            "AutoencoderNN.h5\n"
          ]
        }
      ]
    },
    {
      "cell_type": "markdown",
      "metadata": {
        "id": "m8ZvOsAwZefV"
      },
      "source": [
        "# **9. Trích dẫn**\n",
        "https://blog.keras.io/building-autoencoders-in-keras.html\n",
        "https://en.wikipedia.org/wiki/Autoencoder\n",
        "https://mc.ai/a-beginners-guide-to-build-stacked-autoencoder-and-tying-weights-with-it/\n",
        "https://github.com/shreyagopal/t81_558_deep_learning/blob/master/t81_558_class_14_03_anomaly.ipynb\n",
        "https://machinelearningmastery.com/save-gradient-boosting-models-xgboost-python/"
      ]
    },
    {
      "cell_type": "markdown",
      "metadata": {
        "id": "V9atv6vAa21N"
      },
      "source": [
        "**LAB 4.2**\n",
        "\n",
        "# *B. Trích xuất thuộc tính trang web lừa đảo*\n",
        "***(Phishing Website Detection Feature Extraction)***"
      ]
    },
    {
      "cell_type": "markdown",
      "metadata": {
        "id": "EEfQVR9ia4BZ"
      },
      "source": [
        "# **1. Thu thập dữ liệu**\n",
        "Ta cần 2 nhãn hợp pháp - legitimate (0) và lừa đảo - phishing (1).\n",
        "Việc thu thập các url lừa đảo khá dễ dàng do nguồn mở có tên PhishTank. Dịch vụ này cung cấp một tập hợp các URL lừa đảo ở nhiều định dạng như csv, json, v.v. được cập nhật hàng giờ. Để tải xuống dữ liệu: https://www.phishtank.com/developer_info.php\n",
        "Đối với các url hợp pháp, nguồn từ trường ĐH New Brunswick có sẵn các dạng benign, spam, phishing, malware & defacement URL  https://www.unb.ca/cic/datasets/url-2016.html. Số lượng URL hợp pháp là 35,300 'Benign_list.csv' "
      ]
    },
    {
      "cell_type": "markdown",
      "metadata": {
        "id": "hg-t_q5EgKsR"
      },
      "source": [
        "## **1.1. Phishing URLs:**"
      ]
    },
    {
      "cell_type": "code",
      "execution_count": null,
      "metadata": {
        "id": "GiULGRa-gQbZ"
      },
      "outputs": [],
      "source": [
        "import pandas as pd"
      ]
    },
    {
      "cell_type": "code",
      "execution_count": null,
      "metadata": {
        "id": "P4PLKo-mgSeG",
        "colab": {
          "base_uri": "https://localhost:8080/"
        },
        "outputId": "a75833e3-f6ad-4ca9-f9e7-b7a92726d7bd"
      },
      "outputs": [
        {
          "output_type": "stream",
          "name": "stdout",
          "text": [
            "URL transformed to HTTPS due to an HSTS policy\n",
            "--2022-12-03 17:13:09--  https://data.phishtank.com/data/online-valid.csv\n",
            "Resolving data.phishtank.com (data.phishtank.com)... 104.17.177.85, 104.16.101.75, 2606:4700::6810:654b, ...\n",
            "Connecting to data.phishtank.com (data.phishtank.com)|104.17.177.85|:443... connected.\n",
            "HTTP request sent, awaiting response... 302 Found\n",
            "Location: https://cdn.phishtank.com/datadumps/verified_online.csv?Expires=1670087599&Signature=gcBnvXJ~AUw7RsOG16ScJ-j56DWZ7R~jZtYmNGMOQ0Isnut6stpJVSLVbfEo1pjyYyXEjCpaHvisnbgPFCc7nPY7PchBOoIWzH~it-ly5CN05U-x3LIoVcmJjMlRXOMqK5ZijJjA2PzcHExEpUh1ms3giorIYZ1yYe2t~NM1t~Kd4jSpc6wc7NGEV9jy6Q4e5PLpMWP~3RZUcac7V1Ox-SYAc2XKSF2KiS-PttsOdIC4Njj8twdaVkDiPDPINZLnxi3h9h6uZXegRth28P55iUv2jYK37TXj6q4PGx~M7Zsk7NWPjIGEzV2bE-Y0rBf05mfNHrDmoyou6~syNWL-fA__&Key-Pair-Id=APKAILB45UG3RB4CSOJA [following]\n",
            "--2022-12-03 17:13:09--  https://cdn.phishtank.com/datadumps/verified_online.csv?Expires=1670087599&Signature=gcBnvXJ~AUw7RsOG16ScJ-j56DWZ7R~jZtYmNGMOQ0Isnut6stpJVSLVbfEo1pjyYyXEjCpaHvisnbgPFCc7nPY7PchBOoIWzH~it-ly5CN05U-x3LIoVcmJjMlRXOMqK5ZijJjA2PzcHExEpUh1ms3giorIYZ1yYe2t~NM1t~Kd4jSpc6wc7NGEV9jy6Q4e5PLpMWP~3RZUcac7V1Ox-SYAc2XKSF2KiS-PttsOdIC4Njj8twdaVkDiPDPINZLnxi3h9h6uZXegRth28P55iUv2jYK37TXj6q4PGx~M7Zsk7NWPjIGEzV2bE-Y0rBf05mfNHrDmoyou6~syNWL-fA__&Key-Pair-Id=APKAILB45UG3RB4CSOJA\n",
            "Resolving cdn.phishtank.com (cdn.phishtank.com)... 104.17.177.85, 104.16.101.75, 2606:4700::6810:654b, ...\n",
            "Connecting to cdn.phishtank.com (cdn.phishtank.com)|104.17.177.85|:443... connected.\n",
            "HTTP request sent, awaiting response... 200 OK\n",
            "Length: unspecified [text/csv]\n",
            "Saving to: ‘/content/drive/MyDrive/Lab/Lab4/online-valid.csv’\n",
            "\n",
            "/content/drive/MyDr     [  <=>               ]   9.37M  41.9MB/s    in 0.2s    \n",
            "\n",
            "2022-12-03 17:13:10 (41.9 MB/s) - ‘/content/drive/MyDrive/Lab/Lab4/online-valid.csv’ saved [9824444]\n",
            "\n"
          ]
        }
      ],
      "source": [
        "#Download phishing URLs\n",
        "!wget http://data.phishtank.com/data/online-valid.csv -O /content/drive/MyDrive/Lab/Lab4/online-valid.csv"
      ]
    },
    {
      "cell_type": "code",
      "source": [
        "!ls /content/drive/MyDrive/Lab/Lab4"
      ],
      "metadata": {
        "id": "qBpHUWCHLuLs",
        "colab": {
          "base_uri": "https://localhost:8080/"
        },
        "outputId": "97f5bad5-66fc-4f17-e9e4-da91e87d45bc"
      },
      "execution_count": null,
      "outputs": [
        {
          "output_type": "stream",
          "name": "stdout",
          "text": [
            " Dataset   LAB_4.ipynb\t legitimate.csv   online-valid.csv  'Output Model'\n"
          ]
        }
      ]
    },
    {
      "cell_type": "code",
      "execution_count": null,
      "metadata": {
        "id": "RGZrK24EgXSG",
        "colab": {
          "base_uri": "https://localhost:8080/"
        },
        "outputId": "593bc87a-32c2-45ba-ba31-7f48899f525f"
      },
      "outputs": [
        {
          "output_type": "execute_result",
          "data": {
            "text/plain": [
              "   phish_id                                          url  \\\n",
              "0   7965253                        https://tloclbc.site/   \n",
              "1   7965249                    https://caf-connexion.fr/   \n",
              "2   7965242                   http://jasaantarjempu.com/   \n",
              "3   7965239  https://bloccocredenzialiareabperlogin.com/   \n",
              "4   7965238           https://att-105488.weeblysite.com/   \n",
              "\n",
              "                                    phish_detail_url  \\\n",
              "0  http://www.phishtank.com/phish_detail.php?phis...   \n",
              "1  http://www.phishtank.com/phish_detail.php?phis...   \n",
              "2  http://www.phishtank.com/phish_detail.php?phis...   \n",
              "3  http://www.phishtank.com/phish_detail.php?phis...   \n",
              "4  http://www.phishtank.com/phish_detail.php?phis...   \n",
              "\n",
              "             submission_time verified          verification_time online  \\\n",
              "0  2022-12-03T15:44:05+00:00      yes  2022-12-03T15:52:58+00:00    yes   \n",
              "1  2022-12-03T15:33:27+00:00      yes  2022-12-03T15:42:36+00:00    yes   \n",
              "2  2022-12-03T15:12:38+00:00      yes  2022-12-03T15:22:56+00:00    yes   \n",
              "3  2022-12-03T15:01:53+00:00      yes  2022-12-03T15:09:51+00:00    yes   \n",
              "4  2022-12-03T14:58:21+00:00      yes  2022-12-03T15:09:51+00:00    yes   \n",
              "\n",
              "     target  \n",
              "0     Other  \n",
              "1     Other  \n",
              "2  Facebook  \n",
              "3     Other  \n",
              "4  AT&amp;T  "
            ],
            "text/html": [
              "\n",
              "  <div id=\"df-d561c2f7-b041-4936-a91b-f88368125a63\">\n",
              "    <div class=\"colab-df-container\">\n",
              "      <div>\n",
              "<style scoped>\n",
              "    .dataframe tbody tr th:only-of-type {\n",
              "        vertical-align: middle;\n",
              "    }\n",
              "\n",
              "    .dataframe tbody tr th {\n",
              "        vertical-align: top;\n",
              "    }\n",
              "\n",
              "    .dataframe thead th {\n",
              "        text-align: right;\n",
              "    }\n",
              "</style>\n",
              "<table border=\"1\" class=\"dataframe\">\n",
              "  <thead>\n",
              "    <tr style=\"text-align: right;\">\n",
              "      <th></th>\n",
              "      <th>phish_id</th>\n",
              "      <th>url</th>\n",
              "      <th>phish_detail_url</th>\n",
              "      <th>submission_time</th>\n",
              "      <th>verified</th>\n",
              "      <th>verification_time</th>\n",
              "      <th>online</th>\n",
              "      <th>target</th>\n",
              "    </tr>\n",
              "  </thead>\n",
              "  <tbody>\n",
              "    <tr>\n",
              "      <th>0</th>\n",
              "      <td>7965253</td>\n",
              "      <td>https://tloclbc.site/</td>\n",
              "      <td>http://www.phishtank.com/phish_detail.php?phis...</td>\n",
              "      <td>2022-12-03T15:44:05+00:00</td>\n",
              "      <td>yes</td>\n",
              "      <td>2022-12-03T15:52:58+00:00</td>\n",
              "      <td>yes</td>\n",
              "      <td>Other</td>\n",
              "    </tr>\n",
              "    <tr>\n",
              "      <th>1</th>\n",
              "      <td>7965249</td>\n",
              "      <td>https://caf-connexion.fr/</td>\n",
              "      <td>http://www.phishtank.com/phish_detail.php?phis...</td>\n",
              "      <td>2022-12-03T15:33:27+00:00</td>\n",
              "      <td>yes</td>\n",
              "      <td>2022-12-03T15:42:36+00:00</td>\n",
              "      <td>yes</td>\n",
              "      <td>Other</td>\n",
              "    </tr>\n",
              "    <tr>\n",
              "      <th>2</th>\n",
              "      <td>7965242</td>\n",
              "      <td>http://jasaantarjempu.com/</td>\n",
              "      <td>http://www.phishtank.com/phish_detail.php?phis...</td>\n",
              "      <td>2022-12-03T15:12:38+00:00</td>\n",
              "      <td>yes</td>\n",
              "      <td>2022-12-03T15:22:56+00:00</td>\n",
              "      <td>yes</td>\n",
              "      <td>Facebook</td>\n",
              "    </tr>\n",
              "    <tr>\n",
              "      <th>3</th>\n",
              "      <td>7965239</td>\n",
              "      <td>https://bloccocredenzialiareabperlogin.com/</td>\n",
              "      <td>http://www.phishtank.com/phish_detail.php?phis...</td>\n",
              "      <td>2022-12-03T15:01:53+00:00</td>\n",
              "      <td>yes</td>\n",
              "      <td>2022-12-03T15:09:51+00:00</td>\n",
              "      <td>yes</td>\n",
              "      <td>Other</td>\n",
              "    </tr>\n",
              "    <tr>\n",
              "      <th>4</th>\n",
              "      <td>7965238</td>\n",
              "      <td>https://att-105488.weeblysite.com/</td>\n",
              "      <td>http://www.phishtank.com/phish_detail.php?phis...</td>\n",
              "      <td>2022-12-03T14:58:21+00:00</td>\n",
              "      <td>yes</td>\n",
              "      <td>2022-12-03T15:09:51+00:00</td>\n",
              "      <td>yes</td>\n",
              "      <td>AT&amp;amp;T</td>\n",
              "    </tr>\n",
              "  </tbody>\n",
              "</table>\n",
              "</div>\n",
              "      <button class=\"colab-df-convert\" onclick=\"convertToInteractive('df-d561c2f7-b041-4936-a91b-f88368125a63')\"\n",
              "              title=\"Convert this dataframe to an interactive table.\"\n",
              "              style=\"display:none;\">\n",
              "        \n",
              "  <svg xmlns=\"http://www.w3.org/2000/svg\" height=\"24px\"viewBox=\"0 0 24 24\"\n",
              "       width=\"24px\">\n",
              "    <path d=\"M0 0h24v24H0V0z\" fill=\"none\"/>\n",
              "    <path d=\"M18.56 5.44l.94 2.06.94-2.06 2.06-.94-2.06-.94-.94-2.06-.94 2.06-2.06.94zm-11 1L8.5 8.5l.94-2.06 2.06-.94-2.06-.94L8.5 2.5l-.94 2.06-2.06.94zm10 10l.94 2.06.94-2.06 2.06-.94-2.06-.94-.94-2.06-.94 2.06-2.06.94z\"/><path d=\"M17.41 7.96l-1.37-1.37c-.4-.4-.92-.59-1.43-.59-.52 0-1.04.2-1.43.59L10.3 9.45l-7.72 7.72c-.78.78-.78 2.05 0 2.83L4 21.41c.39.39.9.59 1.41.59.51 0 1.02-.2 1.41-.59l7.78-7.78 2.81-2.81c.8-.78.8-2.07 0-2.86zM5.41 20L4 18.59l7.72-7.72 1.47 1.35L5.41 20z\"/>\n",
              "  </svg>\n",
              "      </button>\n",
              "      \n",
              "  <style>\n",
              "    .colab-df-container {\n",
              "      display:flex;\n",
              "      flex-wrap:wrap;\n",
              "      gap: 12px;\n",
              "    }\n",
              "\n",
              "    .colab-df-convert {\n",
              "      background-color: #E8F0FE;\n",
              "      border: none;\n",
              "      border-radius: 50%;\n",
              "      cursor: pointer;\n",
              "      display: none;\n",
              "      fill: #1967D2;\n",
              "      height: 32px;\n",
              "      padding: 0 0 0 0;\n",
              "      width: 32px;\n",
              "    }\n",
              "\n",
              "    .colab-df-convert:hover {\n",
              "      background-color: #E2EBFA;\n",
              "      box-shadow: 0px 1px 2px rgba(60, 64, 67, 0.3), 0px 1px 3px 1px rgba(60, 64, 67, 0.15);\n",
              "      fill: #174EA6;\n",
              "    }\n",
              "\n",
              "    [theme=dark] .colab-df-convert {\n",
              "      background-color: #3B4455;\n",
              "      fill: #D2E3FC;\n",
              "    }\n",
              "\n",
              "    [theme=dark] .colab-df-convert:hover {\n",
              "      background-color: #434B5C;\n",
              "      box-shadow: 0px 1px 3px 1px rgba(0, 0, 0, 0.15);\n",
              "      filter: drop-shadow(0px 1px 2px rgba(0, 0, 0, 0.3));\n",
              "      fill: #FFFFFF;\n",
              "    }\n",
              "  </style>\n",
              "\n",
              "      <script>\n",
              "        const buttonEl =\n",
              "          document.querySelector('#df-d561c2f7-b041-4936-a91b-f88368125a63 button.colab-df-convert');\n",
              "        buttonEl.style.display =\n",
              "          google.colab.kernel.accessAllowed ? 'block' : 'none';\n",
              "\n",
              "        async function convertToInteractive(key) {\n",
              "          const element = document.querySelector('#df-d561c2f7-b041-4936-a91b-f88368125a63');\n",
              "          const dataTable =\n",
              "            await google.colab.kernel.invokeFunction('convertToInteractive',\n",
              "                                                     [key], {});\n",
              "          if (!dataTable) return;\n",
              "\n",
              "          const docLinkHtml = 'Like what you see? Visit the ' +\n",
              "            '<a target=\"_blank\" href=https://colab.research.google.com/notebooks/data_table.ipynb>data table notebook</a>'\n",
              "            + ' to learn more about interactive tables.';\n",
              "          element.innerHTML = '';\n",
              "          dataTable['output_type'] = 'display_data';\n",
              "          await google.colab.output.renderOutput(dataTable, element);\n",
              "          const docLink = document.createElement('div');\n",
              "          docLink.innerHTML = docLinkHtml;\n",
              "          element.appendChild(docLink);\n",
              "        }\n",
              "      </script>\n",
              "    </div>\n",
              "  </div>\n",
              "  "
            ]
          },
          "metadata": {},
          "execution_count": 5
        }
      ],
      "source": [
        "#Load CSV\n",
        "data0 = pd.read_csv(\"/content/drive/MyDrive/Lab/Lab4/online-valid.csv\")\n",
        "data0.head()"
      ]
    },
    {
      "cell_type": "code",
      "execution_count": null,
      "metadata": {
        "id": "X4WLaeIogdHx",
        "colab": {
          "base_uri": "https://localhost:8080/"
        },
        "outputId": "1e4a1b97-876a-4782-98e4-7de0405d9bca"
      },
      "outputs": [
        {
          "output_type": "execute_result",
          "data": {
            "text/plain": [
              "(51672, 8)"
            ]
          },
          "metadata": {},
          "execution_count": 6
        }
      ],
      "source": [
        "data0.shape"
      ]
    },
    {
      "cell_type": "markdown",
      "metadata": {
        "id": "C4ikQaYbgskH"
      },
      "source": [
        "Ở đây mình chỉ chọn **100 mẫu** để lấy feature, vì lấy nhiều sẽ \"cực cực kỳ\" mất thời gian (●'◡'●)"
      ]
    },
    {
      "cell_type": "code",
      "execution_count": null,
      "metadata": {
        "id": "Sx69n4bmgwow",
        "colab": {
          "base_uri": "https://localhost:8080/"
        },
        "outputId": "dfb9a446-17cf-47d3-9101-57fcb896d698"
      },
      "outputs": [
        {
          "output_type": "execute_result",
          "data": {
            "text/plain": [
              "   phish_id                                                url  \\\n",
              "0   7864331  https://ipfs.io/ipfs/bafybeig56kfb7kwmbrq3pjim...   \n",
              "1   7910517    http://www.saissecn-co-jp.aeaccnsen.drwdhs.top/   \n",
              "2   7885434  http://www.ekl-net.conn-accseeeeaas.tddonu.top...   \n",
              "3   7880877  http://www.au-pacccy.aueseacaomceoy.ffqqrb.top...   \n",
              "4   7961360  https://dev7129.d2qmcnsgj0y7oj.amplifyapp.com/...   \n",
              "\n",
              "                                    phish_detail_url  \\\n",
              "0  http://www.phishtank.com/phish_detail.php?phis...   \n",
              "1  http://www.phishtank.com/phish_detail.php?phis...   \n",
              "2  http://www.phishtank.com/phish_detail.php?phis...   \n",
              "3  http://www.phishtank.com/phish_detail.php?phis...   \n",
              "4  http://www.phishtank.com/phish_detail.php?phis...   \n",
              "\n",
              "             submission_time verified          verification_time online  \\\n",
              "0  2022-10-19T23:25:25+00:00      yes  2022-10-19T23:33:32+00:00    yes   \n",
              "1  2022-11-02T08:46:03+00:00      yes  2022-11-02T08:48:18+00:00    yes   \n",
              "2  2022-10-24T07:34:06+00:00      yes  2022-10-24T07:37:06+00:00    yes   \n",
              "3  2022-10-23T11:16:42+00:00      yes  2022-10-23T11:18:22+00:00    yes   \n",
              "4  2022-11-30T06:56:59+00:00      yes  2022-11-30T07:04:17+00:00    yes   \n",
              "\n",
              "                       target  \n",
              "0                       Other  \n",
              "1                       Other  \n",
              "2  East Japan Railway Company  \n",
              "3                        KDDI  \n",
              "4                       Other  "
            ],
            "text/html": [
              "\n",
              "  <div id=\"df-5c24de15-1e8b-49bc-b864-4a41c145474b\">\n",
              "    <div class=\"colab-df-container\">\n",
              "      <div>\n",
              "<style scoped>\n",
              "    .dataframe tbody tr th:only-of-type {\n",
              "        vertical-align: middle;\n",
              "    }\n",
              "\n",
              "    .dataframe tbody tr th {\n",
              "        vertical-align: top;\n",
              "    }\n",
              "\n",
              "    .dataframe thead th {\n",
              "        text-align: right;\n",
              "    }\n",
              "</style>\n",
              "<table border=\"1\" class=\"dataframe\">\n",
              "  <thead>\n",
              "    <tr style=\"text-align: right;\">\n",
              "      <th></th>\n",
              "      <th>phish_id</th>\n",
              "      <th>url</th>\n",
              "      <th>phish_detail_url</th>\n",
              "      <th>submission_time</th>\n",
              "      <th>verified</th>\n",
              "      <th>verification_time</th>\n",
              "      <th>online</th>\n",
              "      <th>target</th>\n",
              "    </tr>\n",
              "  </thead>\n",
              "  <tbody>\n",
              "    <tr>\n",
              "      <th>0</th>\n",
              "      <td>7864331</td>\n",
              "      <td>https://ipfs.io/ipfs/bafybeig56kfb7kwmbrq3pjim...</td>\n",
              "      <td>http://www.phishtank.com/phish_detail.php?phis...</td>\n",
              "      <td>2022-10-19T23:25:25+00:00</td>\n",
              "      <td>yes</td>\n",
              "      <td>2022-10-19T23:33:32+00:00</td>\n",
              "      <td>yes</td>\n",
              "      <td>Other</td>\n",
              "    </tr>\n",
              "    <tr>\n",
              "      <th>1</th>\n",
              "      <td>7910517</td>\n",
              "      <td>http://www.saissecn-co-jp.aeaccnsen.drwdhs.top/</td>\n",
              "      <td>http://www.phishtank.com/phish_detail.php?phis...</td>\n",
              "      <td>2022-11-02T08:46:03+00:00</td>\n",
              "      <td>yes</td>\n",
              "      <td>2022-11-02T08:48:18+00:00</td>\n",
              "      <td>yes</td>\n",
              "      <td>Other</td>\n",
              "    </tr>\n",
              "    <tr>\n",
              "      <th>2</th>\n",
              "      <td>7885434</td>\n",
              "      <td>http://www.ekl-net.conn-accseeeeaas.tddonu.top...</td>\n",
              "      <td>http://www.phishtank.com/phish_detail.php?phis...</td>\n",
              "      <td>2022-10-24T07:34:06+00:00</td>\n",
              "      <td>yes</td>\n",
              "      <td>2022-10-24T07:37:06+00:00</td>\n",
              "      <td>yes</td>\n",
              "      <td>East Japan Railway Company</td>\n",
              "    </tr>\n",
              "    <tr>\n",
              "      <th>3</th>\n",
              "      <td>7880877</td>\n",
              "      <td>http://www.au-pacccy.aueseacaomceoy.ffqqrb.top...</td>\n",
              "      <td>http://www.phishtank.com/phish_detail.php?phis...</td>\n",
              "      <td>2022-10-23T11:16:42+00:00</td>\n",
              "      <td>yes</td>\n",
              "      <td>2022-10-23T11:18:22+00:00</td>\n",
              "      <td>yes</td>\n",
              "      <td>KDDI</td>\n",
              "    </tr>\n",
              "    <tr>\n",
              "      <th>4</th>\n",
              "      <td>7961360</td>\n",
              "      <td>https://dev7129.d2qmcnsgj0y7oj.amplifyapp.com/...</td>\n",
              "      <td>http://www.phishtank.com/phish_detail.php?phis...</td>\n",
              "      <td>2022-11-30T06:56:59+00:00</td>\n",
              "      <td>yes</td>\n",
              "      <td>2022-11-30T07:04:17+00:00</td>\n",
              "      <td>yes</td>\n",
              "      <td>Other</td>\n",
              "    </tr>\n",
              "  </tbody>\n",
              "</table>\n",
              "</div>\n",
              "      <button class=\"colab-df-convert\" onclick=\"convertToInteractive('df-5c24de15-1e8b-49bc-b864-4a41c145474b')\"\n",
              "              title=\"Convert this dataframe to an interactive table.\"\n",
              "              style=\"display:none;\">\n",
              "        \n",
              "  <svg xmlns=\"http://www.w3.org/2000/svg\" height=\"24px\"viewBox=\"0 0 24 24\"\n",
              "       width=\"24px\">\n",
              "    <path d=\"M0 0h24v24H0V0z\" fill=\"none\"/>\n",
              "    <path d=\"M18.56 5.44l.94 2.06.94-2.06 2.06-.94-2.06-.94-.94-2.06-.94 2.06-2.06.94zm-11 1L8.5 8.5l.94-2.06 2.06-.94-2.06-.94L8.5 2.5l-.94 2.06-2.06.94zm10 10l.94 2.06.94-2.06 2.06-.94-2.06-.94-.94-2.06-.94 2.06-2.06.94z\"/><path d=\"M17.41 7.96l-1.37-1.37c-.4-.4-.92-.59-1.43-.59-.52 0-1.04.2-1.43.59L10.3 9.45l-7.72 7.72c-.78.78-.78 2.05 0 2.83L4 21.41c.39.39.9.59 1.41.59.51 0 1.02-.2 1.41-.59l7.78-7.78 2.81-2.81c.8-.78.8-2.07 0-2.86zM5.41 20L4 18.59l7.72-7.72 1.47 1.35L5.41 20z\"/>\n",
              "  </svg>\n",
              "      </button>\n",
              "      \n",
              "  <style>\n",
              "    .colab-df-container {\n",
              "      display:flex;\n",
              "      flex-wrap:wrap;\n",
              "      gap: 12px;\n",
              "    }\n",
              "\n",
              "    .colab-df-convert {\n",
              "      background-color: #E8F0FE;\n",
              "      border: none;\n",
              "      border-radius: 50%;\n",
              "      cursor: pointer;\n",
              "      display: none;\n",
              "      fill: #1967D2;\n",
              "      height: 32px;\n",
              "      padding: 0 0 0 0;\n",
              "      width: 32px;\n",
              "    }\n",
              "\n",
              "    .colab-df-convert:hover {\n",
              "      background-color: #E2EBFA;\n",
              "      box-shadow: 0px 1px 2px rgba(60, 64, 67, 0.3), 0px 1px 3px 1px rgba(60, 64, 67, 0.15);\n",
              "      fill: #174EA6;\n",
              "    }\n",
              "\n",
              "    [theme=dark] .colab-df-convert {\n",
              "      background-color: #3B4455;\n",
              "      fill: #D2E3FC;\n",
              "    }\n",
              "\n",
              "    [theme=dark] .colab-df-convert:hover {\n",
              "      background-color: #434B5C;\n",
              "      box-shadow: 0px 1px 3px 1px rgba(0, 0, 0, 0.15);\n",
              "      filter: drop-shadow(0px 1px 2px rgba(0, 0, 0, 0.3));\n",
              "      fill: #FFFFFF;\n",
              "    }\n",
              "  </style>\n",
              "\n",
              "      <script>\n",
              "        const buttonEl =\n",
              "          document.querySelector('#df-5c24de15-1e8b-49bc-b864-4a41c145474b button.colab-df-convert');\n",
              "        buttonEl.style.display =\n",
              "          google.colab.kernel.accessAllowed ? 'block' : 'none';\n",
              "\n",
              "        async function convertToInteractive(key) {\n",
              "          const element = document.querySelector('#df-5c24de15-1e8b-49bc-b864-4a41c145474b');\n",
              "          const dataTable =\n",
              "            await google.colab.kernel.invokeFunction('convertToInteractive',\n",
              "                                                     [key], {});\n",
              "          if (!dataTable) return;\n",
              "\n",
              "          const docLinkHtml = 'Like what you see? Visit the ' +\n",
              "            '<a target=\"_blank\" href=https://colab.research.google.com/notebooks/data_table.ipynb>data table notebook</a>'\n",
              "            + ' to learn more about interactive tables.';\n",
              "          element.innerHTML = '';\n",
              "          dataTable['output_type'] = 'display_data';\n",
              "          await google.colab.output.renderOutput(dataTable, element);\n",
              "          const docLink = document.createElement('div');\n",
              "          docLink.innerHTML = docLinkHtml;\n",
              "          element.appendChild(docLink);\n",
              "        }\n",
              "      </script>\n",
              "    </div>\n",
              "  </div>\n",
              "  "
            ]
          },
          "metadata": {},
          "execution_count": 7
        }
      ],
      "source": [
        "phishurl = data0.sample(n = 100, random_state = 12).copy()\n",
        "phishurl = phishurl.reset_index(drop=True)\n",
        "phishurl.head()"
      ]
    },
    {
      "cell_type": "code",
      "execution_count": null,
      "metadata": {
        "id": "nK7-g8_AgzAn",
        "colab": {
          "base_uri": "https://localhost:8080/"
        },
        "outputId": "eb0c743d-0852-4ae5-daf2-61dca5ccc08b"
      },
      "outputs": [
        {
          "output_type": "execute_result",
          "data": {
            "text/plain": [
              "(100, 8)"
            ]
          },
          "metadata": {},
          "execution_count": 8
        }
      ],
      "source": [
        "phishurl.shape"
      ]
    },
    {
      "cell_type": "markdown",
      "metadata": {
        "id": "zig-Q72gg3eS"
      },
      "source": [
        "## **1.2. Legitimate URLs:**"
      ]
    },
    {
      "cell_type": "code",
      "execution_count": null,
      "metadata": {
        "id": "8nkZd9iIg8Vt",
        "colab": {
          "base_uri": "https://localhost:8080/"
        },
        "outputId": "6ba59d7f-5589-4771-f14f-70ba00a9f300"
      },
      "outputs": [
        {
          "output_type": "execute_result",
          "data": {
            "text/plain": [
              "                                                URLs\n",
              "0  http://1337x.to/torrent/1110018/Blackhat-2015-...\n",
              "1  http://1337x.to/torrent/1122940/Blackhat-2015-...\n",
              "2  http://1337x.to/torrent/1124395/Fast-and-Furio...\n",
              "3  http://1337x.to/torrent/1145504/Avengers-Age-o...\n",
              "4  http://1337x.to/torrent/1160078/Avengers-age-o..."
            ],
            "text/html": [
              "\n",
              "  <div id=\"df-63d0d032-99f3-4bf2-81ab-8f9898d51173\">\n",
              "    <div class=\"colab-df-container\">\n",
              "      <div>\n",
              "<style scoped>\n",
              "    .dataframe tbody tr th:only-of-type {\n",
              "        vertical-align: middle;\n",
              "    }\n",
              "\n",
              "    .dataframe tbody tr th {\n",
              "        vertical-align: top;\n",
              "    }\n",
              "\n",
              "    .dataframe thead th {\n",
              "        text-align: right;\n",
              "    }\n",
              "</style>\n",
              "<table border=\"1\" class=\"dataframe\">\n",
              "  <thead>\n",
              "    <tr style=\"text-align: right;\">\n",
              "      <th></th>\n",
              "      <th>URLs</th>\n",
              "    </tr>\n",
              "  </thead>\n",
              "  <tbody>\n",
              "    <tr>\n",
              "      <th>0</th>\n",
              "      <td>http://1337x.to/torrent/1110018/Blackhat-2015-...</td>\n",
              "    </tr>\n",
              "    <tr>\n",
              "      <th>1</th>\n",
              "      <td>http://1337x.to/torrent/1122940/Blackhat-2015-...</td>\n",
              "    </tr>\n",
              "    <tr>\n",
              "      <th>2</th>\n",
              "      <td>http://1337x.to/torrent/1124395/Fast-and-Furio...</td>\n",
              "    </tr>\n",
              "    <tr>\n",
              "      <th>3</th>\n",
              "      <td>http://1337x.to/torrent/1145504/Avengers-Age-o...</td>\n",
              "    </tr>\n",
              "    <tr>\n",
              "      <th>4</th>\n",
              "      <td>http://1337x.to/torrent/1160078/Avengers-age-o...</td>\n",
              "    </tr>\n",
              "  </tbody>\n",
              "</table>\n",
              "</div>\n",
              "      <button class=\"colab-df-convert\" onclick=\"convertToInteractive('df-63d0d032-99f3-4bf2-81ab-8f9898d51173')\"\n",
              "              title=\"Convert this dataframe to an interactive table.\"\n",
              "              style=\"display:none;\">\n",
              "        \n",
              "  <svg xmlns=\"http://www.w3.org/2000/svg\" height=\"24px\"viewBox=\"0 0 24 24\"\n",
              "       width=\"24px\">\n",
              "    <path d=\"M0 0h24v24H0V0z\" fill=\"none\"/>\n",
              "    <path d=\"M18.56 5.44l.94 2.06.94-2.06 2.06-.94-2.06-.94-.94-2.06-.94 2.06-2.06.94zm-11 1L8.5 8.5l.94-2.06 2.06-.94-2.06-.94L8.5 2.5l-.94 2.06-2.06.94zm10 10l.94 2.06.94-2.06 2.06-.94-2.06-.94-.94-2.06-.94 2.06-2.06.94z\"/><path d=\"M17.41 7.96l-1.37-1.37c-.4-.4-.92-.59-1.43-.59-.52 0-1.04.2-1.43.59L10.3 9.45l-7.72 7.72c-.78.78-.78 2.05 0 2.83L4 21.41c.39.39.9.59 1.41.59.51 0 1.02-.2 1.41-.59l7.78-7.78 2.81-2.81c.8-.78.8-2.07 0-2.86zM5.41 20L4 18.59l7.72-7.72 1.47 1.35L5.41 20z\"/>\n",
              "  </svg>\n",
              "      </button>\n",
              "      \n",
              "  <style>\n",
              "    .colab-df-container {\n",
              "      display:flex;\n",
              "      flex-wrap:wrap;\n",
              "      gap: 12px;\n",
              "    }\n",
              "\n",
              "    .colab-df-convert {\n",
              "      background-color: #E8F0FE;\n",
              "      border: none;\n",
              "      border-radius: 50%;\n",
              "      cursor: pointer;\n",
              "      display: none;\n",
              "      fill: #1967D2;\n",
              "      height: 32px;\n",
              "      padding: 0 0 0 0;\n",
              "      width: 32px;\n",
              "    }\n",
              "\n",
              "    .colab-df-convert:hover {\n",
              "      background-color: #E2EBFA;\n",
              "      box-shadow: 0px 1px 2px rgba(60, 64, 67, 0.3), 0px 1px 3px 1px rgba(60, 64, 67, 0.15);\n",
              "      fill: #174EA6;\n",
              "    }\n",
              "\n",
              "    [theme=dark] .colab-df-convert {\n",
              "      background-color: #3B4455;\n",
              "      fill: #D2E3FC;\n",
              "    }\n",
              "\n",
              "    [theme=dark] .colab-df-convert:hover {\n",
              "      background-color: #434B5C;\n",
              "      box-shadow: 0px 1px 3px 1px rgba(0, 0, 0, 0.15);\n",
              "      filter: drop-shadow(0px 1px 2px rgba(0, 0, 0, 0.3));\n",
              "      fill: #FFFFFF;\n",
              "    }\n",
              "  </style>\n",
              "\n",
              "      <script>\n",
              "        const buttonEl =\n",
              "          document.querySelector('#df-63d0d032-99f3-4bf2-81ab-8f9898d51173 button.colab-df-convert');\n",
              "        buttonEl.style.display =\n",
              "          google.colab.kernel.accessAllowed ? 'block' : 'none';\n",
              "\n",
              "        async function convertToInteractive(key) {\n",
              "          const element = document.querySelector('#df-63d0d032-99f3-4bf2-81ab-8f9898d51173');\n",
              "          const dataTable =\n",
              "            await google.colab.kernel.invokeFunction('convertToInteractive',\n",
              "                                                     [key], {});\n",
              "          if (!dataTable) return;\n",
              "\n",
              "          const docLinkHtml = 'Like what you see? Visit the ' +\n",
              "            '<a target=\"_blank\" href=https://colab.research.google.com/notebooks/data_table.ipynb>data table notebook</a>'\n",
              "            + ' to learn more about interactive tables.';\n",
              "          element.innerHTML = '';\n",
              "          dataTable['output_type'] = 'display_data';\n",
              "          await google.colab.output.renderOutput(dataTable, element);\n",
              "          const docLink = document.createElement('div');\n",
              "          docLink.innerHTML = docLinkHtml;\n",
              "          element.appendChild(docLink);\n",
              "        }\n",
              "      </script>\n",
              "    </div>\n",
              "  </div>\n",
              "  "
            ]
          },
          "metadata": {},
          "execution_count": 9
        }
      ],
      "source": [
        "#Load legitimate files \n",
        "data1 = pd.read_csv(data_dir + \"Benign_list.csv\")\n",
        "data1.columns = ['URLs']\n",
        "data1.head()"
      ]
    },
    {
      "cell_type": "code",
      "execution_count": null,
      "metadata": {
        "id": "_bUYzGXAhC7r",
        "colab": {
          "base_uri": "https://localhost:8080/"
        },
        "outputId": "0312268e-0ed8-420f-fbc9-40356bcfbdef"
      },
      "outputs": [
        {
          "output_type": "execute_result",
          "data": {
            "text/plain": [
              "                                                URLs\n",
              "0  http://graphicriver.net/search?date=this-month...\n",
              "1  http://ecnavi.jp/redirect/?url=http://www.cros...\n",
              "2  https://hubpages.com/signin?explain=follow+Hub...\n",
              "3  http://extratorrent.cc/torrent/4190536/AOMEI+B...\n",
              "4  http://icicibank.com/Personal-Banking/offers/o..."
            ],
            "text/html": [
              "\n",
              "  <div id=\"df-baf2bc82-029e-440e-9f65-d21ba33513cd\">\n",
              "    <div class=\"colab-df-container\">\n",
              "      <div>\n",
              "<style scoped>\n",
              "    .dataframe tbody tr th:only-of-type {\n",
              "        vertical-align: middle;\n",
              "    }\n",
              "\n",
              "    .dataframe tbody tr th {\n",
              "        vertical-align: top;\n",
              "    }\n",
              "\n",
              "    .dataframe thead th {\n",
              "        text-align: right;\n",
              "    }\n",
              "</style>\n",
              "<table border=\"1\" class=\"dataframe\">\n",
              "  <thead>\n",
              "    <tr style=\"text-align: right;\">\n",
              "      <th></th>\n",
              "      <th>URLs</th>\n",
              "    </tr>\n",
              "  </thead>\n",
              "  <tbody>\n",
              "    <tr>\n",
              "      <th>0</th>\n",
              "      <td>http://graphicriver.net/search?date=this-month...</td>\n",
              "    </tr>\n",
              "    <tr>\n",
              "      <th>1</th>\n",
              "      <td>http://ecnavi.jp/redirect/?url=http://www.cros...</td>\n",
              "    </tr>\n",
              "    <tr>\n",
              "      <th>2</th>\n",
              "      <td>https://hubpages.com/signin?explain=follow+Hub...</td>\n",
              "    </tr>\n",
              "    <tr>\n",
              "      <th>3</th>\n",
              "      <td>http://extratorrent.cc/torrent/4190536/AOMEI+B...</td>\n",
              "    </tr>\n",
              "    <tr>\n",
              "      <th>4</th>\n",
              "      <td>http://icicibank.com/Personal-Banking/offers/o...</td>\n",
              "    </tr>\n",
              "  </tbody>\n",
              "</table>\n",
              "</div>\n",
              "      <button class=\"colab-df-convert\" onclick=\"convertToInteractive('df-baf2bc82-029e-440e-9f65-d21ba33513cd')\"\n",
              "              title=\"Convert this dataframe to an interactive table.\"\n",
              "              style=\"display:none;\">\n",
              "        \n",
              "  <svg xmlns=\"http://www.w3.org/2000/svg\" height=\"24px\"viewBox=\"0 0 24 24\"\n",
              "       width=\"24px\">\n",
              "    <path d=\"M0 0h24v24H0V0z\" fill=\"none\"/>\n",
              "    <path d=\"M18.56 5.44l.94 2.06.94-2.06 2.06-.94-2.06-.94-.94-2.06-.94 2.06-2.06.94zm-11 1L8.5 8.5l.94-2.06 2.06-.94-2.06-.94L8.5 2.5l-.94 2.06-2.06.94zm10 10l.94 2.06.94-2.06 2.06-.94-2.06-.94-.94-2.06-.94 2.06-2.06.94z\"/><path d=\"M17.41 7.96l-1.37-1.37c-.4-.4-.92-.59-1.43-.59-.52 0-1.04.2-1.43.59L10.3 9.45l-7.72 7.72c-.78.78-.78 2.05 0 2.83L4 21.41c.39.39.9.59 1.41.59.51 0 1.02-.2 1.41-.59l7.78-7.78 2.81-2.81c.8-.78.8-2.07 0-2.86zM5.41 20L4 18.59l7.72-7.72 1.47 1.35L5.41 20z\"/>\n",
              "  </svg>\n",
              "      </button>\n",
              "      \n",
              "  <style>\n",
              "    .colab-df-container {\n",
              "      display:flex;\n",
              "      flex-wrap:wrap;\n",
              "      gap: 12px;\n",
              "    }\n",
              "\n",
              "    .colab-df-convert {\n",
              "      background-color: #E8F0FE;\n",
              "      border: none;\n",
              "      border-radius: 50%;\n",
              "      cursor: pointer;\n",
              "      display: none;\n",
              "      fill: #1967D2;\n",
              "      height: 32px;\n",
              "      padding: 0 0 0 0;\n",
              "      width: 32px;\n",
              "    }\n",
              "\n",
              "    .colab-df-convert:hover {\n",
              "      background-color: #E2EBFA;\n",
              "      box-shadow: 0px 1px 2px rgba(60, 64, 67, 0.3), 0px 1px 3px 1px rgba(60, 64, 67, 0.15);\n",
              "      fill: #174EA6;\n",
              "    }\n",
              "\n",
              "    [theme=dark] .colab-df-convert {\n",
              "      background-color: #3B4455;\n",
              "      fill: #D2E3FC;\n",
              "    }\n",
              "\n",
              "    [theme=dark] .colab-df-convert:hover {\n",
              "      background-color: #434B5C;\n",
              "      box-shadow: 0px 1px 3px 1px rgba(0, 0, 0, 0.15);\n",
              "      filter: drop-shadow(0px 1px 2px rgba(0, 0, 0, 0.3));\n",
              "      fill: #FFFFFF;\n",
              "    }\n",
              "  </style>\n",
              "\n",
              "      <script>\n",
              "        const buttonEl =\n",
              "          document.querySelector('#df-baf2bc82-029e-440e-9f65-d21ba33513cd button.colab-df-convert');\n",
              "        buttonEl.style.display =\n",
              "          google.colab.kernel.accessAllowed ? 'block' : 'none';\n",
              "\n",
              "        async function convertToInteractive(key) {\n",
              "          const element = document.querySelector('#df-baf2bc82-029e-440e-9f65-d21ba33513cd');\n",
              "          const dataTable =\n",
              "            await google.colab.kernel.invokeFunction('convertToInteractive',\n",
              "                                                     [key], {});\n",
              "          if (!dataTable) return;\n",
              "\n",
              "          const docLinkHtml = 'Like what you see? Visit the ' +\n",
              "            '<a target=\"_blank\" href=https://colab.research.google.com/notebooks/data_table.ipynb>data table notebook</a>'\n",
              "            + ' to learn more about interactive tables.';\n",
              "          element.innerHTML = '';\n",
              "          dataTable['output_type'] = 'display_data';\n",
              "          await google.colab.output.renderOutput(dataTable, element);\n",
              "          const docLink = document.createElement('div');\n",
              "          docLink.innerHTML = docLinkHtml;\n",
              "          element.appendChild(docLink);\n",
              "        }\n",
              "      </script>\n",
              "    </div>\n",
              "  </div>\n",
              "  "
            ]
          },
          "metadata": {},
          "execution_count": 10
        }
      ],
      "source": [
        "#Collect 100 Legitimate URLs randomly\n",
        "legiurl = data1.sample(n = 100, random_state = 12).copy()\n",
        "legiurl = legiurl.reset_index(drop=True)\n",
        "legiurl.head()"
      ]
    },
    {
      "cell_type": "code",
      "execution_count": null,
      "metadata": {
        "id": "PS0c5E-hhHLC",
        "colab": {
          "base_uri": "https://localhost:8080/"
        },
        "outputId": "7bb45d1e-5e21-4570-c84a-c6bcce071f19"
      },
      "outputs": [
        {
          "output_type": "execute_result",
          "data": {
            "text/plain": [
              "(100, 1)"
            ]
          },
          "metadata": {},
          "execution_count": 11
        }
      ],
      "source": [
        "legiurl.shape"
      ]
    },
    {
      "cell_type": "markdown",
      "metadata": {
        "id": "d4qkPwIYiDw9"
      },
      "source": [
        "# **2. Trích xuất thuộc tính**\n",
        "Các thuộc tính sẽ được trích xuất phân loại thành:\n",
        "* Address Bar \n",
        "* Domain\n",
        "* HTML & Javascript "
      ]
    },
    {
      "cell_type": "markdown",
      "metadata": {
        "id": "v6nY9qtiilUF"
      },
      "source": [
        "## **2.1 Thuộc tính Address Bar**\n",
        "Ta chỉ chọn một số thuộc tính cơ bản sau:\n",
        "* Domain of URL \n",
        "* IP Address in URL\n",
        "* \"@\" Symbol in URL\n",
        "* Length of URL\n",
        "* Depth of URL\n",
        "* Redirection \"//\" in URL\n",
        "* \"http/https\" in Domain name (Phần này có lỗi tí xíu và mình đã fixed theo yêu cầu)\n",
        "* Using URL Shortening Services “TinyURL”\n",
        "* Prefix or Suffix \"-\" in Domain"
      ]
    },
    {
      "cell_type": "code",
      "execution_count": null,
      "metadata": {
        "id": "jOC_m-JGi9NY"
      },
      "outputs": [],
      "source": [
        "from urllib.parse import urlparse,urlencode\n",
        "import ipaddress\n",
        "import re"
      ]
    },
    {
      "cell_type": "code",
      "execution_count": null,
      "metadata": {
        "id": "9BTu5auHjA48"
      },
      "outputs": [],
      "source": [
        "# 1.Domain \n",
        "def getDomain(url):  \n",
        "  domain = urlparse(url).netloc\n",
        "  if re.match(r\"^www.\",domain):\n",
        "\t       domain = domain.replace(\"www.\",\"\")\n",
        "  print(\"The domain is: \", domain)\n",
        "  return domain"
      ]
    },
    {
      "cell_type": "code",
      "execution_count": null,
      "metadata": {
        "id": "qrNKXE4AjDWh"
      },
      "outputs": [],
      "source": [
        "# 2.Have_IP\n",
        "def havingIP(url):\n",
        "  try:\n",
        "    ipaddress.ip_address(url)\n",
        "    ip = 1\n",
        "  except:\n",
        "    ip = 0\n",
        "  return ip"
      ]
    },
    {
      "cell_type": "code",
      "execution_count": null,
      "metadata": {
        "id": "6FcxEs-jj5Ms"
      },
      "outputs": [],
      "source": [
        "# 3.Have_At (@)\n",
        "def haveAtSign(url):\n",
        "  if \"@\" in url:\n",
        "    at = 1    \n",
        "  else:\n",
        "    at = 0    \n",
        "  return at"
      ]
    },
    {
      "cell_type": "code",
      "execution_count": null,
      "metadata": {
        "id": "E-qTnvroj86_"
      },
      "outputs": [],
      "source": [
        "# 4.URL_Length\n",
        "def getLength(url):\n",
        "  if len(url) < 54:\n",
        "    length = 0            \n",
        "  else:\n",
        "    length = 1            \n",
        "  return length"
      ]
    },
    {
      "cell_type": "code",
      "execution_count": null,
      "metadata": {
        "id": "b93onpZvkAmQ"
      },
      "outputs": [],
      "source": [
        "# 5.URL_Depth '/'\n",
        "def getDepth(url):\n",
        "  s = urlparse(url).path.split('/')\n",
        "  #print(s)\n",
        "  depth = 0\n",
        "  for j in range(len(s)):\n",
        "    if len(s[j]) != 0:\n",
        "      depth = depth+1\n",
        "  return depth"
      ]
    },
    {
      "cell_type": "code",
      "source": [
        "#res = getDepth(\"http://1337x.to/torrent/1048648/American-Sniper-2014-MD-iTALiAN-DVDSCR-X264-BST-MT/\")\n",
        "#res"
      ],
      "metadata": {
        "id": "5olXIBnSVkge"
      },
      "execution_count": null,
      "outputs": []
    },
    {
      "cell_type": "code",
      "execution_count": null,
      "metadata": {
        "id": "b6Sd7YdlkOQG"
      },
      "outputs": [],
      "source": [
        "# 6.Redirection '//'\n",
        "def redirection(url):\n",
        "  pos = url.rfind('//')\n",
        "  if pos > 6:\n",
        "    if pos > 7:\n",
        "      return 1\n",
        "    else:\n",
        "      return 0\n",
        "  else:\n",
        "    return 0"
      ]
    },
    {
      "cell_type": "code",
      "execution_count": null,
      "metadata": {
        "id": "KBDrNAdSkUCe"
      },
      "outputs": [],
      "source": [
        "# 7. https_Domain  (Đã FIX)\n",
        "def httpDomain(url):\n",
        "  domain = urlparse(url).scheme\n",
        "  #print(domain)\n",
        "  if 'https' in domain or 'http' in domain:\n",
        "    return 1\n",
        "  else:\n",
        "    return 0"
      ]
    },
    {
      "cell_type": "code",
      "source": [
        "# res = httpDomain(\"http://1337x.to/torrent/1048648/American-Sniper-2014-MD-iTALiAN-DVDSCR-X264-BST-MT/\")\n",
        "# res"
      ],
      "metadata": {
        "id": "0McKrS9TWhep"
      },
      "execution_count": null,
      "outputs": []
    },
    {
      "cell_type": "code",
      "execution_count": null,
      "metadata": {
        "id": "akh4nT02ksTu"
      },
      "outputs": [],
      "source": [
        "# 8. Checking Tiny_URL\n",
        "shortening_services = r\"bit\\.ly|goo\\.gl|shorte\\.st|go2l\\.ink|x\\.co|ow\\.ly|t\\.co|tinyurl|tr\\.im|is\\.gd|cli\\.gs|\" \\\n",
        "                      r\"yfrog\\.com|migre\\.me|ff\\.im|tiny\\.cc|url4\\.eu|twit\\.ac|su\\.pr|twurl\\.nl|snipurl\\.com|\" \\\n",
        "                      r\"short\\.to|BudURL\\.com|ping\\.fm|post\\.ly|Just\\.as|bkite\\.com|snipr\\.com|fic\\.kr|loopt\\.us|\" \\\n",
        "                      r\"doiop\\.com|short\\.ie|kl\\.am|wp\\.me|rubyurl\\.com|om\\.ly|to\\.ly|bit\\.do|t\\.co|lnkd\\.in|db\\.tt|\" \\\n",
        "                      r\"qr\\.ae|adf\\.ly|goo\\.gl|bitly\\.com|cur\\.lv|tinyurl\\.com|ow\\.ly|bit\\.ly|ity\\.im|q\\.gs|is\\.gd|\" \\\n",
        "                      r\"po\\.st|bc\\.vc|twitthis\\.com|u\\.to|j\\.mp|buzurl\\.com|cutt\\.us|u\\.bb|yourls\\.org|x\\.co|\" \\\n",
        "                      r\"prettylinkpro\\.com|scrnch\\.me|filoops\\.info|vzturl\\.com|qr\\.net|1url\\.com|tweez\\.me|v\\.gd|\" \\\n",
        "                      r\"tr\\.im|link\\.zip\\.net\"\n",
        "\n",
        "def tinyURL(url):\n",
        "    match=re.search(shortening_services,url)\n",
        "    if match:\n",
        "        return 1\n",
        "    else:\n",
        "        return 0"
      ]
    },
    {
      "cell_type": "code",
      "execution_count": null,
      "metadata": {
        "id": "y6SNSnNHmOJQ"
      },
      "outputs": [],
      "source": [
        "# 9.Check Prefix or Suffix \"-\" in Domain\n",
        "def prefixSuffix(url):\n",
        "    if '-' in urlparse(url).netloc:\n",
        "        return 1            # phishing\n",
        "    else:\n",
        "        return 0            # legitimate"
      ]
    },
    {
      "cell_type": "markdown",
      "metadata": {
        "id": "BXmYbf6CnEig"
      },
      "source": [
        "## **2.2 Thuộc tính Domain**\n",
        "Các thể loại thuộc tính được trích xuất:\n",
        "* DNS Record\n",
        "* Website Traffic\n",
        "* Age of Domain\n",
        "* End Period of Domain"
      ]
    },
    {
      "cell_type": "code",
      "execution_count": null,
      "metadata": {
        "id": "xFA5FXrinYWh",
        "colab": {
          "base_uri": "https://localhost:8080/"
        },
        "outputId": "3769b8ec-931e-4a9a-d5ef-dfa7136633fb"
      },
      "outputs": [
        {
          "output_type": "stream",
          "name": "stdout",
          "text": [
            "Looking in indexes: https://pypi.org/simple, https://us-python.pkg.dev/colab-wheels/public/simple/\n",
            "Collecting python-whois\n",
            "  Downloading python-whois-0.8.0.tar.gz (109 kB)\n",
            "\u001b[K     |████████████████████████████████| 109 kB 8.5 MB/s \n",
            "\u001b[?25hRequirement already satisfied: future in /usr/local/lib/python3.8/dist-packages (from python-whois) (0.16.0)\n",
            "Building wheels for collected packages: python-whois\n",
            "  Building wheel for python-whois (setup.py) ... \u001b[?25l\u001b[?25hdone\n",
            "  Created wheel for python-whois: filename=python_whois-0.8.0-py3-none-any.whl size=103262 sha256=6ff1dabf68f54f6eb1aeb5040577c113ee271d68a37fe7db16788b352d621fd4\n",
            "  Stored in directory: /root/.cache/pip/wheels/24/20/6b/5550a3d6bef09ddaed74eb84006fc3d53f94867f1916794df4\n",
            "Successfully built python-whois\n",
            "Installing collected packages: python-whois\n",
            "Successfully installed python-whois-0.8.0\n"
          ]
        }
      ],
      "source": [
        "!pip install python-whois"
      ]
    },
    {
      "cell_type": "code",
      "execution_count": null,
      "metadata": {
        "id": "CfL6wK_NnZAE"
      },
      "outputs": [],
      "source": [
        "import re\n",
        "from bs4 import BeautifulSoup\n",
        "import whois\n",
        "import urllib\n",
        "import urllib.request\n",
        "from datetime import datetime"
      ]
    },
    {
      "cell_type": "code",
      "execution_count": null,
      "metadata": {
        "id": "ppWOjmkyxPji"
      },
      "outputs": [],
      "source": [
        "# 11.DNS_Record\n",
        "# obtained in the featureExtraction function"
      ]
    },
    {
      "cell_type": "code",
      "execution_count": null,
      "metadata": {
        "id": "j83TKgwuxUOA"
      },
      "outputs": [],
      "source": [
        "#Nếu thứ hạng của doamin <100000, giá trị của tính năng này là 1 (lừa đảo) khác 0 (hợp pháp).\n",
        "# 12.Web traffic \n",
        "def web_traffic(url):\n",
        "  try:\n",
        "    #Fill whitespaces  URL if any\n",
        "    url = urllib.parse.quote(url)\n",
        "    print(url)\n",
        "    rank = BeautifulSoup(urllib.request.urlopen(\"http://data.alexa.com/data?cli=10&dat=s&url=\" + url).read(), \"xml\").find(\n",
        "        \"REACH\")['RANK']\n",
        "    rank = int(rank)\n",
        "  except TypeError:\n",
        "        return 1\n",
        "  if rank <100000:\n",
        "    return 1\n",
        "  else:\n",
        "    return 0"
      ]
    },
    {
      "cell_type": "code",
      "source": [
        "res = web_traffic(\"http://1337x.to/torrent/1048648/American-Sniper-2014-MD-iTALiAN-DVDSCR-X264-BST-MT/\")\n",
        "res"
      ],
      "metadata": {
        "id": "xIh_8C7wYi9E",
        "colab": {
          "base_uri": "https://localhost:8080/"
        },
        "outputId": "d997cb21-d93f-410c-f393-24165da5e935"
      },
      "execution_count": null,
      "outputs": [
        {
          "output_type": "stream",
          "name": "stdout",
          "text": [
            "http%3A//1337x.to/torrent/1048648/American-Sniper-2014-MD-iTALiAN-DVDSCR-X264-BST-MT/\n"
          ]
        },
        {
          "output_type": "execute_result",
          "data": {
            "text/plain": [
              "1"
            ]
          },
          "metadata": {},
          "execution_count": 35
        }
      ]
    },
    {
      "cell_type": "code",
      "execution_count": null,
      "metadata": {
        "id": "mM7H1s44yx-0"
      },
      "outputs": [],
      "source": [
        "#Nếu age of domain > 12 tháng, giá trị của tính năng này là 1 (lừa đảo) khác 0 (hợp pháp)\n",
        "# 13.Survival time of domain (Domain_Age)  \n",
        "def domainAge(domain_name):\n",
        "  creation_date = domain_name.creation_date\n",
        "  expiration_date = domain_name.expiration_date\n",
        "  if (isinstance(creation_date,str) or isinstance(expiration_date,str)):\n",
        "    try:\n",
        "      creation_date = datetime.strptime(creation_date,'%Y-%m-%d')\n",
        "      expiration_date = datetime.strptime(expiration_date,\"%Y-%m-%d\")\n",
        "    except:\n",
        "      return 1\n",
        "  if ((expiration_date is None) or (creation_date is None)):\n",
        "      return 1\n",
        "  elif ((type(expiration_date) is list) or (type(creation_date) is list)):\n",
        "      return 1\n",
        "  else:\n",
        "    ageofdomain = abs((expiration_date - creation_date).days)\n",
        "    if ((ageofdomain/30) < 6):\n",
        "      age = 1\n",
        "    else:\n",
        "      age = 0\n",
        "  return age"
      ]
    },
    {
      "cell_type": "code",
      "execution_count": null,
      "metadata": {
        "id": "AEccgtpnzzzz"
      },
      "outputs": [],
      "source": [
        "# Nếu period of domain > 6 tháng, giá trị của tính năng này là 1 (lừa đảo) khác 0 (hợp pháp)\n",
        "# 14.End time of domain (Domain_End) \n",
        "def domainEnd(domain_name):\n",
        "  expiration_date = domain_name.expiration_date\n",
        "  if isinstance(expiration_date,str):\n",
        "    try:\n",
        "      expiration_date = datetime.strptime(expiration_date,\"%Y-%m-%d\")\n",
        "    except:\n",
        "      return 1\n",
        "  if (expiration_date is None):\n",
        "      return 1\n",
        "  elif (type(expiration_date) is list):\n",
        "      return 1\n",
        "  else:\n",
        "    today = datetime.now()\n",
        "    end = abs((expiration_date - today).days)\n",
        "    if ((end/30) < 6):\n",
        "      end = 0\n",
        "    else:\n",
        "      end = 1\n",
        "  return end"
      ]
    },
    {
      "cell_type": "markdown",
      "metadata": {
        "id": "OHhuivfQ0lC1"
      },
      "source": [
        "## **2.3 Thuộc tính HTML and JavaScript**\n",
        "Các tập thuộc tính được trích xuất sau:\n",
        "* IFrame Redirection\n",
        "* Status Bar Customization\n",
        "* Disabling Right Click\n",
        "* Website Forwarding"
      ]
    },
    {
      "cell_type": "code",
      "execution_count": null,
      "metadata": {
        "id": "lYTuNafPryhx"
      },
      "outputs": [],
      "source": [
        "import requests"
      ]
    },
    {
      "cell_type": "code",
      "execution_count": null,
      "metadata": {
        "id": "s6JXVOk4r3Mv"
      },
      "outputs": [],
      "source": [
        "# 15. IFrame\n",
        "def iframe(response):\n",
        "  if response == \"\":\n",
        "      return 1\n",
        "  else:\n",
        "      if re.findall(r\"[<iframe>|<frameBorder>]\", response.text):\n",
        "          return 0\n",
        "      else:\n",
        "          return 1"
      ]
    },
    {
      "cell_type": "code",
      "execution_count": null,
      "metadata": {
        "id": "GHHKtmV9s6yv"
      },
      "outputs": [],
      "source": [
        "# 16.Check Mouse_Over\n",
        "def mouseOver(response): \n",
        "  if response == \"\" :\n",
        "    return 1\n",
        "  else:\n",
        "    if re.findall(\"<script>.+onmouseover.+</script>\", response.text):\n",
        "      return 1\n",
        "    else:\n",
        "      return 0"
      ]
    },
    {
      "cell_type": "code",
      "execution_count": null,
      "metadata": {
        "id": "tFq7h5uCs9jN"
      },
      "outputs": [],
      "source": [
        "# 17.Check Right_Click\n",
        "def rightClick(response):\n",
        "  if response == \"\":\n",
        "    return 1\n",
        "  else:\n",
        "    if re.findall(r\"event.button ?== ?2\", response.text):\n",
        "      return 0\n",
        "    else:\n",
        "      return 1"
      ]
    },
    {
      "cell_type": "code",
      "execution_count": null,
      "metadata": {
        "id": "VEblaDoetB-P"
      },
      "outputs": [],
      "source": [
        "# 18.Check Web_Forwards    \n",
        "def forwarding(response):\n",
        "  if response == \"\":\n",
        "    return 1\n",
        "  else:\n",
        "    if len(response.history) <= 2:\n",
        "      return 0\n",
        "    else:\n",
        "      return 1"
      ]
    },
    {
      "cell_type": "markdown",
      "metadata": {
        "id": "8U_zpFS8uI3w"
      },
      "source": [
        "# **3. Tính toán thuộc tính URLs**\n",
        "Tạo danh sách và một hàm gọi các hàm khác và lưu trữ tất cả các thuộc tính của URL vào list."
      ]
    },
    {
      "cell_type": "code",
      "execution_count": null,
      "metadata": {
        "id": "9hXNS5PEucJA"
      },
      "outputs": [],
      "source": [
        "def featureExtraction(url,label):\n",
        "\n",
        "  features = []\n",
        "  #Address bar features (10)\n",
        "  features.append(getDomain(url))\n",
        "  features.append(havingIP(url))\n",
        "  features.append(haveAtSign(url))\n",
        "  features.append(getLength(url))\n",
        "  features.append(getDepth(url))\n",
        "  features.append(redirection(url))\n",
        "  features.append(httpDomain(url))\n",
        "  features.append(tinyURL(url))\n",
        "  features.append(prefixSuffix(url))\n",
        "  \n",
        "  #Domain features (4)\n",
        "  dns = 0\n",
        "  try:\n",
        "    domain_name = whois.whois(urlparse(url).netloc)\n",
        "  except:\n",
        "    dns = 1\n",
        "\n",
        "  features.append(dns)\n",
        "  features.append(web_traffic(url))\n",
        "  features.append(1 if dns == 1 else domainAge(domain_name))\n",
        "  features.append(1 if dns == 1 else domainEnd(domain_name))\n",
        "  \n",
        "  # HTML & Javascript features (4)\n",
        "  try:\n",
        "    response = requests.get(url)\n",
        "  except:\n",
        "    response = \"\"\n",
        "  features.append(iframe(response))\n",
        "  features.append(mouseOver(response))\n",
        "  features.append(rightClick(response))\n",
        "  features.append(forwarding(response))\n",
        "  features.append(label)\n",
        "  \n",
        "  return features"
      ]
    },
    {
      "cell_type": "code",
      "source": [
        "features = featureExtraction(\"http%3A//babal.net/women/view/80/%25D8%25AF%25D9%2584%25D9%2591%25D9%2584%25D9%258A-%25D9%2586%25D9%2581%25D8%25B3%25D9%2583-%25D8%25A3%25D9%258A%25D8%25AA%25D9%2587%25D8%25A7-%25D8%25A7%25D9%2584%25D8%25A3%25D9%2585-%25D9%2585%25D8%25B9-%25D9%2587%25D8%25B0%25D9%2587-%25D8%25A7%25D9%2584%25D9%2586%25D8%25B5%25D8%25A7%25D8%25A6%25D8%25A\", 0) \n",
        "features"
      ],
      "metadata": {
        "id": "-d1J5h3vTbTw",
        "colab": {
          "base_uri": "https://localhost:8080/"
        },
        "outputId": "557ee82a-942f-438b-da4f-371d0cf71244"
      },
      "execution_count": null,
      "outputs": [
        {
          "output_type": "stream",
          "name": "stdout",
          "text": [
            "The domain is:  \n",
            "http%253A//babal.net/women/view/80/%2525D8%2525AF%2525D9%252584%2525D9%252591%2525D9%252584%2525D9%25258A-%2525D9%252586%2525D9%252581%2525D8%2525B3%2525D9%252583-%2525D8%2525A3%2525D9%25258A%2525D8%2525AA%2525D9%252587%2525D8%2525A7-%2525D8%2525A7%2525D9%252584%2525D8%2525A3%2525D9%252585-%2525D9%252585%2525D8%2525B9-%2525D9%252587%2525D8%2525B0%2525D9%252587-%2525D8%2525A7%2525D9%252584%2525D9%252586%2525D8%2525B5%2525D8%2525A7%2525D8%2525A6%2525D8%2525A\n"
          ]
        },
        {
          "output_type": "execute_result",
          "data": {
            "text/plain": [
              "['', 0, 0, 1, 6, 0, 0, 0, 0, 0, 1, 1, 1, 1, 1, 1, 1, 0]"
            ]
          },
          "metadata": {},
          "execution_count": 50
        }
      ]
    },
    {
      "cell_type": "markdown",
      "metadata": {
        "id": "ffe4oHjRuxwQ"
      },
      "source": [
        "## **3.1 URL hợp pháp**"
      ]
    },
    {
      "cell_type": "code",
      "execution_count": null,
      "metadata": {
        "id": "yb2gbP2ovDgv",
        "colab": {
          "base_uri": "https://localhost:8080/"
        },
        "outputId": "430d400e-e98c-44e7-ceac-8f6641d1a9bf"
      },
      "outputs": [
        {
          "output_type": "execute_result",
          "data": {
            "text/plain": [
              "(100, 1)"
            ]
          },
          "metadata": {},
          "execution_count": 38
        }
      ],
      "source": [
        "legiurl.shape"
      ]
    },
    {
      "cell_type": "code",
      "execution_count": null,
      "metadata": {
        "id": "tEISffqFvFOW",
        "colab": {
          "base_uri": "https://localhost:8080/"
        },
        "outputId": "0a4fa446-546f-4cf7-c33e-33c1d4334054"
      },
      "outputs": [
        {
          "output_type": "stream",
          "name": "stdout",
          "text": [
            "Link number No.0\n",
            "The domain is:  graphicriver.net\n",
            "http%3A//graphicriver.net/search%3Fdate%3Dthis-month%26length_max%3D%26length_min%3D%26price_max%3D%26price_min%3D%26rating_min%3D%26sales%3D%26sort%3Dsales%26term%3D%26view%3Dlist\n",
            "Link number No.1\n",
            "The domain is:  ecnavi.jp\n",
            "http%3A//ecnavi.jp/redirect/%3Furl%3Dhttp%3A//www.cross-a.net/x.php%3Fid%3D1845_3212_22061_26563%26m%3D1004%26pid%3D%25user_id%25\n",
            "Link number No.2\n",
            "The domain is:  hubpages.com\n",
            "https%3A//hubpages.com/signin%3Fexplain%3Dfollow%2BHubs%26url%3D%252Fhub%252FComfort-Theories-of-Religion\n",
            "Link number No.3\n",
            "The domain is:  extratorrent.cc\n",
            "http%3A//extratorrent.cc/torrent/4190536/AOMEI%2BBackupper%2BTechnician%2B%252B%2BServer%2BEdition%2B2.8.0%2B%252B%2BPatch%2B%252B%2BKey%2B%252B%2B100%2525%2BWorking.html\n",
            "Link number No.4\n",
            "The domain is:  icicibank.com\n",
            "http%3A//icicibank.com/Personal-Banking/offers/offer-detail.page%3Fid%3Doffer-ezeego-domestic-airtravel-20141407112611060\n",
            "Link number No.5\n",
            "The domain is:  nypost.com\n",
            "http%3A//nypost.com/2015/05/07/us-indifference-leaves-saudis-partnering-with-terrorists/\n",
            "Link number No.6\n",
            "The domain is:  kienthuc.net.vn\n",
            "Error trying to connect to socket: closing socket - [Errno -2] Name or service not known\n",
            "http%3A//kienthuc.net.vn/diem-thi/diem-chuan-dh-cong-nghe-giao-thong-van-tai-nam-2014-482407.html\n",
            "Link number No.7\n",
            "The domain is:  thenextweb.com\n",
            "http%3A//thenextweb.com/in/2015/04/16/india-wants-a-neutral-web-and-facebooks-internet-org-cant-be-a-part-of-it/gtm.js\n",
            "Link number No.8\n",
            "The domain is:  tobogo.net\n",
            "http%3A//tobogo.net/cdsb/board.php%3Fboard%3Dgreet%26bm%3Dview%26no%3D5716%26category%3D%26auth%3D%26page%3D1%26search%3D%26keyword%3D%26recom%3D\n",
            "Link number No.9\n",
            "The domain is:  akhbarelyom.com\n",
            "http%3A//akhbarelyom.com/news/newdetails/411395/1/%25D9%2585%25D8%25AD%25D8%25A7%25D9%2581%25D8%25B8-%25D8%25A7%25D9%2584%25D8%25A8%25D8%25AD%25D9%258A%25D8%25B1.html\n",
            "Link number No.10\n",
            "The domain is:  tunein.com\n",
            "http%3A//tunein.com/radio/Carolina-Mudcats-at-Myrtle-Beach-Pelicans-May-13-2015-p729095/15480783/ca-pub-1542925551861702/ProgramTopBanner\n",
            "Link number No.11\n",
            "The domain is:  tune.pk\n",
            "Error trying to connect to socket: closing socket - [Errno -2] Name or service not known\n",
            "https%3A//tune.pk/video/6046458/canelo-vs-kirkland-highlights-hbo-world-championship-boxing\n",
            "Link number No.12\n",
            "The domain is:  sfglobe.com\n",
            "http%3A//sfglobe.com/2015/05/01/six-baltimore-police-officers-charged-in-freddie-grays-death/%3Fsrc%3Dhome_feed\n",
            "Link number No.13\n",
            "The domain is:  mic.com\n",
            "http%3A//mic.com/articles/107372/49-tremendous-things-florida-men-accomplished-this-year\n",
            "Link number No.14\n",
            "The domain is:  thenextweb.com\n",
            "http%3A//thenextweb.com/apps/2015/05/07/flickr-launches-redesigned-mobile-apps-encourages-you-to-upload-your-entire-camera-roll/gtm.js\n",
            "Link number No.15\n",
            "The domain is:  couchtuner.eu.com\n",
            "http%3A//couchtuner.eu.com/2013/05/anger-management-s2-e17-charlie-lets-kate-take-charge.html\n",
            "Link number No.16\n",
            "The domain is:  olx.in\n",
            "http%3A//olx.in/hi/item/nokia-5800-express-music-perfect-working-condition-body-average-cond-IDTIzUp.html\n",
            "Link number No.17\n",
            "The domain is:  venturebeat.com\n",
            "http%3A//venturebeat.com/2015/05/08/yelp-sale-rumor-reminds-us-that-social-is-terrible-as-a-business-even-if-it-did-change-the-web/\n",
            "Link number No.18\n",
            "The domain is:  allegro.pl\n",
            "http%3A//allegro.pl/listing/listing.php%3Fid%3D122233%26order%3Dm%26string%3D%257Bstring%257D%26bmatch%3Dseng-ps-mp-p-sm-isqm-2-e-0402\n",
            "Link number No.19\n",
            "The domain is:  allegro.pl\n",
            "http%3A//allegro.pl/listing/listing.php%3Fid%3D20782%26order%3Dm%26p%3D2%26string%3D%257Bstring%257D%26bmatch%3Dseng-v10-p-sm-isqm-2-o-0113\n",
            "Link number No.20\n",
            "The domain is:  tinnhanh360.net\n",
            "http%3A//tinnhanh360.net/-ong-tay-de-thuong-ban-do-choi-dao-ha-noi-gay-ngac-nhien-thich-thu.html\n",
            "Link number No.21\n",
            "The domain is:  metro.co.uk\n",
            "http%3A//metro.co.uk/2014/08/15/big-brother-2014-shock-twist-ashleigh-coyle-comes-second-4834723/\n",
            "Link number No.22\n",
            "The domain is:  atwiki.jp\n",
            "http%3A//atwiki.jp/wiki/%25EF%25BC%25AD%25EF%25BC%25B5%25EF%25BC%25A7%25EF%25BC%25A5%25EF%25BC%25AE%2520%25E6%2582%259F%25E7%25A9%25BA\n",
            "Link number No.23\n",
            "The domain is:  emgn.com\n",
            "http%3A//emgn.com/tv/schnauzer-passes-out-with-excitement-when-he-is-reunited-with-his-human-after-2-years/\n",
            "Link number No.24\n",
            "The domain is:  nguyentandung.org\n",
            "http%3A//nguyentandung.org/bo-truong-nguyen-bac-son-se-manh-tay-ngan-chan-tin-nhan-rac.html\n",
            "Link number No.25\n",
            "The domain is:  motthegioi.vn\n",
            "Error trying to connect to socket: closing socket - [Errno -2] Name or service not known\n",
            "http%3A//motthegioi.vn/tai-chinh-bat-dong-san/tu-17-nguoi-mua-nha-dat-phai-cong-them-hang-loat-chi-phi-187472.html\n",
            "Link number No.26\n",
            "The domain is:  spankbang.com\n",
            "http%3A//spankbang.com/4ze1/video/brunette%2Bwith%2Bbig%2Bboobs%2Bfucked%2Bin%2Ba%2Bcellar%2Bpublic%2Bagent\n",
            "Link number No.27\n",
            "The domain is:  torcache.net\n",
            "http%3A//torcache.net/torrent/FECDCFB88429EDAE6184E26D63EDD5A1AB2B1736.torrent%3Ftitle%3D%5Bkickass.to%5Dbro.s.before.ho.s.2013.720p.brrip.nl.gesproken.dutchreleaseteam\n",
            "Link number No.28\n",
            "The domain is:  mic.com\n",
            "http%3A//mic.com/articles/117370/baltimore-reveals-why-we-need-our-musicians-now-more-than-ever\n",
            "Link number No.29\n",
            "The domain is:  thenextweb.com\n",
            "http%3A//thenextweb.com/dd/2014/04/08/ux-designers-side-drawer-navigation-costing-half-user-engagement/feed/gtm.start\n",
            "Link number No.30\n",
            "The domain is:  emgn.com\n",
            "http%3A//emgn.com/movies/person-of-interest-what-to-expect-from-season-4-release-date/\n",
            "Link number No.31\n",
            "The domain is:  depositphotos.com\n",
            "http%3A//depositphotos.com/login.html%3Furl%3D%252F34608623%252Fstock-illustration-vector-abstract-3d-road-infographics.html\n",
            "Link number No.32\n",
            "The domain is:  serverfault.com\n",
            "http%3A//serverfault.com/questions/52370/what-is-the-order-group-policy-settings-are-applied\n",
            "Link number No.33\n",
            "The domain is:  kakaku.com\n",
            "http%3A//kakaku.com/kaden/portable-dvd-player/ranking_2026/pricedown/div-gpt-ad-k/header_text\n",
            "Link number No.34\n",
            "The domain is:  indianexpress.com\n",
            "http%3A//indianexpress.com/article/world/asia/pak-officer-gave-up-osama-kayani-isi-chief-helped-us/\n",
            "Link number No.35\n",
            "The domain is:  nypost.com\n",
            "http%3A//nypost.com/2015/05/13/brooklyn-man-kills-cheating-girlfriends-lover-then-self/%3Fshare%3Demail\n",
            "Link number No.36\n",
            "The domain is:  distractify.com\n",
            "http%3A//distractify.com/post/related/id/5543af854a0c4b511d7c70a2/skip/30/limit/10/back/0\n",
            "Link number No.37\n",
            "The domain is:  sourceforge.net\n",
            "http%3A//sourceforge.net/directory/communications/add_facet_filter%3Ffacet%3Dos%26constraint%3DMac\n",
            "Link number No.38\n",
            "The domain is:  babal.net\n",
            "http%3A//babal.net/books/view/960/%25D8%25AE%25D9%258A%25D8%25A7%25D9%2586%25D8%25A9-%25D8%25A7%25D9%2584%25D9%2585%25D8%25AB%25D9%2582%25D9%2581%25D9%258A%25D9%2586\n",
            "Link number No.39\n",
            "The domain is:  serverfault.com\n",
            "http%3A//serverfault.com/questions/690852/use-powershell-to-start-a-gui-program-on-a-remote-machine\n",
            "Link number No.40\n",
            "The domain is:  cookpad.com\n",
            "http%3A//cookpad.com/login%3Frt%3D%252Fcategory%252Frecommend%252F590%253Frt%253D%25252Fcategory%25252F590\n",
            "Link number No.41\n",
            "The domain is:  plarium.com\n",
            "http%3A//plarium.com/en/strategy-games/stormfall-age-of-war/news/withdraw-to-the-catacombs/\n",
            "Link number No.42\n",
            "The domain is:  pikabu.ru\n",
            "http%3A//pikabu.ru/tag/%25D1%2581%25D1%2582%25D0%25B0%25D0%25B2%25D1%2580%25D0%25BE%25D0%25BF%25D0%25BE%25D0%25BB%25D1%258C/hot\n",
            "Link number No.43\n",
            "The domain is:  grantland.com\n",
            "http%3A//grantland.com/hollywood-prospectus/2015-oscar-nomination-predictions-best-director-best-picture/\n",
            "Link number No.44\n",
            "The domain is:  allegro.pl\n",
            "http%3A//allegro.pl/listing/user/listing.php%3Fus_id%3D25662671%26order%3Dp%26string%3DB-110%2BHIT%26search_scope%3DuserItems-25662671%26bmatch%3Ds0-default-0113%26sh_dwh_token%3Dd0b6dd74a8394345128e20d296cb1c5e\n",
            "Link number No.45\n",
            "The domain is:  nguyentandung.org\n",
            "http%3A//nguyentandung.org/bai-do-xe-ngam-trong-cong-vien-thong-nhat-thu-hoi-von-cach-nao.html\n",
            "Link number No.46\n",
            "The domain is:  allegro.pl\n",
            "http%3A//allegro.pl/listing/listing.php%3Fbmatch%3Dseng-v6-p-sm-isqm-2-ce-0113%26id%3D175%26order%3Dm%26string%3D%257Bstring%257D\n",
            "Link number No.47\n",
            "The domain is:  europa.eu\n",
            "http%3A//europa.eu/about-eu/agencies/regulatory_agencies_bodies/policy_agencies/eurofound/index_en.htm\n",
            "Link number No.48\n",
            "The domain is:  extratorrent.cc\n",
            "http%3A//extratorrent.cc/torrent/4190380/VA-Unusual_Techno_One_LP-WEB-2015-CBR_INT.html\n",
            "Link number No.49\n",
            "The domain is:  persianblog.ir\n",
            "Error trying to connect to socket: closing socket - timed out\n",
            "http%3A//persianblog.ir/tags/42604/8/%25d8%25b3%25d9%2587%25d8%25b1%25d8%25a7%25d8%25a8_%25d8%25b3%25d9%25be%25d9%2587%25d8%25b1%25db%258c/\n",
            "Link number No.50\n",
            "The domain is:  distractify.com\n",
            "http%3A//distractify.com/post/related/id/5537c6314a0c4b89316cdbdf/skip/20/limit/10/back/0\n",
            "Link number No.51\n",
            "The domain is:  kenh14.vn\n",
            "Error trying to connect to socket: closing socket - [Errno -2] Name or service not known\n",
            "http%3A//kenh14.vn/star/lo-dien-ban-trai-hot-boy-cua-van-mai-huong-20140716121655295.chn\n",
            "Link number No.52\n",
            "The domain is:  twitter.com\n",
            "https%3A//twitter.com/share%3Furl%3Dhttp%253A%252F%252Fhubpages.com%252Fhub%252FWhats-the-difference-between-self-esteem-and-confidence%26text%3DDefinitions%2Bof%2BConfidence%2B%2526%2BSelf%2BEsteem%2B-%2BWhat%2527s%2Bthe%2BDifference%253F\n",
            "Link number No.53\n",
            "The domain is:  nesn.com\n",
            "http%3A//nesn.com/2015/04/draftkings-giancarlo-stanton-mookie-betts-in-tom-carons-fantasy-lineup/\n",
            "Link number No.54\n",
            "The domain is:  fishki.net\n",
            "http%3A//fishki.net/1526766-kapello-zajavil-o-bezumii-prezidenta-rfs.html%3Fmode%3Drecent\n",
            "Link number No.55\n",
            "The domain is:  syosetu.com\n",
            "http%3A//syosetu.com/searchuser/search/index.php%3Fname1st%3D%25E3%2582%2580%26all%3D1%26all2%3D1%26all3%3D1%26all4%3D1%26p%3D10\n",
            "Link number No.56\n",
            "The domain is:  akhbarelyom.com\n",
            "http%3A//akhbarelyom.com/news/newdetails/411497/1/%25D9%2585%25D8%25B5%25D8%25B1-%25D8%25A7%25D9%2584%25D8%25B9%25D8%25B7%25D8%25A7%25D8%25A1-%25D8%25AA.html\n",
            "Link number No.57\n",
            "The domain is:  allegro.pl\n",
            "http%3A//allegro.pl/triumph-stringi-precious-essence-string-granat-40-i5035632976.html\n",
            "Link number No.58\n",
            "The domain is:  getpocket.com\n",
            "http%3A//getpocket.com/signup%3Fmode%3Dsocialmode%26route%3Dhttp%3A//getpocket.com/p/pocket-topics/fitness\n",
            "Link number No.59\n",
            "The domain is:  mylust.com\n",
            "http%3A//mylust.com/videos/235751/sexy-hentai-chick-gets-her-huge-succulent-tits-squeezed/\n",
            "Link number No.60\n",
            "The domain is:  censor.net.ua\n",
            "http%3A//censor.net.ua/photo_news/335629/v_tsentre_donetska_ural_boevikov_dnr_razdavil_jiguli_2_pogibshih_narod_ne_protestuet_foto\n",
            "Link number No.61\n",
            "The domain is:  pornsharing.com\n",
            "http%3A//pornsharing.com/latina-girl-chloe-amour-and-busty-blonde-step-mom-julia-ann-get-face-fucked_v78082\n",
            "Link number No.62\n",
            "The domain is:  genius.com\n",
            "http%3A//genius.com/4810956/Ol-dirty-bastard-never-before-seen-ol-dirty-bastard-raw-and-uncut-interview/But-its-just-hey-the-kids-love-dirty-you-know-what-i-mean-every-time-they-see-dirty-they-smile-you-know-what-i-mean\n",
            "Link number No.63\n",
            "The domain is:  sourceforge.net\n",
            "http%3A//sourceforge.net/directory/communications/add_facet_filter%3Ffacet%3Dlanguage%26constraint%3DPL%252FSQL\n",
            "Link number No.64\n",
            "The domain is:  codecanyon.net\n",
            "http%3A//codecanyon.net/item/bitdrop-file-hosting-with-short-url-link/full_screen_preview/426023\n",
            "Link number No.65\n",
            "The domain is:  qz.com\n",
            "http%3A//qz.com/404309/photos-silicon-valley-fashion-week-kicks-off-with-drone-models/\n",
            "Link number No.66\n",
            "The domain is:  kenh14.vn\n",
            "Error trying to connect to socket: closing socket - [Errno -2] Name or service not known\n",
            "http%3A//kenh14.vn/2-tek/ban-jailbreak-he-dieu-hanh-ios-613-toi-ios-615-chinh-thuc-trinh-lang-2013122404361169.chn\n",
            "Link number No.67\n",
            "The domain is:  uproxx.com\n",
            "http%3A//uproxx.com/movies/2015/04/paul-bettany-gives-us-a-glimpse-of-vision-in-action-in-avengers-age-of-ultron/\n",
            "Link number No.68\n",
            "The domain is:  babal.net\n",
            "http%3A//babal.net/women/view/80/%25D8%25AF%25D9%2584%25D9%2591%25D9%2584%25D9%258A-%25D9%2586%25D9%2581%25D8%25B3%25D9%2583-%25D8%25A3%25D9%258A%25D8%25AA%25D9%2587%25D8%25A7-%25D8%25A7%25D9%2584%25D8%25A3%25D9%2585-%25D9%2585%25D8%25B9-%25D9%2587%25D8%25B0%25D9%2587-%25D8%25A7%25D9%2584%25D9%2586%25D8%25B5%25D8%25A7%25D8%25A6%25D8%25AD\n",
            "Link number No.69\n",
            "The domain is:  mic.com\n",
            "http%3A//mic.com/articles/116370/avengers-stars-sexist-jokes-illustrate-a-major-problem-with-the-comic-book-industry\n",
            "Link number No.70\n",
            "The domain is:  torcache.net\n",
            "http%3A//torcache.net/torrent/0FF0E2F39CD5AB403EE03F8E1B69127D0476D976.torrent%3Ftitle%3D%5Bkickass.to%5Dkomban.2015.hq.real.dvdscr.xvid.1cd.700mb.tamil\n",
            "Link number No.71\n",
            "The domain is:  paytm.com\n",
            "https%3A//paytm.com/blog/paytm-offer-for-app-users-get-upto-rs-50-cash-back/%3Fshare%3Demail\n",
            "Link number No.72\n",
            "The domain is:  motthegioi.vn\n",
            "Error trying to connect to socket: closing socket - [Errno -2] Name or service not known\n",
            "http%3A//motthegioi.vn/suckhoe/nu-cuoi-y-hoc/nu-cuoi-suc-khoe-nhung-li-do-nen-yeu-chang-trai-bung-bu-188294.html\n",
            "Link number No.73\n",
            "The domain is:  torcache.net\n",
            "http%3A//torcache.net/torrent/047D47DFF4DC5CD9BEA6D0F4C57D68F2F2D71205.torrent%3Ftitle%3D%5Bkickass.to%5Dnight.at.the.museum.secret.of.the.tomb.2014.1080p.brrip.x264.yify\n",
            "Link number No.74\n",
            "The domain is:  thenextweb.com\n",
            "http%3A//thenextweb.com/asia/2014/09/26/myanmars-mobile-revolution-kicks-telenor-prepares-launch-service/gtm.start\n",
            "Link number No.75\n",
            "The domain is:  extratorrent.cc\n",
            "http%3A//extratorrent.cc/torrent/4189616/Jedi%2BMind.Tricks.The.Thief.and.the.Fallen.2015.mp3.vbr.NOiR.html\n",
            "Link number No.76\n",
            "The domain is:  genius.com\n",
            "http%3A//genius.com/2990084/Us-general-services-administration-gsa-mentor-protege-program-subpart-51970/Incentives-for-prime-contractors\n",
            "Link number No.77\n",
            "The domain is:  thenextweb.com\n",
            "http%3A//thenextweb.com/apps/2012/04/19/500px-launches-android-app-and-overhauls-its-ipad-version-too/\n",
            "Link number No.78\n",
            "The domain is:  kienthuc.net.vn\n",
            "Error trying to connect to socket: closing socket - [Errno -2] Name or service not known\n",
            "http%3A//kienthuc.net.vn/tin-tuc-tuyen-sinh/ty-le-choi-cua-dai-hoc-fpt-nam-2014-487408.html\n",
            "Link number No.79\n",
            "The domain is:  sourceforge.net\n",
            "http%3A//sourceforge.net/directory/development/add_facet_filter%3Ffacet%3Dlicense%26constraint%3DOSI-Approved%2BOpen%2BSource%2B%253A%253A%2BPHP%2BLicense\n",
            "Link number No.80\n",
            "The domain is:  nypost.com\n",
            "http%3A//nypost.com/2015/01/28/tepper-loses-fight-to-restructure-caesars-in-delaware/\n",
            "Link number No.81\n",
            "The domain is:  ap.org\n",
            "http%3A//ap.org/Content/Press-Release/2013/NFL-celebrates-season-with-NFL-Honors-Super-Bowl-Eve\n",
            "Link number No.82\n",
            "The domain is:  indianexpress.com\n",
            "http%3A//indianexpress.com/article/cities/ludhiana/32-year-old-commits-suicide-at-in-laws-place-in-ludhiana/\n",
            "Link number No.83\n",
            "The domain is:  extratorrent.cc\n",
            "http%3A//extratorrent.cc/torrent_download/4191066/Chappie.2015.720p.WEB-DL.AAC2.0.H.264-PLAYNOW.torrent\n",
            "Link number No.84\n",
            "The domain is:  correios.com.br\n",
            "http%3A//correios.com.br/english/the-brazil-post/education-and-culture/cultural-centers/cultural-center-of-rio-de-janeiro\n",
            "Link number No.85\n",
            "The domain is:  web.de\n",
            "http%3A//web.de/magazine/sport/fussball/champions-league/fc-bayern-muenchen-fc-barcelona/fc-bayern-muenchen-fc-barcelona-enrique-fuerchtet-freund-guardiola-30633596\n",
            "Link number No.86\n",
            "The domain is:  noticias.uol.com.br\n",
            "http%3A//noticias.uol.com.br/saude/album/2015/03/17/dengue-pelo-brasil.htm%3Fabrefoto%3D63\n",
            "Link number No.87\n",
            "The domain is:  bdnews24.com\n",
            "http%3A//bdnews24.com/economy/2015/05/05/world-bank-to-give-bangladesh-200-million-loan-to-cut-poverty\n",
            "Link number No.88\n",
            "The domain is:  kenh14.vn\n",
            "Error trying to connect to socket: closing socket - [Errno -2] Name or service not known\n",
            "http%3A//kenh14.vn/tv-show/viet-huong-gao-thet-to-chong-leng-pheng-trai-tre-20150208121726226.chn\n",
            "Link number No.89\n",
            "The domain is:  codecanyon.net\n",
            "http%3A//codecanyon.net/item/photofans-your-social-network-to-share-photos/full_screen_preview/6308014\n",
            "Link number No.90\n",
            "The domain is:  tunein.com\n",
            "http%3A//tunein.com/radio/Carolina-Mudcats-at-Myrtle-Beach-Pelicans-May-13-2015-p729095/\n",
            "Link number No.91\n",
            "The domain is:  nguyentandung.org\n",
            "http%3A//nguyentandung.org/vi-sao-nguyen-tong-bien-tap-bao-nguoi-cao-tuoi-bi-khoi-to.html\n",
            "Link number No.92\n",
            "The domain is:  kickass.to\n",
            "http%3A//kickass.to/microsoft-office-professional-plus-2013-64-bit-english-rareabyss-t10091322.html\n",
            "Link number No.93\n",
            "The domain is:  weathernews.jp\n",
            "http%3A//weathernews.jp/smart/sora_mission/0/glance.html%3Fmissionid%3D1431484304.67676%26fm%3Dsw%26fmdotop%3D2\n",
            "Link number No.94\n",
            "The domain is:  atwiki.jp\n",
            "http%3A//atwiki.jp/wiki/%25E8%25A9%25A6%25E9%25A8%2593%25E4%25B8%25AD%2520%25E9%259C%2587%25E7%2581%25BD%25E5%25AF%25BE%25E5%25BF%259C\n",
            "Link number No.95\n",
            "The domain is:  plarium.com\n",
            "http%3A//plarium.com/en/strategy-games/sparta-war-of-empires/mmo-masters/offensive-positions\n",
            "Link number No.96\n",
            "The domain is:  chaturbate.com\n",
            "https%3A//chaturbate.com/tipping/spy_on_private_show_tokens_per_minute/ingridblondy94/\n",
            "Link number No.97\n",
            "The domain is:  babal.net\n",
            "http%3A//babal.net/news/view/42903/%25D8%25AD%25D8%25A8%25D8%25B3-%25D9%2585%25D8%25AD%25D8%25A7%25D9%2581%25D8%25B8-%25D8%25A7%25D9%2584%25D8%25A3%25D9%2582%25D8%25B5%25D8%25B1-%25D8%25A7%25D9%2584%25D8%25B3%25D8%25A7%25D8%25A8%25D9%2582-%25D8%25B9%25D8%25A7%25D9%2585%25D9%258A%25D9%2586-%25D9%2588%25D8%25AA%25D8%25BA%25D8%25B1%25D9%258A%25D9%2585%25D9%2587-10-%25D8%25A2%25D9%2584%25D8%25A7%25D9%2581-%25D8%25AC%25D9%2586%25D9%258A%25D9%2587-%25D9%2584%25D8%25B9%25D8%25AF%25D9%2585-%25D8%25AA%25D9%2586%25D9%2581%25D9%258A%25D8%25B0%25D9%2587-%25D8%25AD%25D9%2583%25D9%2585%25D8%25A7-%25D9%2582%25D8%25B6%25D8%25A7%25D8%25A6%25D9%258A%25D8%25A7\n",
            "Link number No.98\n",
            "The domain is:  sberbank.ru\n",
            "http%3A//sberbank.ru/portalserver/sb-portal-ru/ru/person/paymentsandremittances/remittance/in/beznal_rus/beznal_snal_rus\n",
            "Link number No.99\n",
            "The domain is:  torcache.net\n",
            "http%3A//torcache.net/torrent/3671994FE2E23CC3E914E74EB63E5A85AA184B4B.torrent%3Ftitle%3D%5Bkickass.to%5Dfocus.2015.720p.hq.ac3.dd5.1.externe.eng.nl.subs.tbs\n"
          ]
        }
      ],
      "source": [
        "legi_features = []\n",
        "label = 0\n",
        "\n",
        "for i in range(0, 100):\n",
        "  print(\"Link number No.%d\" % i)\n",
        "  url = legiurl['URLs'][i]\n",
        "  legi_features.append(featureExtraction(url,label))"
      ]
    },
    {
      "cell_type": "code",
      "execution_count": null,
      "metadata": {
        "id": "6RcNmvlnvG6i",
        "colab": {
          "base_uri": "https://localhost:8080/",
          "height": 270
        },
        "outputId": "6c75b32b-db22-4c67-90db-1312457da1b9"
      },
      "outputs": [
        {
          "output_type": "execute_result",
          "data": {
            "text/plain": [
              "             Domain  Have_IP  Have_At  URL_Length  URL_Depth  Redirection  \\\n",
              "0  graphicriver.net        0        0           1          1            0   \n",
              "1         ecnavi.jp        0        0           1          1            1   \n",
              "2      hubpages.com        0        0           1          1            0   \n",
              "3   extratorrent.cc        0        0           1          3            0   \n",
              "4     icicibank.com        0        0           1          3            0   \n",
              "\n",
              "   https_Domain  TinyURL  Prefix/Suffix  DNS_Record  Web_Traffic  Domain_Age  \\\n",
              "0             1        0              0           0            1           1   \n",
              "1             1        0              0           0            1           1   \n",
              "2             1        0              0           0            1           0   \n",
              "3             1        0              0           0            1           0   \n",
              "4             1        0              0           0            1           0   \n",
              "\n",
              "   Domain_End  iFrame  Mouse_Over  Right_Click  Web_Forwards  Label  \n",
              "0           1       0           0            1             0      0  \n",
              "1           1       0           0            1             0      0  \n",
              "2           0       0           0            1             0      0  \n",
              "3           1       0           0            1             0      0  \n",
              "4           1       0           0            1             1      0  "
            ],
            "text/html": [
              "\n",
              "  <div id=\"df-7eee0d19-ff84-419e-8e8d-50d5c312420a\">\n",
              "    <div class=\"colab-df-container\">\n",
              "      <div>\n",
              "<style scoped>\n",
              "    .dataframe tbody tr th:only-of-type {\n",
              "        vertical-align: middle;\n",
              "    }\n",
              "\n",
              "    .dataframe tbody tr th {\n",
              "        vertical-align: top;\n",
              "    }\n",
              "\n",
              "    .dataframe thead th {\n",
              "        text-align: right;\n",
              "    }\n",
              "</style>\n",
              "<table border=\"1\" class=\"dataframe\">\n",
              "  <thead>\n",
              "    <tr style=\"text-align: right;\">\n",
              "      <th></th>\n",
              "      <th>Domain</th>\n",
              "      <th>Have_IP</th>\n",
              "      <th>Have_At</th>\n",
              "      <th>URL_Length</th>\n",
              "      <th>URL_Depth</th>\n",
              "      <th>Redirection</th>\n",
              "      <th>https_Domain</th>\n",
              "      <th>TinyURL</th>\n",
              "      <th>Prefix/Suffix</th>\n",
              "      <th>DNS_Record</th>\n",
              "      <th>Web_Traffic</th>\n",
              "      <th>Domain_Age</th>\n",
              "      <th>Domain_End</th>\n",
              "      <th>iFrame</th>\n",
              "      <th>Mouse_Over</th>\n",
              "      <th>Right_Click</th>\n",
              "      <th>Web_Forwards</th>\n",
              "      <th>Label</th>\n",
              "    </tr>\n",
              "  </thead>\n",
              "  <tbody>\n",
              "    <tr>\n",
              "      <th>0</th>\n",
              "      <td>graphicriver.net</td>\n",
              "      <td>0</td>\n",
              "      <td>0</td>\n",
              "      <td>1</td>\n",
              "      <td>1</td>\n",
              "      <td>0</td>\n",
              "      <td>1</td>\n",
              "      <td>0</td>\n",
              "      <td>0</td>\n",
              "      <td>0</td>\n",
              "      <td>1</td>\n",
              "      <td>1</td>\n",
              "      <td>1</td>\n",
              "      <td>0</td>\n",
              "      <td>0</td>\n",
              "      <td>1</td>\n",
              "      <td>0</td>\n",
              "      <td>0</td>\n",
              "    </tr>\n",
              "    <tr>\n",
              "      <th>1</th>\n",
              "      <td>ecnavi.jp</td>\n",
              "      <td>0</td>\n",
              "      <td>0</td>\n",
              "      <td>1</td>\n",
              "      <td>1</td>\n",
              "      <td>1</td>\n",
              "      <td>1</td>\n",
              "      <td>0</td>\n",
              "      <td>0</td>\n",
              "      <td>0</td>\n",
              "      <td>1</td>\n",
              "      <td>1</td>\n",
              "      <td>1</td>\n",
              "      <td>0</td>\n",
              "      <td>0</td>\n",
              "      <td>1</td>\n",
              "      <td>0</td>\n",
              "      <td>0</td>\n",
              "    </tr>\n",
              "    <tr>\n",
              "      <th>2</th>\n",
              "      <td>hubpages.com</td>\n",
              "      <td>0</td>\n",
              "      <td>0</td>\n",
              "      <td>1</td>\n",
              "      <td>1</td>\n",
              "      <td>0</td>\n",
              "      <td>1</td>\n",
              "      <td>0</td>\n",
              "      <td>0</td>\n",
              "      <td>0</td>\n",
              "      <td>1</td>\n",
              "      <td>0</td>\n",
              "      <td>0</td>\n",
              "      <td>0</td>\n",
              "      <td>0</td>\n",
              "      <td>1</td>\n",
              "      <td>0</td>\n",
              "      <td>0</td>\n",
              "    </tr>\n",
              "    <tr>\n",
              "      <th>3</th>\n",
              "      <td>extratorrent.cc</td>\n",
              "      <td>0</td>\n",
              "      <td>0</td>\n",
              "      <td>1</td>\n",
              "      <td>3</td>\n",
              "      <td>0</td>\n",
              "      <td>1</td>\n",
              "      <td>0</td>\n",
              "      <td>0</td>\n",
              "      <td>0</td>\n",
              "      <td>1</td>\n",
              "      <td>0</td>\n",
              "      <td>1</td>\n",
              "      <td>0</td>\n",
              "      <td>0</td>\n",
              "      <td>1</td>\n",
              "      <td>0</td>\n",
              "      <td>0</td>\n",
              "    </tr>\n",
              "    <tr>\n",
              "      <th>4</th>\n",
              "      <td>icicibank.com</td>\n",
              "      <td>0</td>\n",
              "      <td>0</td>\n",
              "      <td>1</td>\n",
              "      <td>3</td>\n",
              "      <td>0</td>\n",
              "      <td>1</td>\n",
              "      <td>0</td>\n",
              "      <td>0</td>\n",
              "      <td>0</td>\n",
              "      <td>1</td>\n",
              "      <td>0</td>\n",
              "      <td>1</td>\n",
              "      <td>0</td>\n",
              "      <td>0</td>\n",
              "      <td>1</td>\n",
              "      <td>1</td>\n",
              "      <td>0</td>\n",
              "    </tr>\n",
              "  </tbody>\n",
              "</table>\n",
              "</div>\n",
              "      <button class=\"colab-df-convert\" onclick=\"convertToInteractive('df-7eee0d19-ff84-419e-8e8d-50d5c312420a')\"\n",
              "              title=\"Convert this dataframe to an interactive table.\"\n",
              "              style=\"display:none;\">\n",
              "        \n",
              "  <svg xmlns=\"http://www.w3.org/2000/svg\" height=\"24px\"viewBox=\"0 0 24 24\"\n",
              "       width=\"24px\">\n",
              "    <path d=\"M0 0h24v24H0V0z\" fill=\"none\"/>\n",
              "    <path d=\"M18.56 5.44l.94 2.06.94-2.06 2.06-.94-2.06-.94-.94-2.06-.94 2.06-2.06.94zm-11 1L8.5 8.5l.94-2.06 2.06-.94-2.06-.94L8.5 2.5l-.94 2.06-2.06.94zm10 10l.94 2.06.94-2.06 2.06-.94-2.06-.94-.94-2.06-.94 2.06-2.06.94z\"/><path d=\"M17.41 7.96l-1.37-1.37c-.4-.4-.92-.59-1.43-.59-.52 0-1.04.2-1.43.59L10.3 9.45l-7.72 7.72c-.78.78-.78 2.05 0 2.83L4 21.41c.39.39.9.59 1.41.59.51 0 1.02-.2 1.41-.59l7.78-7.78 2.81-2.81c.8-.78.8-2.07 0-2.86zM5.41 20L4 18.59l7.72-7.72 1.47 1.35L5.41 20z\"/>\n",
              "  </svg>\n",
              "      </button>\n",
              "      \n",
              "  <style>\n",
              "    .colab-df-container {\n",
              "      display:flex;\n",
              "      flex-wrap:wrap;\n",
              "      gap: 12px;\n",
              "    }\n",
              "\n",
              "    .colab-df-convert {\n",
              "      background-color: #E8F0FE;\n",
              "      border: none;\n",
              "      border-radius: 50%;\n",
              "      cursor: pointer;\n",
              "      display: none;\n",
              "      fill: #1967D2;\n",
              "      height: 32px;\n",
              "      padding: 0 0 0 0;\n",
              "      width: 32px;\n",
              "    }\n",
              "\n",
              "    .colab-df-convert:hover {\n",
              "      background-color: #E2EBFA;\n",
              "      box-shadow: 0px 1px 2px rgba(60, 64, 67, 0.3), 0px 1px 3px 1px rgba(60, 64, 67, 0.15);\n",
              "      fill: #174EA6;\n",
              "    }\n",
              "\n",
              "    [theme=dark] .colab-df-convert {\n",
              "      background-color: #3B4455;\n",
              "      fill: #D2E3FC;\n",
              "    }\n",
              "\n",
              "    [theme=dark] .colab-df-convert:hover {\n",
              "      background-color: #434B5C;\n",
              "      box-shadow: 0px 1px 3px 1px rgba(0, 0, 0, 0.15);\n",
              "      filter: drop-shadow(0px 1px 2px rgba(0, 0, 0, 0.3));\n",
              "      fill: #FFFFFF;\n",
              "    }\n",
              "  </style>\n",
              "\n",
              "      <script>\n",
              "        const buttonEl =\n",
              "          document.querySelector('#df-7eee0d19-ff84-419e-8e8d-50d5c312420a button.colab-df-convert');\n",
              "        buttonEl.style.display =\n",
              "          google.colab.kernel.accessAllowed ? 'block' : 'none';\n",
              "\n",
              "        async function convertToInteractive(key) {\n",
              "          const element = document.querySelector('#df-7eee0d19-ff84-419e-8e8d-50d5c312420a');\n",
              "          const dataTable =\n",
              "            await google.colab.kernel.invokeFunction('convertToInteractive',\n",
              "                                                     [key], {});\n",
              "          if (!dataTable) return;\n",
              "\n",
              "          const docLinkHtml = 'Like what you see? Visit the ' +\n",
              "            '<a target=\"_blank\" href=https://colab.research.google.com/notebooks/data_table.ipynb>data table notebook</a>'\n",
              "            + ' to learn more about interactive tables.';\n",
              "          element.innerHTML = '';\n",
              "          dataTable['output_type'] = 'display_data';\n",
              "          await google.colab.output.renderOutput(dataTable, element);\n",
              "          const docLink = document.createElement('div');\n",
              "          docLink.innerHTML = docLinkHtml;\n",
              "          element.appendChild(docLink);\n",
              "        }\n",
              "      </script>\n",
              "    </div>\n",
              "  </div>\n",
              "  "
            ]
          },
          "metadata": {},
          "execution_count": 42
        }
      ],
      "source": [
        "feature_names = ['Domain', 'Have_IP', 'Have_At', 'URL_Length', 'URL_Depth','Redirection', \n",
        "                      'https_Domain', 'TinyURL', 'Prefix/Suffix', 'DNS_Record', 'Web_Traffic', \n",
        "                      'Domain_Age', 'Domain_End', 'iFrame', 'Mouse_Over','Right_Click', 'Web_Forwards', 'Label']\n",
        "\n",
        "legitimate = pd.DataFrame(legi_features, columns= feature_names)\n",
        "legitimate.head()"
      ]
    },
    {
      "cell_type": "code",
      "execution_count": null,
      "metadata": {
        "id": "YdXq-vo9vfGc"
      },
      "outputs": [],
      "source": [
        "legitimate.to_csv('/content/drive/MyDrive/Lab/Lab4/legitimate.csv', index= False)"
      ]
    },
    {
      "cell_type": "markdown",
      "metadata": {
        "id": "0N9XTsYQvRn_"
      },
      "source": [
        "## **3.2 URL lừa đảo**"
      ]
    },
    {
      "cell_type": "code",
      "execution_count": null,
      "metadata": {
        "id": "gjL-lt8NvWdJ",
        "colab": {
          "base_uri": "https://localhost:8080/"
        },
        "outputId": "b53f799d-3e91-4b4e-b166-81f9ade36df4"
      },
      "outputs": [
        {
          "output_type": "execute_result",
          "data": {
            "text/plain": [
              "(100, 8)"
            ]
          },
          "metadata": {},
          "execution_count": 50
        }
      ],
      "source": [
        "phishurl.shape"
      ]
    },
    {
      "cell_type": "code",
      "execution_count": null,
      "metadata": {
        "id": "Ka2AKbrKvX4K",
        "colab": {
          "base_uri": "https://localhost:8080/",
          "height": 487
        },
        "outputId": "7375abbc-8d29-47c6-bd18-2edbaadb6b18"
      },
      "outputs": [
        {
          "output_type": "stream",
          "name": "stdout",
          "text": [
            "https%3A//ipfs.io/ipfs/bafybeig56kfb7kwmbrq3pjimj4lpc3rgt6pnrnk2nl3nejnlpnrscwk3ie\n",
            "http%3A//www.saissecn-co-jp.aeaccnsen.drwdhs.top/\n",
            "http%3A//www.ekl-net.conn-accseeeeaas.tddonu.top/jp.php\n",
            "http%3A//www.au-pacccy.aueseacaomceoy.ffqqrb.top/AU/page1.php\n",
            "https%3A//dev7129.d2qmcnsgj0y7oj.amplifyapp.com/%23redacted%40abuse.ionos.com\n",
            "http%3A//pagerecoveryidentity2.com/\n",
            "http%3A//swanholm.net/suyro/china/%3Flogin%3Dkristoffer%40tigunia.com\n"
          ]
        },
        {
          "output_type": "error",
          "ename": "KeyboardInterrupt",
          "evalue": "ignored",
          "traceback": [
            "\u001b[0;31m---------------------------------------------------------------------------\u001b[0m",
            "\u001b[0;31mKeyboardInterrupt\u001b[0m                         Traceback (most recent call last)",
            "\u001b[0;32m<ipython-input-51-8afcc571bc90>\u001b[0m in \u001b[0;36m<module>\u001b[0;34m\u001b[0m\n\u001b[1;32m      3\u001b[0m \u001b[0;32mfor\u001b[0m \u001b[0mi\u001b[0m \u001b[0;32min\u001b[0m \u001b[0mrange\u001b[0m\u001b[0;34m(\u001b[0m\u001b[0;36m0\u001b[0m\u001b[0;34m,\u001b[0m \u001b[0;36m5000\u001b[0m\u001b[0;34m)\u001b[0m\u001b[0;34m:\u001b[0m\u001b[0;34m\u001b[0m\u001b[0;34m\u001b[0m\u001b[0m\n\u001b[1;32m      4\u001b[0m   \u001b[0murl\u001b[0m \u001b[0;34m=\u001b[0m \u001b[0mphishurl\u001b[0m\u001b[0;34m[\u001b[0m\u001b[0;34m'url'\u001b[0m\u001b[0;34m]\u001b[0m\u001b[0;34m[\u001b[0m\u001b[0mi\u001b[0m\u001b[0;34m]\u001b[0m\u001b[0;34m\u001b[0m\u001b[0;34m\u001b[0m\u001b[0m\n\u001b[0;32m----> 5\u001b[0;31m   \u001b[0mphish_features\u001b[0m\u001b[0;34m.\u001b[0m\u001b[0mappend\u001b[0m\u001b[0;34m(\u001b[0m\u001b[0mfeatureExtraction\u001b[0m\u001b[0;34m(\u001b[0m\u001b[0murl\u001b[0m\u001b[0;34m,\u001b[0m\u001b[0mlabel\u001b[0m\u001b[0;34m)\u001b[0m\u001b[0;34m)\u001b[0m\u001b[0;34m\u001b[0m\u001b[0;34m\u001b[0m\u001b[0m\n\u001b[0m",
            "\u001b[0;32m<ipython-input-44-ee4560d1e511>\u001b[0m in \u001b[0;36mfeatureExtraction\u001b[0;34m(url, label)\u001b[0m\n\u001b[1;32m     21\u001b[0m \u001b[0;34m\u001b[0m\u001b[0m\n\u001b[1;32m     22\u001b[0m   \u001b[0mfeatures\u001b[0m\u001b[0;34m.\u001b[0m\u001b[0mappend\u001b[0m\u001b[0;34m(\u001b[0m\u001b[0mdns\u001b[0m\u001b[0;34m)\u001b[0m\u001b[0;34m\u001b[0m\u001b[0;34m\u001b[0m\u001b[0m\n\u001b[0;32m---> 23\u001b[0;31m   \u001b[0mfeatures\u001b[0m\u001b[0;34m.\u001b[0m\u001b[0mappend\u001b[0m\u001b[0;34m(\u001b[0m\u001b[0mweb_traffic\u001b[0m\u001b[0;34m(\u001b[0m\u001b[0murl\u001b[0m\u001b[0;34m)\u001b[0m\u001b[0;34m)\u001b[0m\u001b[0;34m\u001b[0m\u001b[0;34m\u001b[0m\u001b[0m\n\u001b[0m\u001b[1;32m     24\u001b[0m   \u001b[0mfeatures\u001b[0m\u001b[0;34m.\u001b[0m\u001b[0mappend\u001b[0m\u001b[0;34m(\u001b[0m\u001b[0;36m1\u001b[0m \u001b[0;32mif\u001b[0m \u001b[0mdns\u001b[0m \u001b[0;34m==\u001b[0m \u001b[0;36m1\u001b[0m \u001b[0;32melse\u001b[0m \u001b[0mdomainAge\u001b[0m\u001b[0;34m(\u001b[0m\u001b[0mdomain_name\u001b[0m\u001b[0;34m)\u001b[0m\u001b[0;34m)\u001b[0m\u001b[0;34m\u001b[0m\u001b[0;34m\u001b[0m\u001b[0m\n\u001b[1;32m     25\u001b[0m   \u001b[0mfeatures\u001b[0m\u001b[0;34m.\u001b[0m\u001b[0mappend\u001b[0m\u001b[0;34m(\u001b[0m\u001b[0;36m1\u001b[0m \u001b[0;32mif\u001b[0m \u001b[0mdns\u001b[0m \u001b[0;34m==\u001b[0m \u001b[0;36m1\u001b[0m \u001b[0;32melse\u001b[0m \u001b[0mdomainEnd\u001b[0m\u001b[0;34m(\u001b[0m\u001b[0mdomain_name\u001b[0m\u001b[0;34m)\u001b[0m\u001b[0;34m)\u001b[0m\u001b[0;34m\u001b[0m\u001b[0;34m\u001b[0m\u001b[0m\n",
            "\u001b[0;32m<ipython-input-35-e697dd0e0dfb>\u001b[0m in \u001b[0;36mweb_traffic\u001b[0;34m(url)\u001b[0m\n\u001b[1;32m      6\u001b[0m     \u001b[0murl\u001b[0m \u001b[0;34m=\u001b[0m \u001b[0murllib\u001b[0m\u001b[0;34m.\u001b[0m\u001b[0mparse\u001b[0m\u001b[0;34m.\u001b[0m\u001b[0mquote\u001b[0m\u001b[0;34m(\u001b[0m\u001b[0murl\u001b[0m\u001b[0;34m)\u001b[0m\u001b[0;34m\u001b[0m\u001b[0;34m\u001b[0m\u001b[0m\n\u001b[1;32m      7\u001b[0m     \u001b[0mprint\u001b[0m\u001b[0;34m(\u001b[0m\u001b[0murl\u001b[0m\u001b[0;34m)\u001b[0m\u001b[0;34m\u001b[0m\u001b[0;34m\u001b[0m\u001b[0m\n\u001b[0;32m----> 8\u001b[0;31m     rank = BeautifulSoup(urllib.request.urlopen(\"http://data.alexa.com/data?cli=10&dat=s&url=\" + url).read(), \"xml\").find(\n\u001b[0m\u001b[1;32m      9\u001b[0m         \"REACH\")['RANK']\n\u001b[1;32m     10\u001b[0m     \u001b[0mrank\u001b[0m \u001b[0;34m=\u001b[0m \u001b[0mint\u001b[0m\u001b[0;34m(\u001b[0m\u001b[0mrank\u001b[0m\u001b[0;34m)\u001b[0m\u001b[0;34m\u001b[0m\u001b[0;34m\u001b[0m\u001b[0m\n",
            "\u001b[0;32m/usr/lib/python3.8/urllib/request.py\u001b[0m in \u001b[0;36murlopen\u001b[0;34m(url, data, timeout, cafile, capath, cadefault, context)\u001b[0m\n\u001b[1;32m    220\u001b[0m     \u001b[0;32melse\u001b[0m\u001b[0;34m:\u001b[0m\u001b[0;34m\u001b[0m\u001b[0;34m\u001b[0m\u001b[0m\n\u001b[1;32m    221\u001b[0m         \u001b[0mopener\u001b[0m \u001b[0;34m=\u001b[0m \u001b[0m_opener\u001b[0m\u001b[0;34m\u001b[0m\u001b[0;34m\u001b[0m\u001b[0m\n\u001b[0;32m--> 222\u001b[0;31m     \u001b[0;32mreturn\u001b[0m \u001b[0mopener\u001b[0m\u001b[0;34m.\u001b[0m\u001b[0mopen\u001b[0m\u001b[0;34m(\u001b[0m\u001b[0murl\u001b[0m\u001b[0;34m,\u001b[0m \u001b[0mdata\u001b[0m\u001b[0;34m,\u001b[0m \u001b[0mtimeout\u001b[0m\u001b[0;34m)\u001b[0m\u001b[0;34m\u001b[0m\u001b[0;34m\u001b[0m\u001b[0m\n\u001b[0m\u001b[1;32m    223\u001b[0m \u001b[0;34m\u001b[0m\u001b[0m\n\u001b[1;32m    224\u001b[0m \u001b[0;32mdef\u001b[0m \u001b[0minstall_opener\u001b[0m\u001b[0;34m(\u001b[0m\u001b[0mopener\u001b[0m\u001b[0;34m)\u001b[0m\u001b[0;34m:\u001b[0m\u001b[0;34m\u001b[0m\u001b[0;34m\u001b[0m\u001b[0m\n",
            "\u001b[0;32m/usr/lib/python3.8/urllib/request.py\u001b[0m in \u001b[0;36mopen\u001b[0;34m(self, fullurl, data, timeout)\u001b[0m\n\u001b[1;32m    523\u001b[0m \u001b[0;34m\u001b[0m\u001b[0m\n\u001b[1;32m    524\u001b[0m         \u001b[0msys\u001b[0m\u001b[0;34m.\u001b[0m\u001b[0maudit\u001b[0m\u001b[0;34m(\u001b[0m\u001b[0;34m'urllib.Request'\u001b[0m\u001b[0;34m,\u001b[0m \u001b[0mreq\u001b[0m\u001b[0;34m.\u001b[0m\u001b[0mfull_url\u001b[0m\u001b[0;34m,\u001b[0m \u001b[0mreq\u001b[0m\u001b[0;34m.\u001b[0m\u001b[0mdata\u001b[0m\u001b[0;34m,\u001b[0m \u001b[0mreq\u001b[0m\u001b[0;34m.\u001b[0m\u001b[0mheaders\u001b[0m\u001b[0;34m,\u001b[0m \u001b[0mreq\u001b[0m\u001b[0;34m.\u001b[0m\u001b[0mget_method\u001b[0m\u001b[0;34m(\u001b[0m\u001b[0;34m)\u001b[0m\u001b[0;34m)\u001b[0m\u001b[0;34m\u001b[0m\u001b[0;34m\u001b[0m\u001b[0m\n\u001b[0;32m--> 525\u001b[0;31m         \u001b[0mresponse\u001b[0m \u001b[0;34m=\u001b[0m \u001b[0mself\u001b[0m\u001b[0;34m.\u001b[0m\u001b[0m_open\u001b[0m\u001b[0;34m(\u001b[0m\u001b[0mreq\u001b[0m\u001b[0;34m,\u001b[0m \u001b[0mdata\u001b[0m\u001b[0;34m)\u001b[0m\u001b[0;34m\u001b[0m\u001b[0;34m\u001b[0m\u001b[0m\n\u001b[0m\u001b[1;32m    526\u001b[0m \u001b[0;34m\u001b[0m\u001b[0m\n\u001b[1;32m    527\u001b[0m         \u001b[0;31m# post-process response\u001b[0m\u001b[0;34m\u001b[0m\u001b[0;34m\u001b[0m\u001b[0;34m\u001b[0m\u001b[0m\n",
            "\u001b[0;32m/usr/lib/python3.8/urllib/request.py\u001b[0m in \u001b[0;36m_open\u001b[0;34m(self, req, data)\u001b[0m\n\u001b[1;32m    540\u001b[0m \u001b[0;34m\u001b[0m\u001b[0m\n\u001b[1;32m    541\u001b[0m         \u001b[0mprotocol\u001b[0m \u001b[0;34m=\u001b[0m \u001b[0mreq\u001b[0m\u001b[0;34m.\u001b[0m\u001b[0mtype\u001b[0m\u001b[0;34m\u001b[0m\u001b[0;34m\u001b[0m\u001b[0m\n\u001b[0;32m--> 542\u001b[0;31m         result = self._call_chain(self.handle_open, protocol, protocol +\n\u001b[0m\u001b[1;32m    543\u001b[0m                                   '_open', req)\n\u001b[1;32m    544\u001b[0m         \u001b[0;32mif\u001b[0m \u001b[0mresult\u001b[0m\u001b[0;34m:\u001b[0m\u001b[0;34m\u001b[0m\u001b[0;34m\u001b[0m\u001b[0m\n",
            "\u001b[0;32m/usr/lib/python3.8/urllib/request.py\u001b[0m in \u001b[0;36m_call_chain\u001b[0;34m(self, chain, kind, meth_name, *args)\u001b[0m\n\u001b[1;32m    500\u001b[0m         \u001b[0;32mfor\u001b[0m \u001b[0mhandler\u001b[0m \u001b[0;32min\u001b[0m \u001b[0mhandlers\u001b[0m\u001b[0;34m:\u001b[0m\u001b[0;34m\u001b[0m\u001b[0;34m\u001b[0m\u001b[0m\n\u001b[1;32m    501\u001b[0m             \u001b[0mfunc\u001b[0m \u001b[0;34m=\u001b[0m \u001b[0mgetattr\u001b[0m\u001b[0;34m(\u001b[0m\u001b[0mhandler\u001b[0m\u001b[0;34m,\u001b[0m \u001b[0mmeth_name\u001b[0m\u001b[0;34m)\u001b[0m\u001b[0;34m\u001b[0m\u001b[0;34m\u001b[0m\u001b[0m\n\u001b[0;32m--> 502\u001b[0;31m             \u001b[0mresult\u001b[0m \u001b[0;34m=\u001b[0m \u001b[0mfunc\u001b[0m\u001b[0;34m(\u001b[0m\u001b[0;34m*\u001b[0m\u001b[0margs\u001b[0m\u001b[0;34m)\u001b[0m\u001b[0;34m\u001b[0m\u001b[0;34m\u001b[0m\u001b[0m\n\u001b[0m\u001b[1;32m    503\u001b[0m             \u001b[0;32mif\u001b[0m \u001b[0mresult\u001b[0m \u001b[0;32mis\u001b[0m \u001b[0;32mnot\u001b[0m \u001b[0;32mNone\u001b[0m\u001b[0;34m:\u001b[0m\u001b[0;34m\u001b[0m\u001b[0;34m\u001b[0m\u001b[0m\n\u001b[1;32m    504\u001b[0m                 \u001b[0;32mreturn\u001b[0m \u001b[0mresult\u001b[0m\u001b[0;34m\u001b[0m\u001b[0;34m\u001b[0m\u001b[0m\n",
            "\u001b[0;32m/usr/lib/python3.8/urllib/request.py\u001b[0m in \u001b[0;36mhttp_open\u001b[0;34m(self, req)\u001b[0m\n\u001b[1;32m   1381\u001b[0m \u001b[0;34m\u001b[0m\u001b[0m\n\u001b[1;32m   1382\u001b[0m     \u001b[0;32mdef\u001b[0m \u001b[0mhttp_open\u001b[0m\u001b[0;34m(\u001b[0m\u001b[0mself\u001b[0m\u001b[0;34m,\u001b[0m \u001b[0mreq\u001b[0m\u001b[0;34m)\u001b[0m\u001b[0;34m:\u001b[0m\u001b[0;34m\u001b[0m\u001b[0;34m\u001b[0m\u001b[0m\n\u001b[0;32m-> 1383\u001b[0;31m         \u001b[0;32mreturn\u001b[0m \u001b[0mself\u001b[0m\u001b[0;34m.\u001b[0m\u001b[0mdo_open\u001b[0m\u001b[0;34m(\u001b[0m\u001b[0mhttp\u001b[0m\u001b[0;34m.\u001b[0m\u001b[0mclient\u001b[0m\u001b[0;34m.\u001b[0m\u001b[0mHTTPConnection\u001b[0m\u001b[0;34m,\u001b[0m \u001b[0mreq\u001b[0m\u001b[0;34m)\u001b[0m\u001b[0;34m\u001b[0m\u001b[0;34m\u001b[0m\u001b[0m\n\u001b[0m\u001b[1;32m   1384\u001b[0m \u001b[0;34m\u001b[0m\u001b[0m\n\u001b[1;32m   1385\u001b[0m     \u001b[0mhttp_request\u001b[0m \u001b[0;34m=\u001b[0m \u001b[0mAbstractHTTPHandler\u001b[0m\u001b[0;34m.\u001b[0m\u001b[0mdo_request_\u001b[0m\u001b[0;34m\u001b[0m\u001b[0;34m\u001b[0m\u001b[0m\n",
            "\u001b[0;32m/usr/lib/python3.8/urllib/request.py\u001b[0m in \u001b[0;36mdo_open\u001b[0;34m(self, http_class, req, **http_conn_args)\u001b[0m\n\u001b[1;32m   1356\u001b[0m             \u001b[0;32mexcept\u001b[0m \u001b[0mOSError\u001b[0m \u001b[0;32mas\u001b[0m \u001b[0merr\u001b[0m\u001b[0;34m:\u001b[0m \u001b[0;31m# timeout error\u001b[0m\u001b[0;34m\u001b[0m\u001b[0;34m\u001b[0m\u001b[0m\n\u001b[1;32m   1357\u001b[0m                 \u001b[0;32mraise\u001b[0m \u001b[0mURLError\u001b[0m\u001b[0;34m(\u001b[0m\u001b[0merr\u001b[0m\u001b[0;34m)\u001b[0m\u001b[0;34m\u001b[0m\u001b[0;34m\u001b[0m\u001b[0m\n\u001b[0;32m-> 1358\u001b[0;31m             \u001b[0mr\u001b[0m \u001b[0;34m=\u001b[0m \u001b[0mh\u001b[0m\u001b[0;34m.\u001b[0m\u001b[0mgetresponse\u001b[0m\u001b[0;34m(\u001b[0m\u001b[0;34m)\u001b[0m\u001b[0;34m\u001b[0m\u001b[0;34m\u001b[0m\u001b[0m\n\u001b[0m\u001b[1;32m   1359\u001b[0m         \u001b[0;32mexcept\u001b[0m\u001b[0;34m:\u001b[0m\u001b[0;34m\u001b[0m\u001b[0;34m\u001b[0m\u001b[0m\n\u001b[1;32m   1360\u001b[0m             \u001b[0mh\u001b[0m\u001b[0;34m.\u001b[0m\u001b[0mclose\u001b[0m\u001b[0;34m(\u001b[0m\u001b[0;34m)\u001b[0m\u001b[0;34m\u001b[0m\u001b[0;34m\u001b[0m\u001b[0m\n",
            "\u001b[0;32m/usr/lib/python3.8/http/client.py\u001b[0m in \u001b[0;36mgetresponse\u001b[0;34m(self)\u001b[0m\n\u001b[1;32m   1346\u001b[0m         \u001b[0;32mtry\u001b[0m\u001b[0;34m:\u001b[0m\u001b[0;34m\u001b[0m\u001b[0;34m\u001b[0m\u001b[0m\n\u001b[1;32m   1347\u001b[0m             \u001b[0;32mtry\u001b[0m\u001b[0;34m:\u001b[0m\u001b[0;34m\u001b[0m\u001b[0;34m\u001b[0m\u001b[0m\n\u001b[0;32m-> 1348\u001b[0;31m                 \u001b[0mresponse\u001b[0m\u001b[0;34m.\u001b[0m\u001b[0mbegin\u001b[0m\u001b[0;34m(\u001b[0m\u001b[0;34m)\u001b[0m\u001b[0;34m\u001b[0m\u001b[0;34m\u001b[0m\u001b[0m\n\u001b[0m\u001b[1;32m   1349\u001b[0m             \u001b[0;32mexcept\u001b[0m \u001b[0mConnectionError\u001b[0m\u001b[0;34m:\u001b[0m\u001b[0;34m\u001b[0m\u001b[0;34m\u001b[0m\u001b[0m\n\u001b[1;32m   1350\u001b[0m                 \u001b[0mself\u001b[0m\u001b[0;34m.\u001b[0m\u001b[0mclose\u001b[0m\u001b[0;34m(\u001b[0m\u001b[0;34m)\u001b[0m\u001b[0;34m\u001b[0m\u001b[0;34m\u001b[0m\u001b[0m\n",
            "\u001b[0;32m/usr/lib/python3.8/http/client.py\u001b[0m in \u001b[0;36mbegin\u001b[0;34m(self)\u001b[0m\n\u001b[1;32m    314\u001b[0m         \u001b[0;31m# read until we get a non-100 response\u001b[0m\u001b[0;34m\u001b[0m\u001b[0;34m\u001b[0m\u001b[0;34m\u001b[0m\u001b[0m\n\u001b[1;32m    315\u001b[0m         \u001b[0;32mwhile\u001b[0m \u001b[0;32mTrue\u001b[0m\u001b[0;34m:\u001b[0m\u001b[0;34m\u001b[0m\u001b[0;34m\u001b[0m\u001b[0m\n\u001b[0;32m--> 316\u001b[0;31m             \u001b[0mversion\u001b[0m\u001b[0;34m,\u001b[0m \u001b[0mstatus\u001b[0m\u001b[0;34m,\u001b[0m \u001b[0mreason\u001b[0m \u001b[0;34m=\u001b[0m \u001b[0mself\u001b[0m\u001b[0;34m.\u001b[0m\u001b[0m_read_status\u001b[0m\u001b[0;34m(\u001b[0m\u001b[0;34m)\u001b[0m\u001b[0;34m\u001b[0m\u001b[0;34m\u001b[0m\u001b[0m\n\u001b[0m\u001b[1;32m    317\u001b[0m             \u001b[0;32mif\u001b[0m \u001b[0mstatus\u001b[0m \u001b[0;34m!=\u001b[0m \u001b[0mCONTINUE\u001b[0m\u001b[0;34m:\u001b[0m\u001b[0;34m\u001b[0m\u001b[0;34m\u001b[0m\u001b[0m\n\u001b[1;32m    318\u001b[0m                 \u001b[0;32mbreak\u001b[0m\u001b[0;34m\u001b[0m\u001b[0;34m\u001b[0m\u001b[0m\n",
            "\u001b[0;32m/usr/lib/python3.8/http/client.py\u001b[0m in \u001b[0;36m_read_status\u001b[0;34m(self)\u001b[0m\n\u001b[1;32m    275\u001b[0m \u001b[0;34m\u001b[0m\u001b[0m\n\u001b[1;32m    276\u001b[0m     \u001b[0;32mdef\u001b[0m \u001b[0m_read_status\u001b[0m\u001b[0;34m(\u001b[0m\u001b[0mself\u001b[0m\u001b[0;34m)\u001b[0m\u001b[0;34m:\u001b[0m\u001b[0;34m\u001b[0m\u001b[0;34m\u001b[0m\u001b[0m\n\u001b[0;32m--> 277\u001b[0;31m         \u001b[0mline\u001b[0m \u001b[0;34m=\u001b[0m \u001b[0mstr\u001b[0m\u001b[0;34m(\u001b[0m\u001b[0mself\u001b[0m\u001b[0;34m.\u001b[0m\u001b[0mfp\u001b[0m\u001b[0;34m.\u001b[0m\u001b[0mreadline\u001b[0m\u001b[0;34m(\u001b[0m\u001b[0m_MAXLINE\u001b[0m \u001b[0;34m+\u001b[0m \u001b[0;36m1\u001b[0m\u001b[0;34m)\u001b[0m\u001b[0;34m,\u001b[0m \u001b[0;34m\"iso-8859-1\"\u001b[0m\u001b[0;34m)\u001b[0m\u001b[0;34m\u001b[0m\u001b[0;34m\u001b[0m\u001b[0m\n\u001b[0m\u001b[1;32m    278\u001b[0m         \u001b[0;32mif\u001b[0m \u001b[0mlen\u001b[0m\u001b[0;34m(\u001b[0m\u001b[0mline\u001b[0m\u001b[0;34m)\u001b[0m \u001b[0;34m>\u001b[0m \u001b[0m_MAXLINE\u001b[0m\u001b[0;34m:\u001b[0m\u001b[0;34m\u001b[0m\u001b[0;34m\u001b[0m\u001b[0m\n\u001b[1;32m    279\u001b[0m             \u001b[0;32mraise\u001b[0m \u001b[0mLineTooLong\u001b[0m\u001b[0;34m(\u001b[0m\u001b[0;34m\"status line\"\u001b[0m\u001b[0;34m)\u001b[0m\u001b[0;34m\u001b[0m\u001b[0;34m\u001b[0m\u001b[0m\n",
            "\u001b[0;32m/usr/lib/python3.8/socket.py\u001b[0m in \u001b[0;36mreadinto\u001b[0;34m(self, b)\u001b[0m\n\u001b[1;32m    667\u001b[0m         \u001b[0;32mwhile\u001b[0m \u001b[0;32mTrue\u001b[0m\u001b[0;34m:\u001b[0m\u001b[0;34m\u001b[0m\u001b[0;34m\u001b[0m\u001b[0m\n\u001b[1;32m    668\u001b[0m             \u001b[0;32mtry\u001b[0m\u001b[0;34m:\u001b[0m\u001b[0;34m\u001b[0m\u001b[0;34m\u001b[0m\u001b[0m\n\u001b[0;32m--> 669\u001b[0;31m                 \u001b[0;32mreturn\u001b[0m \u001b[0mself\u001b[0m\u001b[0;34m.\u001b[0m\u001b[0m_sock\u001b[0m\u001b[0;34m.\u001b[0m\u001b[0mrecv_into\u001b[0m\u001b[0;34m(\u001b[0m\u001b[0mb\u001b[0m\u001b[0;34m)\u001b[0m\u001b[0;34m\u001b[0m\u001b[0;34m\u001b[0m\u001b[0m\n\u001b[0m\u001b[1;32m    670\u001b[0m             \u001b[0;32mexcept\u001b[0m \u001b[0mtimeout\u001b[0m\u001b[0;34m:\u001b[0m\u001b[0;34m\u001b[0m\u001b[0;34m\u001b[0m\u001b[0m\n\u001b[1;32m    671\u001b[0m                 \u001b[0mself\u001b[0m\u001b[0;34m.\u001b[0m\u001b[0m_timeout_occurred\u001b[0m \u001b[0;34m=\u001b[0m \u001b[0;32mTrue\u001b[0m\u001b[0;34m\u001b[0m\u001b[0;34m\u001b[0m\u001b[0m\n",
            "\u001b[0;31mKeyboardInterrupt\u001b[0m: "
          ]
        }
      ],
      "source": [
        "phish_features = []\n",
        "label = 1\n",
        "for i in range(0, 100):\n",
        "  url = phishurl['url'][i]\n",
        "  phish_features.append(featureExtraction(url,label))"
      ]
    },
    {
      "cell_type": "code",
      "execution_count": null,
      "metadata": {
        "id": "XeXqAGgYvZmN"
      },
      "outputs": [],
      "source": [
        "feature_names = ['Domain', 'Have_IP', 'Have_At', 'URL_Length', 'URL_Depth','Redirection', \n",
        "                      'https_Domain', 'TinyURL', 'Prefix/Suffix', 'DNS_Record', 'Web_Traffic', \n",
        "                      'Domain_Age', 'Domain_End', 'iFrame', 'Mouse_Over','Right_Click', 'Web_Forwards', 'Label']\n",
        "\n",
        "phishing = pd.DataFrame(phish_features, columns= feature_names)\n",
        "phishing.head()"
      ]
    },
    {
      "cell_type": "code",
      "execution_count": null,
      "metadata": {
        "id": "Mp3EUAOUvdMV"
      },
      "outputs": [],
      "source": [
        "phishing.to_csv('phishing.csv', index= False)"
      ]
    },
    {
      "cell_type": "markdown",
      "metadata": {
        "id": "zcAQQORYvlyN"
      },
      "source": [
        "# **4. Datasets**"
      ]
    },
    {
      "cell_type": "code",
      "execution_count": null,
      "metadata": {
        "id": "qKCD2sDsvqsM"
      },
      "outputs": [],
      "source": [
        "urldata = pd.concat([legitimate, phishing]).reset_index(drop=True)\n",
        "urldata.head()"
      ]
    },
    {
      "cell_type": "code",
      "execution_count": null,
      "metadata": {
        "id": "zFKWN5fdvs3R"
      },
      "outputs": [],
      "source": [
        "urldata.tail()"
      ]
    },
    {
      "cell_type": "code",
      "execution_count": null,
      "metadata": {
        "id": "M7iGaQ7CvuMi"
      },
      "outputs": [],
      "source": [
        "urldata.shape"
      ]
    },
    {
      "cell_type": "code",
      "execution_count": null,
      "metadata": {
        "id": "Nr9hjZZ3vvmI"
      },
      "outputs": [],
      "source": [
        "urldata.to_csv('/content/drive/MyDrive/Lab/Lab4/urldata.csv', index=False)"
      ]
    },
    {
      "cell_type": "markdown",
      "metadata": {
        "id": "EwkRvgCzwToL"
      },
      "source": [
        "Ta trích xuất được 18 thuộc tính với 200 rows trong đó có  100 phishing  & 100 legitimate URL"
      ]
    },
    {
      "cell_type": "markdown",
      "metadata": {
        "id": "r0cRBI8uv0wg"
      },
      "source": [
        "***Bài tập số 3: Dựa vào mục trích xuất dữ liệu Lab 4.2, chọn một tập dataset khác thực hiện lại Lab 4.1***"
      ]
    },
    {
      "cell_type": "markdown",
      "source": [
        "## a. Thực hiện lấy 1 dataset khác"
      ],
      "metadata": {
        "id": "Mbrz1aVhOQ4l"
      }
    },
    {
      "cell_type": "markdown",
      "source": [
        "Dataset được lấy từ Medeley Data, nơi cung cấp research data một cách public: https://data.mendeley.com/datasets/c2gw7fy2j4/3"
      ],
      "metadata": {
        "id": "n7YIIQVDWAT6"
      }
    },
    {
      "cell_type": "code",
      "source": [
        "!wget \"https://data.mendeley.com/public-files/datasets/c2gw7fy2j4/files/575316f4-ee1d-453e-a04f-7b950915b61b/file_downloaded\" -O /content/drive/MyDrive/Lab/Lab4/url_phis_legit.csv"
      ],
      "metadata": {
        "colab": {
          "base_uri": "https://localhost:8080/"
        },
        "id": "HRDBIf5JOPij",
        "outputId": "f37131b2-d00c-43ce-9d67-f4591ee7ff05"
      },
      "execution_count": null,
      "outputs": [
        {
          "output_type": "stream",
          "name": "stdout",
          "text": [
            "--2022-12-04 08:41:34--  https://data.mendeley.com/public-files/datasets/c2gw7fy2j4/files/575316f4-ee1d-453e-a04f-7b950915b61b/file_downloaded\n",
            "Resolving data.mendeley.com (data.mendeley.com)... 162.159.130.86, 162.159.133.86\n",
            "Connecting to data.mendeley.com (data.mendeley.com)|162.159.130.86|:443... connected.\n",
            "HTTP request sent, awaiting response... 302 Found\n",
            "Location: https://prod-dcd-datasets-public-files-eu-west-1.s3.eu-west-1.amazonaws.com/67a1578a-90d9-4183-8e50-3ec9416561f0 [following]\n",
            "--2022-12-04 08:41:35--  https://prod-dcd-datasets-public-files-eu-west-1.s3.eu-west-1.amazonaws.com/67a1578a-90d9-4183-8e50-3ec9416561f0\n",
            "Resolving prod-dcd-datasets-public-files-eu-west-1.s3.eu-west-1.amazonaws.com (prod-dcd-datasets-public-files-eu-west-1.s3.eu-west-1.amazonaws.com)... 52.92.1.26, 52.218.112.152, 52.218.100.40, ...\n",
            "Connecting to prod-dcd-datasets-public-files-eu-west-1.s3.eu-west-1.amazonaws.com (prod-dcd-datasets-public-files-eu-west-1.s3.eu-west-1.amazonaws.com)|52.92.1.26|:443... connected.\n",
            "HTTP request sent, awaiting response... 200 OK\n",
            "Length: 3661166 (3.5M) [text/csv]\n",
            "Saving to: ‘/content/drive/MyDrive/Lab/Lab4/url_phis_legit.csv’\n",
            "\n",
            "/content/drive/MyDr 100%[===================>]   3.49M  3.35MB/s    in 1.0s    \n",
            "\n",
            "2022-12-04 08:41:37 (3.35 MB/s) - ‘/content/drive/MyDrive/Lab/Lab4/url_phis_legit.csv’ saved [3661166/3661166]\n",
            "\n"
          ]
        }
      ]
    },
    {
      "cell_type": "code",
      "source": [
        "%cd /content/drive/MyDrive/Lab/Lab4/"
      ],
      "metadata": {
        "colab": {
          "base_uri": "https://localhost:8080/"
        },
        "id": "aGCUJY9vWhx9",
        "outputId": "a50b78bf-318b-4cc3-cde7-f5614c9ece31"
      },
      "execution_count": null,
      "outputs": [
        {
          "output_type": "stream",
          "name": "stdout",
          "text": [
            "/content/drive/MyDrive/Lab/Lab4\n"
          ]
        }
      ]
    },
    {
      "cell_type": "code",
      "source": [
        "import pandas as pd \n",
        "\n",
        "dataset = pd.read_csv(\"url_phis_legit.csv\") \n",
        "dataset.head()"
      ],
      "metadata": {
        "colab": {
          "base_uri": "https://localhost:8080/",
          "height": 334
        },
        "id": "qSDaSlTlYChB",
        "outputId": "bb827b74-89d9-4751-ae47-cf23c111a3b5"
      },
      "execution_count": null,
      "outputs": [
        {
          "output_type": "execute_result",
          "data": {
            "text/plain": [
              "                                                 url  length_url  \\\n",
              "0              http://www.crestonwood.com/router.php          37   \n",
              "1  http://shadetreetechnology.com/V4/validation/a...          77   \n",
              "2  https://support-appleld.com.secureupdate.duila...         126   \n",
              "3                                 http://rgipt.ac.in          18   \n",
              "4  http://www.iracing.com/tracks/gateway-motorspo...          55   \n",
              "\n",
              "   length_hostname  ip  nb_dots  nb_hyphens  nb_at  nb_qm  nb_and  nb_or  ...  \\\n",
              "0               19   0        3           0      0      0       0      0  ...   \n",
              "1               23   1        1           0      0      0       0      0  ...   \n",
              "2               50   1        4           1      0      1       2      0  ...   \n",
              "3               11   0        2           0      0      0       0      0  ...   \n",
              "4               15   0        2           2      0      0       0      0  ...   \n",
              "\n",
              "   domain_in_title  domain_with_copyright  whois_registered_domain  \\\n",
              "0                0                      1                        0   \n",
              "1                1                      0                        0   \n",
              "2                1                      0                        0   \n",
              "3                1                      0                        0   \n",
              "4                0                      1                        0   \n",
              "\n",
              "   domain_registration_length  domain_age  web_traffic  dns_record  \\\n",
              "0                          45          -1            0           1   \n",
              "1                          77        5767            0           0   \n",
              "2                          14        4004      5828815           0   \n",
              "3                          62          -1       107721           0   \n",
              "4                         224        8175         8725           0   \n",
              "\n",
              "   google_index  page_rank      status  \n",
              "0             1          4  legitimate  \n",
              "1             1          2    phishing  \n",
              "2             1          0    phishing  \n",
              "3             0          3  legitimate  \n",
              "4             0          6  legitimate  \n",
              "\n",
              "[5 rows x 89 columns]"
            ],
            "text/html": [
              "\n",
              "  <div id=\"df-6fcbfb67-c557-4c94-bd7e-92413f3694de\">\n",
              "    <div class=\"colab-df-container\">\n",
              "      <div>\n",
              "<style scoped>\n",
              "    .dataframe tbody tr th:only-of-type {\n",
              "        vertical-align: middle;\n",
              "    }\n",
              "\n",
              "    .dataframe tbody tr th {\n",
              "        vertical-align: top;\n",
              "    }\n",
              "\n",
              "    .dataframe thead th {\n",
              "        text-align: right;\n",
              "    }\n",
              "</style>\n",
              "<table border=\"1\" class=\"dataframe\">\n",
              "  <thead>\n",
              "    <tr style=\"text-align: right;\">\n",
              "      <th></th>\n",
              "      <th>url</th>\n",
              "      <th>length_url</th>\n",
              "      <th>length_hostname</th>\n",
              "      <th>ip</th>\n",
              "      <th>nb_dots</th>\n",
              "      <th>nb_hyphens</th>\n",
              "      <th>nb_at</th>\n",
              "      <th>nb_qm</th>\n",
              "      <th>nb_and</th>\n",
              "      <th>nb_or</th>\n",
              "      <th>...</th>\n",
              "      <th>domain_in_title</th>\n",
              "      <th>domain_with_copyright</th>\n",
              "      <th>whois_registered_domain</th>\n",
              "      <th>domain_registration_length</th>\n",
              "      <th>domain_age</th>\n",
              "      <th>web_traffic</th>\n",
              "      <th>dns_record</th>\n",
              "      <th>google_index</th>\n",
              "      <th>page_rank</th>\n",
              "      <th>status</th>\n",
              "    </tr>\n",
              "  </thead>\n",
              "  <tbody>\n",
              "    <tr>\n",
              "      <th>0</th>\n",
              "      <td>http://www.crestonwood.com/router.php</td>\n",
              "      <td>37</td>\n",
              "      <td>19</td>\n",
              "      <td>0</td>\n",
              "      <td>3</td>\n",
              "      <td>0</td>\n",
              "      <td>0</td>\n",
              "      <td>0</td>\n",
              "      <td>0</td>\n",
              "      <td>0</td>\n",
              "      <td>...</td>\n",
              "      <td>0</td>\n",
              "      <td>1</td>\n",
              "      <td>0</td>\n",
              "      <td>45</td>\n",
              "      <td>-1</td>\n",
              "      <td>0</td>\n",
              "      <td>1</td>\n",
              "      <td>1</td>\n",
              "      <td>4</td>\n",
              "      <td>legitimate</td>\n",
              "    </tr>\n",
              "    <tr>\n",
              "      <th>1</th>\n",
              "      <td>http://shadetreetechnology.com/V4/validation/a...</td>\n",
              "      <td>77</td>\n",
              "      <td>23</td>\n",
              "      <td>1</td>\n",
              "      <td>1</td>\n",
              "      <td>0</td>\n",
              "      <td>0</td>\n",
              "      <td>0</td>\n",
              "      <td>0</td>\n",
              "      <td>0</td>\n",
              "      <td>...</td>\n",
              "      <td>1</td>\n",
              "      <td>0</td>\n",
              "      <td>0</td>\n",
              "      <td>77</td>\n",
              "      <td>5767</td>\n",
              "      <td>0</td>\n",
              "      <td>0</td>\n",
              "      <td>1</td>\n",
              "      <td>2</td>\n",
              "      <td>phishing</td>\n",
              "    </tr>\n",
              "    <tr>\n",
              "      <th>2</th>\n",
              "      <td>https://support-appleld.com.secureupdate.duila...</td>\n",
              "      <td>126</td>\n",
              "      <td>50</td>\n",
              "      <td>1</td>\n",
              "      <td>4</td>\n",
              "      <td>1</td>\n",
              "      <td>0</td>\n",
              "      <td>1</td>\n",
              "      <td>2</td>\n",
              "      <td>0</td>\n",
              "      <td>...</td>\n",
              "      <td>1</td>\n",
              "      <td>0</td>\n",
              "      <td>0</td>\n",
              "      <td>14</td>\n",
              "      <td>4004</td>\n",
              "      <td>5828815</td>\n",
              "      <td>0</td>\n",
              "      <td>1</td>\n",
              "      <td>0</td>\n",
              "      <td>phishing</td>\n",
              "    </tr>\n",
              "    <tr>\n",
              "      <th>3</th>\n",
              "      <td>http://rgipt.ac.in</td>\n",
              "      <td>18</td>\n",
              "      <td>11</td>\n",
              "      <td>0</td>\n",
              "      <td>2</td>\n",
              "      <td>0</td>\n",
              "      <td>0</td>\n",
              "      <td>0</td>\n",
              "      <td>0</td>\n",
              "      <td>0</td>\n",
              "      <td>...</td>\n",
              "      <td>1</td>\n",
              "      <td>0</td>\n",
              "      <td>0</td>\n",
              "      <td>62</td>\n",
              "      <td>-1</td>\n",
              "      <td>107721</td>\n",
              "      <td>0</td>\n",
              "      <td>0</td>\n",
              "      <td>3</td>\n",
              "      <td>legitimate</td>\n",
              "    </tr>\n",
              "    <tr>\n",
              "      <th>4</th>\n",
              "      <td>http://www.iracing.com/tracks/gateway-motorspo...</td>\n",
              "      <td>55</td>\n",
              "      <td>15</td>\n",
              "      <td>0</td>\n",
              "      <td>2</td>\n",
              "      <td>2</td>\n",
              "      <td>0</td>\n",
              "      <td>0</td>\n",
              "      <td>0</td>\n",
              "      <td>0</td>\n",
              "      <td>...</td>\n",
              "      <td>0</td>\n",
              "      <td>1</td>\n",
              "      <td>0</td>\n",
              "      <td>224</td>\n",
              "      <td>8175</td>\n",
              "      <td>8725</td>\n",
              "      <td>0</td>\n",
              "      <td>0</td>\n",
              "      <td>6</td>\n",
              "      <td>legitimate</td>\n",
              "    </tr>\n",
              "  </tbody>\n",
              "</table>\n",
              "<p>5 rows × 89 columns</p>\n",
              "</div>\n",
              "      <button class=\"colab-df-convert\" onclick=\"convertToInteractive('df-6fcbfb67-c557-4c94-bd7e-92413f3694de')\"\n",
              "              title=\"Convert this dataframe to an interactive table.\"\n",
              "              style=\"display:none;\">\n",
              "        \n",
              "  <svg xmlns=\"http://www.w3.org/2000/svg\" height=\"24px\"viewBox=\"0 0 24 24\"\n",
              "       width=\"24px\">\n",
              "    <path d=\"M0 0h24v24H0V0z\" fill=\"none\"/>\n",
              "    <path d=\"M18.56 5.44l.94 2.06.94-2.06 2.06-.94-2.06-.94-.94-2.06-.94 2.06-2.06.94zm-11 1L8.5 8.5l.94-2.06 2.06-.94-2.06-.94L8.5 2.5l-.94 2.06-2.06.94zm10 10l.94 2.06.94-2.06 2.06-.94-2.06-.94-.94-2.06-.94 2.06-2.06.94z\"/><path d=\"M17.41 7.96l-1.37-1.37c-.4-.4-.92-.59-1.43-.59-.52 0-1.04.2-1.43.59L10.3 9.45l-7.72 7.72c-.78.78-.78 2.05 0 2.83L4 21.41c.39.39.9.59 1.41.59.51 0 1.02-.2 1.41-.59l7.78-7.78 2.81-2.81c.8-.78.8-2.07 0-2.86zM5.41 20L4 18.59l7.72-7.72 1.47 1.35L5.41 20z\"/>\n",
              "  </svg>\n",
              "      </button>\n",
              "      \n",
              "  <style>\n",
              "    .colab-df-container {\n",
              "      display:flex;\n",
              "      flex-wrap:wrap;\n",
              "      gap: 12px;\n",
              "    }\n",
              "\n",
              "    .colab-df-convert {\n",
              "      background-color: #E8F0FE;\n",
              "      border: none;\n",
              "      border-radius: 50%;\n",
              "      cursor: pointer;\n",
              "      display: none;\n",
              "      fill: #1967D2;\n",
              "      height: 32px;\n",
              "      padding: 0 0 0 0;\n",
              "      width: 32px;\n",
              "    }\n",
              "\n",
              "    .colab-df-convert:hover {\n",
              "      background-color: #E2EBFA;\n",
              "      box-shadow: 0px 1px 2px rgba(60, 64, 67, 0.3), 0px 1px 3px 1px rgba(60, 64, 67, 0.15);\n",
              "      fill: #174EA6;\n",
              "    }\n",
              "\n",
              "    [theme=dark] .colab-df-convert {\n",
              "      background-color: #3B4455;\n",
              "      fill: #D2E3FC;\n",
              "    }\n",
              "\n",
              "    [theme=dark] .colab-df-convert:hover {\n",
              "      background-color: #434B5C;\n",
              "      box-shadow: 0px 1px 3px 1px rgba(0, 0, 0, 0.15);\n",
              "      filter: drop-shadow(0px 1px 2px rgba(0, 0, 0, 0.3));\n",
              "      fill: #FFFFFF;\n",
              "    }\n",
              "  </style>\n",
              "\n",
              "      <script>\n",
              "        const buttonEl =\n",
              "          document.querySelector('#df-6fcbfb67-c557-4c94-bd7e-92413f3694de button.colab-df-convert');\n",
              "        buttonEl.style.display =\n",
              "          google.colab.kernel.accessAllowed ? 'block' : 'none';\n",
              "\n",
              "        async function convertToInteractive(key) {\n",
              "          const element = document.querySelector('#df-6fcbfb67-c557-4c94-bd7e-92413f3694de');\n",
              "          const dataTable =\n",
              "            await google.colab.kernel.invokeFunction('convertToInteractive',\n",
              "                                                     [key], {});\n",
              "          if (!dataTable) return;\n",
              "\n",
              "          const docLinkHtml = 'Like what you see? Visit the ' +\n",
              "            '<a target=\"_blank\" href=https://colab.research.google.com/notebooks/data_table.ipynb>data table notebook</a>'\n",
              "            + ' to learn more about interactive tables.';\n",
              "          element.innerHTML = '';\n",
              "          dataTable['output_type'] = 'display_data';\n",
              "          await google.colab.output.renderOutput(dataTable, element);\n",
              "          const docLink = document.createElement('div');\n",
              "          docLink.innerHTML = docLinkHtml;\n",
              "          element.appendChild(docLink);\n",
              "        }\n",
              "      </script>\n",
              "    </div>\n",
              "  </div>\n",
              "  "
            ]
          },
          "metadata": {},
          "execution_count": 8
        }
      ]
    },
    {
      "cell_type": "code",
      "source": [
        "dataset.shape"
      ],
      "metadata": {
        "colab": {
          "base_uri": "https://localhost:8080/"
        },
        "id": "TbvEBYO2YOYq",
        "outputId": "d607fde5-7ea0-46ea-9f15-90e0a9117918"
      },
      "execution_count": null,
      "outputs": [
        {
          "output_type": "execute_result",
          "data": {
            "text/plain": [
              "(11430, 89)"
            ]
          },
          "metadata": {},
          "execution_count": 9
        }
      ]
    },
    {
      "cell_type": "code",
      "source": [
        "url = dataset.iloc[:,0]\n",
        "url.head()"
      ],
      "metadata": {
        "colab": {
          "base_uri": "https://localhost:8080/"
        },
        "id": "ShjVa1pwgJok",
        "outputId": "274205a0-82fb-4263-e79a-295eb1c34767"
      },
      "execution_count": null,
      "outputs": [
        {
          "output_type": "execute_result",
          "data": {
            "text/plain": [
              "0                http://www.crestonwood.com/router.php\n",
              "1    http://shadetreetechnology.com/V4/validation/a...\n",
              "2    https://support-appleld.com.secureupdate.duila...\n",
              "3                                   http://rgipt.ac.in\n",
              "4    http://www.iracing.com/tracks/gateway-motorspo...\n",
              "Name: url, dtype: object"
            ]
          },
          "metadata": {},
          "execution_count": 10
        }
      ]
    },
    {
      "cell_type": "markdown",
      "source": [
        "Convert 'phising/legitimate' to '0' and '1' in `status` column"
      ],
      "metadata": {
        "id": "Mnwn5YTdj_SU"
      }
    },
    {
      "cell_type": "code",
      "source": [
        "import numpy as np\n",
        "\n",
        "label_list = np.array(dataset.iloc[:,-1])\n",
        "convertSeries = np.where(dataset.status.values == \"phishing\", 1, 0)\n",
        "label = pd.Series(convertSeries)\n",
        "label.name = \"label\" # Add 'label' column name\n",
        "label.head()"
      ],
      "metadata": {
        "colab": {
          "base_uri": "https://localhost:8080/"
        },
        "id": "JKjK6FMoglbL",
        "outputId": "68b387fc-5087-459b-8fd7-b84366ff4e23"
      },
      "execution_count": null,
      "outputs": [
        {
          "output_type": "execute_result",
          "data": {
            "text/plain": [
              "0    0\n",
              "1    1\n",
              "2    1\n",
              "3    0\n",
              "4    0\n",
              "Name: label, dtype: int64"
            ]
          },
          "metadata": {},
          "execution_count": 11
        }
      ]
    },
    {
      "cell_type": "code",
      "source": [
        "full_df = pd.concat([url, label], axis=1)\n",
        "full_df"
      ],
      "metadata": {
        "colab": {
          "base_uri": "https://localhost:8080/",
          "height": 424
        },
        "id": "y6iyk26Tkd_1",
        "outputId": "8acfcedd-4f0d-43ae-f51c-56dbcb9bdaaf"
      },
      "execution_count": null,
      "outputs": [
        {
          "output_type": "execute_result",
          "data": {
            "text/plain": [
              "                                                     url  label\n",
              "0                  http://www.crestonwood.com/router.php      0\n",
              "1      http://shadetreetechnology.com/V4/validation/a...      1\n",
              "2      https://support-appleld.com.secureupdate.duila...      1\n",
              "3                                     http://rgipt.ac.in      0\n",
              "4      http://www.iracing.com/tracks/gateway-motorspo...      0\n",
              "...                                                  ...    ...\n",
              "11425      http://www.fontspace.com/category/blackletter      0\n",
              "11426  http://www.budgetbots.com/server.php/Server%20...      1\n",
              "11427  https://www.facebook.com/Interactive-Televisio...      0\n",
              "11428             http://www.mypublicdomainpictures.com/      0\n",
              "11429  http://174.139.46.123/ap/signin?openid.pape.ma...      1\n",
              "\n",
              "[11430 rows x 2 columns]"
            ],
            "text/html": [
              "\n",
              "  <div id=\"df-5284682b-a2b2-43de-a07d-49dc551a5b05\">\n",
              "    <div class=\"colab-df-container\">\n",
              "      <div>\n",
              "<style scoped>\n",
              "    .dataframe tbody tr th:only-of-type {\n",
              "        vertical-align: middle;\n",
              "    }\n",
              "\n",
              "    .dataframe tbody tr th {\n",
              "        vertical-align: top;\n",
              "    }\n",
              "\n",
              "    .dataframe thead th {\n",
              "        text-align: right;\n",
              "    }\n",
              "</style>\n",
              "<table border=\"1\" class=\"dataframe\">\n",
              "  <thead>\n",
              "    <tr style=\"text-align: right;\">\n",
              "      <th></th>\n",
              "      <th>url</th>\n",
              "      <th>label</th>\n",
              "    </tr>\n",
              "  </thead>\n",
              "  <tbody>\n",
              "    <tr>\n",
              "      <th>0</th>\n",
              "      <td>http://www.crestonwood.com/router.php</td>\n",
              "      <td>0</td>\n",
              "    </tr>\n",
              "    <tr>\n",
              "      <th>1</th>\n",
              "      <td>http://shadetreetechnology.com/V4/validation/a...</td>\n",
              "      <td>1</td>\n",
              "    </tr>\n",
              "    <tr>\n",
              "      <th>2</th>\n",
              "      <td>https://support-appleld.com.secureupdate.duila...</td>\n",
              "      <td>1</td>\n",
              "    </tr>\n",
              "    <tr>\n",
              "      <th>3</th>\n",
              "      <td>http://rgipt.ac.in</td>\n",
              "      <td>0</td>\n",
              "    </tr>\n",
              "    <tr>\n",
              "      <th>4</th>\n",
              "      <td>http://www.iracing.com/tracks/gateway-motorspo...</td>\n",
              "      <td>0</td>\n",
              "    </tr>\n",
              "    <tr>\n",
              "      <th>...</th>\n",
              "      <td>...</td>\n",
              "      <td>...</td>\n",
              "    </tr>\n",
              "    <tr>\n",
              "      <th>11425</th>\n",
              "      <td>http://www.fontspace.com/category/blackletter</td>\n",
              "      <td>0</td>\n",
              "    </tr>\n",
              "    <tr>\n",
              "      <th>11426</th>\n",
              "      <td>http://www.budgetbots.com/server.php/Server%20...</td>\n",
              "      <td>1</td>\n",
              "    </tr>\n",
              "    <tr>\n",
              "      <th>11427</th>\n",
              "      <td>https://www.facebook.com/Interactive-Televisio...</td>\n",
              "      <td>0</td>\n",
              "    </tr>\n",
              "    <tr>\n",
              "      <th>11428</th>\n",
              "      <td>http://www.mypublicdomainpictures.com/</td>\n",
              "      <td>0</td>\n",
              "    </tr>\n",
              "    <tr>\n",
              "      <th>11429</th>\n",
              "      <td>http://174.139.46.123/ap/signin?openid.pape.ma...</td>\n",
              "      <td>1</td>\n",
              "    </tr>\n",
              "  </tbody>\n",
              "</table>\n",
              "<p>11430 rows × 2 columns</p>\n",
              "</div>\n",
              "      <button class=\"colab-df-convert\" onclick=\"convertToInteractive('df-5284682b-a2b2-43de-a07d-49dc551a5b05')\"\n",
              "              title=\"Convert this dataframe to an interactive table.\"\n",
              "              style=\"display:none;\">\n",
              "        \n",
              "  <svg xmlns=\"http://www.w3.org/2000/svg\" height=\"24px\"viewBox=\"0 0 24 24\"\n",
              "       width=\"24px\">\n",
              "    <path d=\"M0 0h24v24H0V0z\" fill=\"none\"/>\n",
              "    <path d=\"M18.56 5.44l.94 2.06.94-2.06 2.06-.94-2.06-.94-.94-2.06-.94 2.06-2.06.94zm-11 1L8.5 8.5l.94-2.06 2.06-.94-2.06-.94L8.5 2.5l-.94 2.06-2.06.94zm10 10l.94 2.06.94-2.06 2.06-.94-2.06-.94-.94-2.06-.94 2.06-2.06.94z\"/><path d=\"M17.41 7.96l-1.37-1.37c-.4-.4-.92-.59-1.43-.59-.52 0-1.04.2-1.43.59L10.3 9.45l-7.72 7.72c-.78.78-.78 2.05 0 2.83L4 21.41c.39.39.9.59 1.41.59.51 0 1.02-.2 1.41-.59l7.78-7.78 2.81-2.81c.8-.78.8-2.07 0-2.86zM5.41 20L4 18.59l7.72-7.72 1.47 1.35L5.41 20z\"/>\n",
              "  </svg>\n",
              "      </button>\n",
              "      \n",
              "  <style>\n",
              "    .colab-df-container {\n",
              "      display:flex;\n",
              "      flex-wrap:wrap;\n",
              "      gap: 12px;\n",
              "    }\n",
              "\n",
              "    .colab-df-convert {\n",
              "      background-color: #E8F0FE;\n",
              "      border: none;\n",
              "      border-radius: 50%;\n",
              "      cursor: pointer;\n",
              "      display: none;\n",
              "      fill: #1967D2;\n",
              "      height: 32px;\n",
              "      padding: 0 0 0 0;\n",
              "      width: 32px;\n",
              "    }\n",
              "\n",
              "    .colab-df-convert:hover {\n",
              "      background-color: #E2EBFA;\n",
              "      box-shadow: 0px 1px 2px rgba(60, 64, 67, 0.3), 0px 1px 3px 1px rgba(60, 64, 67, 0.15);\n",
              "      fill: #174EA6;\n",
              "    }\n",
              "\n",
              "    [theme=dark] .colab-df-convert {\n",
              "      background-color: #3B4455;\n",
              "      fill: #D2E3FC;\n",
              "    }\n",
              "\n",
              "    [theme=dark] .colab-df-convert:hover {\n",
              "      background-color: #434B5C;\n",
              "      box-shadow: 0px 1px 3px 1px rgba(0, 0, 0, 0.15);\n",
              "      filter: drop-shadow(0px 1px 2px rgba(0, 0, 0, 0.3));\n",
              "      fill: #FFFFFF;\n",
              "    }\n",
              "  </style>\n",
              "\n",
              "      <script>\n",
              "        const buttonEl =\n",
              "          document.querySelector('#df-5284682b-a2b2-43de-a07d-49dc551a5b05 button.colab-df-convert');\n",
              "        buttonEl.style.display =\n",
              "          google.colab.kernel.accessAllowed ? 'block' : 'none';\n",
              "\n",
              "        async function convertToInteractive(key) {\n",
              "          const element = document.querySelector('#df-5284682b-a2b2-43de-a07d-49dc551a5b05');\n",
              "          const dataTable =\n",
              "            await google.colab.kernel.invokeFunction('convertToInteractive',\n",
              "                                                     [key], {});\n",
              "          if (!dataTable) return;\n",
              "\n",
              "          const docLinkHtml = 'Like what you see? Visit the ' +\n",
              "            '<a target=\"_blank\" href=https://colab.research.google.com/notebooks/data_table.ipynb>data table notebook</a>'\n",
              "            + ' to learn more about interactive tables.';\n",
              "          element.innerHTML = '';\n",
              "          dataTable['output_type'] = 'display_data';\n",
              "          await google.colab.output.renderOutput(dataTable, element);\n",
              "          const docLink = document.createElement('div');\n",
              "          docLink.innerHTML = docLinkHtml;\n",
              "          element.appendChild(docLink);\n",
              "        }\n",
              "      </script>\n",
              "    </div>\n",
              "  </div>\n",
              "  "
            ]
          },
          "metadata": {},
          "execution_count": 16
        }
      ]
    },
    {
      "cell_type": "markdown",
      "source": [
        "Ở đây mình chỉ chọn **100 mẫu** để lấy feature, vì lấy nhiều sẽ \"cực cực kỳ\" mất thời gian (●'◡'●)"
      ],
      "metadata": {
        "id": "ok8LaM7JbhX7"
      }
    },
    {
      "cell_type": "code",
      "source": [
        "df = full_df.sample(n=100, random_state=12)\n",
        "df = df.reset_index(drop=True)\n",
        "df.shape"
      ],
      "metadata": {
        "colab": {
          "base_uri": "https://localhost:8080/"
        },
        "id": "adV6iwgBTIjE",
        "outputId": "b6e53f2c-b7d0-4490-8328-9afe6cfeb511"
      },
      "execution_count": null,
      "outputs": [
        {
          "output_type": "execute_result",
          "data": {
            "text/plain": [
              "(100, 2)"
            ]
          },
          "metadata": {},
          "execution_count": 18
        }
      ]
    },
    {
      "cell_type": "code",
      "source": [
        "feature_list = []\n",
        "\n",
        "for i in df.index:\n",
        "  print(\"Link number No.%d\" % i)\n",
        "  url = df['url'][i]\n",
        "  label = df['label'][i]\n",
        "  feature_list.append(featureExtraction(url,label))"
      ],
      "metadata": {
        "colab": {
          "base_uri": "https://localhost:8080/"
        },
        "id": "nBIngphoUWab",
        "outputId": "4280ebba-6196-444f-8bb9-9f38b773d18d"
      },
      "execution_count": null,
      "outputs": [
        {
          "output_type": "stream",
          "name": "stdout",
          "text": [
            "Link number No.1278\n",
            "The domain is:  consumerreports.org\n",
            "http%3A//www.consumerreports.org/cro/wireless-routers/buying-guide\n",
            "Link number No.9146\n",
            "The domain is:  dkwheels.com.br\n",
            "http%3A//dkwheels.com.br/wp-includes/blocks/postlux/sms2.php%3Fca%3D\n",
            "Link number No.10540\n",
            "The domain is:  antena-uk.kz\n",
            "http%3A//antena-uk.kz/components/com_media/internetbanking.suncorpbank.htm\n",
            "Link number No.7121\n",
            "The domain is:  xiaoji.com\n",
            "http%3A//www.xiaoji.com/\n",
            "Link number No.5043\n",
            "The domain is:  coolasmustard.com\n",
            "http%3A//coolasmustard.com/detail/hdmi-splitter\n",
            "Link number No.6856\n",
            "The domain is:  us-solar-department.com\n",
            "https%3A//us-solar-department.com/d/4/%3Freqid%3D11175476%26amp%3Bcp%3D1586%26amp%3Ba%3D591%26amp%3Bs%3D347\n",
            "Link number No.11073\n",
            "The domain is:  askubuntu.com\n",
            "https%3A//askubuntu.com/questions/434849/change-keyboard-layout-english-uk-on-command-line-to-english-us\n",
            "Link number No.10990\n",
            "The domain is:  frosty-nobel-ca7f68.netlify.app\n",
            "http%3A//frosty-nobel-ca7f68.netlify.app/\n",
            "Link number No.10584\n",
            "The domain is:  pay-pai-securty-verifyi-accunt-cmd.agr.ng\n",
            "Error trying to connect to socket: closing socket - [Errno -2] Name or service not known\n",
            "http%3A//pay-pai-securty-verifyi-accunt-cmd.agr.ng/users/Login.ID-39566/\n",
            "Link number No.1419\n",
            "The domain is:  drivegoogle.myglobalchild.com\n",
            "http%3A//drivegoogle.myglobalchild.com/e1ae20556d0d00f6010d19f1a17b72c2/\n",
            "Link number No.9782\n",
            "The domain is:  ecswire.com\n",
            "http%3A//www.ecswire.com/mmspecs/Specsheets/General/p_2425_GenSPEED_Cat6_Cables.pdf\n",
            "Link number No.3530\n",
            "The domain is:  mamujutengahkab.go.id\n",
            "https%3A//www.mamujutengahkab.go.id/terasconfig/www.att.net/\n",
            "Link number No.3224\n",
            "The domain is:  studierendenjobs.de\n",
            "https%3A//www.studierendenjobs.de/\n",
            "Link number No.8820\n",
            "The domain is:  jbimpex.com.pk\n",
            "Error trying to connect to socket: closing socket - [Errno -2] Name or service not known\n",
            "https%3A//jbimpex.com.pk//fd67mn/z\n",
            "Link number No.9588\n",
            "The domain is:  en.m.wikipedia.org\n",
            "https%3A//en.m.wikipedia.org/wiki/Closed-source\n",
            "Link number No.10556\n",
            "The domain is:  simple.wikipedia.org\n",
            "https%3A//simple.wikipedia.org/wiki/Impact_event\n",
            "Link number No.8558\n",
            "The domain is:  partycity.com\n",
            "http%3A//www.partycity.com/category/balloons/number%2Bballoons.do\n",
            "Link number No.8509\n",
            "The domain is:  thechurchillobserver.com\n",
            "http%3A//www.thechurchillobserver.com/\n",
            "Link number No.9421\n",
            "The domain is:  bik-info.ru\n",
            "http%3A//www.bik-info.ru/\n",
            "Link number No.8704\n",
            "The domain is:  en.wikipedia.org\n",
            "https%3A//en.wikipedia.org/wiki/Gateway%2C_Inc.\n",
            "Link number No.1223\n",
            "The domain is:  dictionary.babylon-software.com\n",
            "http%3A//dictionary.babylon-software.com/latency/\n",
            "Link number No.7757\n",
            "The domain is:  en.wikipedia.org\n",
            "https%3A//en.wikipedia.org/wiki/Multimedia_Messaging_Service\n",
            "Link number No.10602\n",
            "The domain is:  cs.stackexchange.com\n",
            "https%3A//cs.stackexchange.com/questions/65925/proving-that-the-shortest-path-problem-between-two-vertices-s-and-t-in-a-gra\n",
            "Link number No.1042\n",
            "The domain is:  laracasts.com\n",
            "https%3A//laracasts.com/series/how-do-i/episodes/19\n",
            "Link number No.4069\n",
            "The domain is:  dictionary.com\n",
            "http%3A//www.dictionary.com/browse/sessions\n",
            "Link number No.4789\n",
            "The domain is:  drinksomecoffee.com\n",
            "http%3A//drinksomecoffee.com/tmp1/agreement_docs2/specialdocs/365i\n",
            "Link number No.3167\n",
            "The domain is:  support-appleld.com.secureupdate.duilawyeryork.com\n",
            "http%3A//support-appleld.com.secureupdate.duilawyeryork.com/ap/c0394ddffe3cd93%3Fcmd%3D_update%26dispatch%3Dc0394ddffe3cd93d7%26locale%3D_us\n",
            "Link number No.818\n",
            "The domain is:  answers.com\n",
            "http%3A//www.answers.com/Q/PnP_is_the_acronym_for_what_term\n",
            "Link number No.3683\n",
            "The domain is:  foma-ura-lote.firebaseapp.com\n",
            "https%3A//foma-ura-lote.firebaseapp.com/\n",
            "Link number No.7441\n",
            "The domain is:  moongiant.com\n",
            "http%3A//www.moongiant.com/calendar/\n",
            "Link number No.4698\n",
            "The domain is:  jcs.biologists.org\n",
            "http%3A//jcs.biologists.org/content/joces/117/25/6061.full.pdf\n",
            "Link number No.10745\n",
            "The domain is:  vkweb.webservis.ru\n",
            "http%3A//vkweb.webservis.ru\n",
            "Link number No.7226\n",
            "The domain is:  fast-joingroup1.itsaol.com\n",
            "http%3A//fast-joingroup1.itsaol.com/\n",
            "Link number No.8248\n",
            "The domain is:  secureupdate.appleld.com.duilawyeryork.com\n",
            "https%3A//www.secureupdate.appleld.com.duilawyeryork.com/ap/c29312da9254ca6/%3Fcmd%3D_update%26dispatch%3Dc29312da9254ca6d5%26locale%3D_US\n",
            "Link number No.19\n",
            "The domain is:  2345daohang.com\n",
            "http%3A//www.2345daohang.com/\n",
            "Link number No.4900\n",
            "The domain is:  lp2m.umsu.ac.id\n",
            "http%3A//lp2m.umsu.ac.id/wp-includes/IXR/redirect.html\n",
            "Link number No.9325\n",
            "The domain is:  scuolascigressoney.net\n",
            "http%3A//www.scuolascigressoney.net/update.html\n",
            "Link number No.2837\n",
            "The domain is:  nimara.dk\n",
            "https%3A//nimara.dk/\n",
            "Link number No.7562\n",
            "The domain is:  handipadel.com\n",
            "http%3A//handipadel.com/wp-includes/js/jquery/uii/jss/img/secured/fold/crypt/index.php%3Femail%3D_username%40domain.com_\n",
            "Link number No.678\n",
            "The domain is:  roken.nl\n",
            "https%3A//roken.nl/\n",
            "Link number No.6063\n",
            "The domain is:  flights.idealo.com\n",
            "http%3A//flights.idealo.com/airline/LATAM-Chile-LA/\n",
            "Link number No.3434\n",
            "The domain is:  support-appleld.com.secureupdate.duilawyeryork.com\n",
            "http%3A//support-appleld.com.secureupdate.duilawyeryork.com/ap/e8b96a2d009566c/%3Fcmd%3D_update%26dispatch%3De8b96a2d009566c67%26locale%3D_\n",
            "Link number No.5650\n",
            "The domain is:  ymecanaw.files.wordpress.com\n",
            "https%3A//ymecanaw.files.wordpress.com/2015/06/noble-eightfold-path-pdf.pdf\n",
            "Link number No.1357\n",
            "The domain is:  rapline.hu\n",
            "http%3A//rapline.hu/wp-content/plugins/ppus/cgi/u.php\n",
            "Link number No.11341\n",
            "The domain is:  smard.com.tr\n",
            "http%3A//smard.com.tr/wp-content/plugins/wp-statistics/session-acces-email/webmail-login-mycas-session-cookie/kunde-ionos-session-cookie/EMAILVARIFICATION.php%3Femail%3Dinfo%40wendt-mobile.de\n",
            "Link number No.1359\n",
            "The domain is:  quilt.com\n",
            "http%3A//www.quilt.com/FAQS/BattingFAQ.html\n",
            "Link number No.3791\n",
            "The domain is:  netmerkez.wordpress.com\n",
            "https%3A//netmerkez.wordpress.com/excel/adding-right-click-context-menu-2/\n",
            "Link number No.8008\n",
            "The domain is:  instructables.com\n",
            "http%3A//www.instructables.com/id/EMB979AFLQES9J3WIJ/\n",
            "Link number No.9381\n",
            "The domain is:  allflagsauto.com\n",
            "http%3A//www.allflagsauto.com/wp-admin/meta/document/googledrive/\n",
            "Link number No.7326\n",
            "The domain is:  149.210.143.165\n",
            "http%3A//149.210.143.165/~admin/index3.html\n",
            "Link number No.730\n",
            "The domain is:  cartetitolare-it-mps.www1.biz\n",
            "http%3A//cartetitolare-it-mps.www1.biz/portaleTitolares11/\n",
            "Link number No.3455\n",
            "The domain is:  eset-store.gr\n",
            "http%3A//www.eset-store.gr/dropboxbusiness/login.php\n",
            "Link number No.10748\n",
            "The domain is:  shahidnews.com\n",
            "http%3A//www.shahidnews.com/\n",
            "Link number No.8399\n",
            "The domain is:  document.online-convert.com\n",
            "http%3A//document.online-convert.com/convert-to-ppt\n",
            "Link number No.3076\n",
            "The domain is:  secureupdate.appleld.com.duilawyeryork.com\n",
            "http%3A//secureupdate.appleld.com.duilawyeryork.com/ap/2208bc7770495e0%3Fcmd%3D_update%26dispatch%3D2208bc7770495e028%26locale%3D_de\n",
            "Link number No.3236\n",
            "The domain is:  personalportfolio.com.au\n",
            "http%3A//www.personalportfolio.com.au/login.php\n",
            "Link number No.3240\n",
            "The domain is:  yourdictionary.com\n",
            "http%3A//www.yourdictionary.com/dna\n",
            "Link number No.8566\n",
            "The domain is:  diffen.com\n",
            "http%3A//www.diffen.com/difference/LAN_vs_WAN\n",
            "Link number No.4614\n",
            "The domain is:  alpresor.se\n",
            "http%3A//www.alpresor.se/\n",
            "Link number No.7130\n",
            "The domain is:  auto.howstuffworks.com\n",
            "http%3A//auto.howstuffworks.com/transmission.htm\n",
            "Link number No.1225\n",
            "The domain is:  glitchwrks.com\n",
            "http%3A//www.glitchwrks.com/2010/10/25/walnut-creek-cpm\n",
            "Link number No.2375\n",
            "The domain is:  arkoch.freshsite.pl\n",
            "http%3A//www.arkoch.freshsite.pl/js/google_doc/gduc/\n",
            "Link number No.8403\n",
            "The domain is:  optus.com.au\n",
            "http%3A//www.optus.com.au/shop/support/answer%3FanswerId%3D1842%26question%3D%2520%26typeId%3D6\n",
            "Link number No.3205\n",
            "The domain is:  rw-designer.com\n",
            "http%3A//www.rw-designer.com/icon-library\n",
            "Link number No.6087\n",
            "The domain is:  triposo.com\n",
            "https%3A//www.triposo.com/poi/Gateway_Motorsports_Park\n",
            "Link number No.9447\n",
            "The domain is:  atu946.ca\n",
            "https%3A//atu946.ca/PR/ODF/webmail.php\n",
            "Link number No.3610\n",
            "The domain is:  marchearningstatment.ontrapages.com\n",
            "http%3A//marchearningstatment.ontrapages.com/\n",
            "Link number No.8633\n",
            "The domain is:  dealnews.com\n",
            "http%3A//dealnews.com/c167/Electronics/Cameras/\n",
            "Link number No.9035\n",
            "The domain is:  support-appleld.com.secureupdate.duilawyeryork.com\n",
            "https%3A//support-appleld.com.secureupdate.duilawyeryork.com/ap/e0a8f8c89259c0d%3Fcmd%3D_update%26dispatch%3De0a8f8c89259c0d9b%26locale%3D_US\n",
            "Link number No.9765\n",
            "The domain is:  inetservicescloud.com\n",
            "http%3A//www.inetservicescloud.com/knowledgebase/how-to-disable-ctrl-alt-del-in-centos6rhel6/\n",
            "Link number No.6424\n",
            "The domain is:  victorpest.com\n",
            "http%3A//www.victorpest.com/advice/rodent-library/house-mouse\n",
            "Link number No.3302\n",
            "The domain is:  astonmartin-lotus.com\n",
            "https%3A//www.astonmartin-lotus.com/\n",
            "Link number No.11201\n",
            "The domain is:  bestjobdescriptions.com\n",
            "https%3A//www.bestjobdescriptions.com/freight-and-delivery/truck-driver-job-description\n",
            "Link number No.10398\n",
            "The domain is:  m.hf215.com\n",
            "http%3A//m.hf215.com/\n",
            "Link number No.4211\n",
            "The domain is:  aprenderparaser.com.br\n",
            "https%3A//aprenderparaser.com.br/signin/\n",
            "Link number No.2798\n",
            "The domain is:  en.citizendium.org\n",
            "http%3A//en.citizendium.org/wiki/Router_%28tool%29\n",
            "Link number No.11247\n",
            "The domain is:  autohut.ro\n",
            "https%3A//www.autohut.ro/\n",
            "Link number No.2996\n",
            "The domain is:  jp519.com\n",
            "http%3A//www.jp519.com/\n",
            "Link number No.5077\n",
            "The domain is:  searchaws.techtarget.com\n",
            "http%3A//searchaws.techtarget.com/definition/content-delivery-network-CDN\n",
            "Link number No.552\n",
            "The domain is:  autotesteu.com\n",
            "http%3A//autotesteu.com/mail/GlobalSources/GlobalSources\n",
            "Link number No.694\n",
            "The domain is:  ijikc.co.in\n",
            "http%3A//ijikc.co.in/sites/ijikc20/rating/ken7xx7y0p9/wemail_al.html\n",
            "Link number No.7637\n",
            "The domain is:  mt54467891.webcindario.com\n",
            "https%3A//mt54467891.webcindario.com/cox.full/cox.full/Zo/stepCoxMail/log/sycho/\n",
            "Link number No.9162\n",
            "The domain is:  consumercomplaints.in\n",
            "https%3A//www.consumercomplaints.in/complaints/sbi-online-banking-c150235/page/2\n",
            "Link number No.5682\n",
            "The domain is:  walmart.com\n",
            "https%3A//www.walmart.com/c/ep/batting-nets\n",
            "Link number No.2760\n",
            "The domain is:  tessafowler.com\n",
            "https%3A//www.tessafowler.com/\n",
            "Link number No.5031\n",
            "The domain is:  eostechnologies.net\n",
            "http%3A//eostechnologies.net/wp-admin/network/boxMrenewal.php%3FEmail%3Dabuse\n",
            "Link number No.8698\n",
            "The domain is:  tradefactsltd.co.uk\n",
            "https%3A//tradefactsltd.co.uk/ibank/login.php%3Fcontextid%26microsoft%3D%242y%2412%24hnNQzvUdFZInIuYSEARPP.w95bCywWKdCfCH53Jnqb6v8nOEMPomK%26randsalt%3Dd41d8cd98f00b204e9800998ecf8427e%26email%3Dabuse%40example.com%26authentication%3D%242y%2412%24hnNQzvUdFZInIuYSEARPP.w95bCywWKdCfCH53Jnqb6v8nOEMPomK%26client-request-id%3Dd3ffb5da-8321-4513-1df6-0180010000c7WaTqs\n"
          ]
        },
        {
          "output_type": "stream",
          "name": "stderr",
          "text": [
            "ERROR:urllib3.connection:Certificate did not match expected hostname: tradefactsltd.co.uk. Certificate: {'subject': ((('commonName', '*.web-hosting.com'),),), 'issuer': ((('countryName', 'GB'),), (('stateOrProvinceName', 'Greater Manchester'),), (('localityName', 'Salford'),), (('organizationName', 'Sectigo Limited'),), (('commonName', 'Sectigo RSA Domain Validation Secure Server CA'),)), 'version': 3, 'serialNumber': 'DE403305E27E76C70580B00577A2E49E', 'notBefore': 'Mar  9 00:00:00 2022 GMT', 'notAfter': 'Apr  9 23:59:59 2023 GMT', 'subjectAltName': (('DNS', '*.web-hosting.com'), ('DNS', 'web-hosting.com')), 'OCSP': ('http://ocsp.sectigo.com',), 'caIssuers': ('http://crt.sectigo.com/SectigoRSADomainValidationSecureServerCA.crt',)}\n"
          ]
        },
        {
          "output_type": "stream",
          "name": "stdout",
          "text": [
            "Link number No.9181\n",
            "The domain is:  ademsa.com\n",
            "http%3A//ademsa.com/blog/control/\n",
            "Link number No.9197\n",
            "The domain is:  tomsguide.com\n",
            "http%3A//www.tomsguide.com/us/best-streaming-players%2Creview-2140.html\n",
            "Link number No.11133\n",
            "The domain is:  185.17.106.194\n",
            "http%3A//185.17.106.194/wp-includes/dropbox/dropbox/\n",
            "Link number No.7840\n",
            "The domain is:  groups.google.com\n",
            "https%3A//groups.google.com/d/forum/node-red\n",
            "Link number No.8751\n",
            "The domain is:  dropbox.com\n",
            "https%3A//www.dropbox.com/l/AABsArKdOw0Xm20ePPEw4Fd2__f1tVEhlv0\n",
            "Link number No.10509\n",
            "The domain is:  vevobahis211.blogspot.com\n",
            "http%3A//vevobahis211.blogspot.com\n",
            "Link number No.8229\n",
            "The domain is:  wakeonlan.ru\n",
            "http%3A//www.wakeonlan.ru/rus/kb/tech/wakeonlan.php\n",
            "Link number No.8128\n",
            "The domain is:  webguru.asia\n",
            "http%3A//webguru.asia/promo/y/y/m.i.php%3Frand%3D13InboxLightaspxn.1774256418\n",
            "Link number No.5855\n",
            "The domain is:  www1.salary.com\n",
            "http%3A//www1.salary.com/Computer-Numeric-Control-Machine-Programmer-I-Salary.html\n",
            "Link number No.6305\n",
            "The domain is:  pun.pl\n",
            "http%3A//www.pun.pl\n",
            "Link number No.9231\n",
            "The domain is:  spherical-door-277805.uc.r.appspot.com\n",
            "http%3A//spherical-door-277805.uc.r.appspot.com/off365.html%3Fpayment%2520codeAAQkADUyYzNhODUwLTAwNzYtNGE2YS04YWQ1LWI2Yjg5MWY5NzM2ZAAQADKpx%2520lv1KxDr2OE5uAPrZw%3D\n",
            "Link number No.11292\n",
            "The domain is:  againstmalaria.com\n",
            "https%3A//www.againstmalaria.com/default.aspx\n",
            "Link number No.8490\n",
            "The domain is:  stolizaparketa.ru\n",
            "http%3A//stolizaparketa.ru/wp-content/themes/twentyfifteen/css/read/chinavali/\n"
          ]
        }
      ]
    },
    {
      "cell_type": "code",
      "source": [
        "feature_names = ['Domain', 'Have_IP', 'Have_At', 'URL_Length', 'URL_Depth','Redirection', \n",
        "                      'https_Domain', 'TinyURL', 'Prefix/Suffix', 'DNS_Record', 'Web_Traffic', \n",
        "                      'Domain_Age', 'Domain_End', 'iFrame', 'Mouse_Over','Right_Click', 'Web_Forwards', 'Label']\n",
        "\n",
        "df_phis_legit = pd.DataFrame(feature_list, columns= feature_names) # A dataframe with 'legitimate' and 'phising' URLs\n",
        "df_phis_legit.head()"
      ],
      "metadata": {
        "colab": {
          "base_uri": "https://localhost:8080/",
          "height": 270
        },
        "id": "nf6HHgCFWoXW",
        "outputId": "aba62f87-d95b-4654-aca3-336a33c20ae9"
      },
      "execution_count": null,
      "outputs": [
        {
          "output_type": "execute_result",
          "data": {
            "text/plain": [
              "                Domain  Have_IP  Have_At  URL_Length  URL_Depth  Redirection  \\\n",
              "0  consumerreports.org        0        0           1          3            0   \n",
              "1      dkwheels.com.br        0        0           1          4            0   \n",
              "2         antena-uk.kz        0        0           1          3            0   \n",
              "3           xiaoji.com        0        0           0          0            0   \n",
              "4    coolasmustard.com        0        0           0          2            0   \n",
              "\n",
              "   https_Domain  TinyURL  Prefix/Suffix  DNS_Record  Web_Traffic  Domain_Age  \\\n",
              "0             1        0              0           0            1           0   \n",
              "1             1        0              0           0            1           1   \n",
              "2             1        0              1           0            1           1   \n",
              "3             1        0              0           0            0           0   \n",
              "4             1        0              0           0            1           0   \n",
              "\n",
              "   Domain_End  iFrame  Mouse_Over  Right_Click  Web_Forwards  Label  \n",
              "0           1       0           0            1             1      0  \n",
              "1           1       0           0            1             0      1  \n",
              "2           1       0           0            1             0      1  \n",
              "3           1       0           0            1             0      0  \n",
              "4           1       1           1            1             1      0  "
            ],
            "text/html": [
              "\n",
              "  <div id=\"df-5b8d0897-4327-41ea-8e56-86a02505c3ea\">\n",
              "    <div class=\"colab-df-container\">\n",
              "      <div>\n",
              "<style scoped>\n",
              "    .dataframe tbody tr th:only-of-type {\n",
              "        vertical-align: middle;\n",
              "    }\n",
              "\n",
              "    .dataframe tbody tr th {\n",
              "        vertical-align: top;\n",
              "    }\n",
              "\n",
              "    .dataframe thead th {\n",
              "        text-align: right;\n",
              "    }\n",
              "</style>\n",
              "<table border=\"1\" class=\"dataframe\">\n",
              "  <thead>\n",
              "    <tr style=\"text-align: right;\">\n",
              "      <th></th>\n",
              "      <th>Domain</th>\n",
              "      <th>Have_IP</th>\n",
              "      <th>Have_At</th>\n",
              "      <th>URL_Length</th>\n",
              "      <th>URL_Depth</th>\n",
              "      <th>Redirection</th>\n",
              "      <th>https_Domain</th>\n",
              "      <th>TinyURL</th>\n",
              "      <th>Prefix/Suffix</th>\n",
              "      <th>DNS_Record</th>\n",
              "      <th>Web_Traffic</th>\n",
              "      <th>Domain_Age</th>\n",
              "      <th>Domain_End</th>\n",
              "      <th>iFrame</th>\n",
              "      <th>Mouse_Over</th>\n",
              "      <th>Right_Click</th>\n",
              "      <th>Web_Forwards</th>\n",
              "      <th>Label</th>\n",
              "    </tr>\n",
              "  </thead>\n",
              "  <tbody>\n",
              "    <tr>\n",
              "      <th>0</th>\n",
              "      <td>consumerreports.org</td>\n",
              "      <td>0</td>\n",
              "      <td>0</td>\n",
              "      <td>1</td>\n",
              "      <td>3</td>\n",
              "      <td>0</td>\n",
              "      <td>1</td>\n",
              "      <td>0</td>\n",
              "      <td>0</td>\n",
              "      <td>0</td>\n",
              "      <td>1</td>\n",
              "      <td>0</td>\n",
              "      <td>1</td>\n",
              "      <td>0</td>\n",
              "      <td>0</td>\n",
              "      <td>1</td>\n",
              "      <td>1</td>\n",
              "      <td>0</td>\n",
              "    </tr>\n",
              "    <tr>\n",
              "      <th>1</th>\n",
              "      <td>dkwheels.com.br</td>\n",
              "      <td>0</td>\n",
              "      <td>0</td>\n",
              "      <td>1</td>\n",
              "      <td>4</td>\n",
              "      <td>0</td>\n",
              "      <td>1</td>\n",
              "      <td>0</td>\n",
              "      <td>0</td>\n",
              "      <td>0</td>\n",
              "      <td>1</td>\n",
              "      <td>1</td>\n",
              "      <td>1</td>\n",
              "      <td>0</td>\n",
              "      <td>0</td>\n",
              "      <td>1</td>\n",
              "      <td>0</td>\n",
              "      <td>1</td>\n",
              "    </tr>\n",
              "    <tr>\n",
              "      <th>2</th>\n",
              "      <td>antena-uk.kz</td>\n",
              "      <td>0</td>\n",
              "      <td>0</td>\n",
              "      <td>1</td>\n",
              "      <td>3</td>\n",
              "      <td>0</td>\n",
              "      <td>1</td>\n",
              "      <td>0</td>\n",
              "      <td>1</td>\n",
              "      <td>0</td>\n",
              "      <td>1</td>\n",
              "      <td>1</td>\n",
              "      <td>1</td>\n",
              "      <td>0</td>\n",
              "      <td>0</td>\n",
              "      <td>1</td>\n",
              "      <td>0</td>\n",
              "      <td>1</td>\n",
              "    </tr>\n",
              "    <tr>\n",
              "      <th>3</th>\n",
              "      <td>xiaoji.com</td>\n",
              "      <td>0</td>\n",
              "      <td>0</td>\n",
              "      <td>0</td>\n",
              "      <td>0</td>\n",
              "      <td>0</td>\n",
              "      <td>1</td>\n",
              "      <td>0</td>\n",
              "      <td>0</td>\n",
              "      <td>0</td>\n",
              "      <td>0</td>\n",
              "      <td>0</td>\n",
              "      <td>1</td>\n",
              "      <td>0</td>\n",
              "      <td>0</td>\n",
              "      <td>1</td>\n",
              "      <td>0</td>\n",
              "      <td>0</td>\n",
              "    </tr>\n",
              "    <tr>\n",
              "      <th>4</th>\n",
              "      <td>coolasmustard.com</td>\n",
              "      <td>0</td>\n",
              "      <td>0</td>\n",
              "      <td>0</td>\n",
              "      <td>2</td>\n",
              "      <td>0</td>\n",
              "      <td>1</td>\n",
              "      <td>0</td>\n",
              "      <td>0</td>\n",
              "      <td>0</td>\n",
              "      <td>1</td>\n",
              "      <td>0</td>\n",
              "      <td>1</td>\n",
              "      <td>1</td>\n",
              "      <td>1</td>\n",
              "      <td>1</td>\n",
              "      <td>1</td>\n",
              "      <td>0</td>\n",
              "    </tr>\n",
              "  </tbody>\n",
              "</table>\n",
              "</div>\n",
              "      <button class=\"colab-df-convert\" onclick=\"convertToInteractive('df-5b8d0897-4327-41ea-8e56-86a02505c3ea')\"\n",
              "              title=\"Convert this dataframe to an interactive table.\"\n",
              "              style=\"display:none;\">\n",
              "        \n",
              "  <svg xmlns=\"http://www.w3.org/2000/svg\" height=\"24px\"viewBox=\"0 0 24 24\"\n",
              "       width=\"24px\">\n",
              "    <path d=\"M0 0h24v24H0V0z\" fill=\"none\"/>\n",
              "    <path d=\"M18.56 5.44l.94 2.06.94-2.06 2.06-.94-2.06-.94-.94-2.06-.94 2.06-2.06.94zm-11 1L8.5 8.5l.94-2.06 2.06-.94-2.06-.94L8.5 2.5l-.94 2.06-2.06.94zm10 10l.94 2.06.94-2.06 2.06-.94-2.06-.94-.94-2.06-.94 2.06-2.06.94z\"/><path d=\"M17.41 7.96l-1.37-1.37c-.4-.4-.92-.59-1.43-.59-.52 0-1.04.2-1.43.59L10.3 9.45l-7.72 7.72c-.78.78-.78 2.05 0 2.83L4 21.41c.39.39.9.59 1.41.59.51 0 1.02-.2 1.41-.59l7.78-7.78 2.81-2.81c.8-.78.8-2.07 0-2.86zM5.41 20L4 18.59l7.72-7.72 1.47 1.35L5.41 20z\"/>\n",
              "  </svg>\n",
              "      </button>\n",
              "      \n",
              "  <style>\n",
              "    .colab-df-container {\n",
              "      display:flex;\n",
              "      flex-wrap:wrap;\n",
              "      gap: 12px;\n",
              "    }\n",
              "\n",
              "    .colab-df-convert {\n",
              "      background-color: #E8F0FE;\n",
              "      border: none;\n",
              "      border-radius: 50%;\n",
              "      cursor: pointer;\n",
              "      display: none;\n",
              "      fill: #1967D2;\n",
              "      height: 32px;\n",
              "      padding: 0 0 0 0;\n",
              "      width: 32px;\n",
              "    }\n",
              "\n",
              "    .colab-df-convert:hover {\n",
              "      background-color: #E2EBFA;\n",
              "      box-shadow: 0px 1px 2px rgba(60, 64, 67, 0.3), 0px 1px 3px 1px rgba(60, 64, 67, 0.15);\n",
              "      fill: #174EA6;\n",
              "    }\n",
              "\n",
              "    [theme=dark] .colab-df-convert {\n",
              "      background-color: #3B4455;\n",
              "      fill: #D2E3FC;\n",
              "    }\n",
              "\n",
              "    [theme=dark] .colab-df-convert:hover {\n",
              "      background-color: #434B5C;\n",
              "      box-shadow: 0px 1px 3px 1px rgba(0, 0, 0, 0.15);\n",
              "      filter: drop-shadow(0px 1px 2px rgba(0, 0, 0, 0.3));\n",
              "      fill: #FFFFFF;\n",
              "    }\n",
              "  </style>\n",
              "\n",
              "      <script>\n",
              "        const buttonEl =\n",
              "          document.querySelector('#df-5b8d0897-4327-41ea-8e56-86a02505c3ea button.colab-df-convert');\n",
              "        buttonEl.style.display =\n",
              "          google.colab.kernel.accessAllowed ? 'block' : 'none';\n",
              "\n",
              "        async function convertToInteractive(key) {\n",
              "          const element = document.querySelector('#df-5b8d0897-4327-41ea-8e56-86a02505c3ea');\n",
              "          const dataTable =\n",
              "            await google.colab.kernel.invokeFunction('convertToInteractive',\n",
              "                                                     [key], {});\n",
              "          if (!dataTable) return;\n",
              "\n",
              "          const docLinkHtml = 'Like what you see? Visit the ' +\n",
              "            '<a target=\"_blank\" href=https://colab.research.google.com/notebooks/data_table.ipynb>data table notebook</a>'\n",
              "            + ' to learn more about interactive tables.';\n",
              "          element.innerHTML = '';\n",
              "          dataTable['output_type'] = 'display_data';\n",
              "          await google.colab.output.renderOutput(dataTable, element);\n",
              "          const docLink = document.createElement('div');\n",
              "          docLink.innerHTML = docLinkHtml;\n",
              "          element.appendChild(docLink);\n",
              "        }\n",
              "      </script>\n",
              "    </div>\n",
              "  </div>\n",
              "  "
            ]
          },
          "metadata": {},
          "execution_count": 46
        }
      ]
    },
    {
      "cell_type": "markdown",
      "source": [
        "> **NOTE**: Phần sau theo yêu cầu, mình hoàn toàn lấy lại code từ phần [4.1](#scrollTo=A_Ph_t_hi_n_trang_web_l_a_o_b_ng_k_thu_t_h_c_m_y) và xem thông tin dataset, vẽ biểu đồ, cũng như chạy lại model và xem thông tin hiệu suất. "
      ],
      "metadata": {
        "id": "PBhTB07scmC0"
      }
    },
    {
      "cell_type": "markdown",
      "source": [
        "## b. Xem thông tin tổng quát của dữ liệu"
      ],
      "metadata": {
        "id": "UobA-il0XUkT"
      }
    },
    {
      "cell_type": "code",
      "source": [
        "#Information\n",
        "df_phis_legit.info()"
      ],
      "metadata": {
        "colab": {
          "base_uri": "https://localhost:8080/"
        },
        "id": "2unGiMDbXdI9",
        "outputId": "05351475-3bec-47b0-c0ce-33b3e97957d6"
      },
      "execution_count": null,
      "outputs": [
        {
          "output_type": "stream",
          "name": "stdout",
          "text": [
            "<class 'pandas.core.frame.DataFrame'>\n",
            "RangeIndex: 100 entries, 0 to 99\n",
            "Data columns (total 18 columns):\n",
            " #   Column         Non-Null Count  Dtype \n",
            "---  ------         --------------  ----- \n",
            " 0   Domain         100 non-null    object\n",
            " 1   Have_IP        100 non-null    int64 \n",
            " 2   Have_At        100 non-null    int64 \n",
            " 3   URL_Length     100 non-null    int64 \n",
            " 4   URL_Depth      100 non-null    int64 \n",
            " 5   Redirection    100 non-null    int64 \n",
            " 6   https_Domain   100 non-null    int64 \n",
            " 7   TinyURL        100 non-null    int64 \n",
            " 8   Prefix/Suffix  100 non-null    int64 \n",
            " 9   DNS_Record     100 non-null    int64 \n",
            " 10  Web_Traffic    100 non-null    int64 \n",
            " 11  Domain_Age     100 non-null    int64 \n",
            " 12  Domain_End     100 non-null    int64 \n",
            " 13  iFrame         100 non-null    int64 \n",
            " 14  Mouse_Over     100 non-null    int64 \n",
            " 15  Right_Click    100 non-null    int64 \n",
            " 16  Web_Forwards   100 non-null    int64 \n",
            " 17  Label          100 non-null    int64 \n",
            "dtypes: int64(17), object(1)\n",
            "memory usage: 14.2+ KB\n"
          ]
        }
      ]
    },
    {
      "cell_type": "markdown",
      "source": [],
      "metadata": {
        "id": "sfbGmHFzXxpF"
      }
    },
    {
      "cell_type": "markdown",
      "metadata": {
        "id": "ey_Z3xITXyaY"
      },
      "source": [
        "## c. Trực quan hóa dữ liệu\n",
        "Một số biểu đồ hiển thị để tìm các phân phối dữ liệu và cách mỗi liên quan với nhau giữa các đối tượng. "
      ]
    },
    {
      "cell_type": "code",
      "execution_count": null,
      "metadata": {
        "colab": {
          "base_uri": "https://localhost:8080/",
          "height": 879
        },
        "outputId": "5a84a3d6-b013-427a-f031-d5acebf602bc",
        "id": "ak200dQeXyaY"
      },
      "outputs": [
        {
          "output_type": "display_data",
          "data": {
            "text/plain": [
              "<Figure size 1080x1080 with 20 Axes>"
            ],
            "image/png": "[encoded data removed]"
          },
          "metadata": {
            "needs_background": "light"
          }
        }
      ],
      "source": [
        "from matplotlib import pyplot as plt\n",
        "\n",
        "#Plotting the data distribution\n",
        "df_phis_legit.hist(bins = 50,figsize = (15,15))\n",
        "plt.show()"
      ]
    },
    {
      "cell_type": "code",
      "execution_count": null,
      "metadata": {
        "colab": {
          "base_uri": "https://localhost:8080/",
          "height": 821
        },
        "outputId": "53eb2868-508b-4f97-b8f7-a93a2bc8266d",
        "id": "uWICg_vOXyaZ"
      },
      "outputs": [
        {
          "output_type": "display_data",
          "data": {
            "text/plain": [
              "<Figure size 1080x936 with 2 Axes>"
            ],
            "image/png": "[encoded data removed]"
          },
          "metadata": {
            "needs_background": "light"
          }
        }
      ],
      "source": [
        "import seaborn as sns\n",
        "\n",
        "#Correlation heatmap\n",
        "plt.figure(figsize=(15,13))\n",
        "sns.heatmap(df_phis_legit.corr())\n",
        "plt.show()"
      ]
    },
    {
      "cell_type": "markdown",
      "metadata": {
        "id": "TKRt2cxKYTA3"
      },
      "source": [
        "## d. Tiền xử lý dữ liệu & EDA\n",
        "Làm sạch dữ liệu bằng cách áp dụng các kỹ thuật tiền xử lý dữ liệu và chuyển đổi dữ liệu để sử dụng nó trong các mô hình."
      ]
    },
    {
      "cell_type": "code",
      "execution_count": null,
      "metadata": {
        "colab": {
          "base_uri": "https://localhost:8080/",
          "height": 364
        },
        "outputId": "a43cf0bd-7002-46de-e03d-a98905ea7968",
        "id": "Dbmg6_FdYTA3"
      },
      "outputs": [
        {
          "output_type": "execute_result",
          "data": {
            "text/plain": [
              "       Have_IP     Have_At  URL_Length   URL_Depth  Redirection  https_Domain  \\\n",
              "count    100.0  100.000000   100.00000  100.000000       100.00         100.0   \n",
              "mean       0.0    0.030000     0.43000    2.090000         0.01           1.0   \n",
              "std        0.0    0.171447     0.49757    1.735517         0.10           0.0   \n",
              "min        0.0    0.000000     0.00000    0.000000         0.00           1.0   \n",
              "25%        0.0    0.000000     0.00000    1.000000         0.00           1.0   \n",
              "50%        0.0    0.000000     0.00000    2.000000         0.00           1.0   \n",
              "75%        0.0    0.000000     1.00000    3.000000         0.00           1.0   \n",
              "max        0.0    1.000000     1.00000   10.000000         1.00           1.0   \n",
              "\n",
              "          TinyURL  Prefix/Suffix  DNS_Record  Web_Traffic  Domain_Age  \\\n",
              "count  100.000000     100.000000  100.000000   100.000000  100.000000   \n",
              "mean     0.110000       0.170000    0.060000     0.730000    0.520000   \n",
              "std      0.314466       0.377525    0.238683     0.446196    0.502117   \n",
              "min      0.000000       0.000000    0.000000     0.000000    0.000000   \n",
              "25%      0.000000       0.000000    0.000000     0.000000    0.000000   \n",
              "50%      0.000000       0.000000    0.000000     1.000000    1.000000   \n",
              "75%      0.000000       0.000000    0.000000     1.000000    1.000000   \n",
              "max      1.000000       1.000000    1.000000     1.000000    1.000000   \n",
              "\n",
              "       Domain_End      iFrame  Mouse_Over  Right_Click  Web_Forwards  \\\n",
              "count  100.000000  100.000000   100.00000        100.0    100.000000   \n",
              "mean     0.730000    0.220000     0.21000          1.0      0.220000   \n",
              "std      0.446196    0.416333     0.40936          0.0      0.416333   \n",
              "min      0.000000    0.000000     0.00000          1.0      0.000000   \n",
              "25%      0.000000    0.000000     0.00000          1.0      0.000000   \n",
              "50%      1.000000    0.000000     0.00000          1.0      0.000000   \n",
              "75%      1.000000    0.000000     0.00000          1.0      0.000000   \n",
              "max      1.000000    1.000000     1.00000          1.0      1.000000   \n",
              "\n",
              "            Label  \n",
              "count  100.000000  \n",
              "mean     0.440000  \n",
              "std      0.498888  \n",
              "min      0.000000  \n",
              "25%      0.000000  \n",
              "50%      0.000000  \n",
              "75%      1.000000  \n",
              "max      1.000000  "
            ],
            "text/html": [
              "\n",
              "  <div id=\"df-6a9b12db-873e-4620-b29a-e8bfa3e5f515\">\n",
              "    <div class=\"colab-df-container\">\n",
              "      <div>\n",
              "<style scoped>\n",
              "    .dataframe tbody tr th:only-of-type {\n",
              "        vertical-align: middle;\n",
              "    }\n",
              "\n",
              "    .dataframe tbody tr th {\n",
              "        vertical-align: top;\n",
              "    }\n",
              "\n",
              "    .dataframe thead th {\n",
              "        text-align: right;\n",
              "    }\n",
              "</style>\n",
              "<table border=\"1\" class=\"dataframe\">\n",
              "  <thead>\n",
              "    <tr style=\"text-align: right;\">\n",
              "      <th></th>\n",
              "      <th>Have_IP</th>\n",
              "      <th>Have_At</th>\n",
              "      <th>URL_Length</th>\n",
              "      <th>URL_Depth</th>\n",
              "      <th>Redirection</th>\n",
              "      <th>https_Domain</th>\n",
              "      <th>TinyURL</th>\n",
              "      <th>Prefix/Suffix</th>\n",
              "      <th>DNS_Record</th>\n",
              "      <th>Web_Traffic</th>\n",
              "      <th>Domain_Age</th>\n",
              "      <th>Domain_End</th>\n",
              "      <th>iFrame</th>\n",
              "      <th>Mouse_Over</th>\n",
              "      <th>Right_Click</th>\n",
              "      <th>Web_Forwards</th>\n",
              "      <th>Label</th>\n",
              "    </tr>\n",
              "  </thead>\n",
              "  <tbody>\n",
              "    <tr>\n",
              "      <th>count</th>\n",
              "      <td>100.0</td>\n",
              "      <td>100.000000</td>\n",
              "      <td>100.00000</td>\n",
              "      <td>100.000000</td>\n",
              "      <td>100.00</td>\n",
              "      <td>100.0</td>\n",
              "      <td>100.000000</td>\n",
              "      <td>100.000000</td>\n",
              "      <td>100.000000</td>\n",
              "      <td>100.000000</td>\n",
              "      <td>100.000000</td>\n",
              "      <td>100.000000</td>\n",
              "      <td>100.000000</td>\n",
              "      <td>100.00000</td>\n",
              "      <td>100.0</td>\n",
              "      <td>100.000000</td>\n",
              "      <td>100.000000</td>\n",
              "    </tr>\n",
              "    <tr>\n",
              "      <th>mean</th>\n",
              "      <td>0.0</td>\n",
              "      <td>0.030000</td>\n",
              "      <td>0.43000</td>\n",
              "      <td>2.090000</td>\n",
              "      <td>0.01</td>\n",
              "      <td>1.0</td>\n",
              "      <td>0.110000</td>\n",
              "      <td>0.170000</td>\n",
              "      <td>0.060000</td>\n",
              "      <td>0.730000</td>\n",
              "      <td>0.520000</td>\n",
              "      <td>0.730000</td>\n",
              "      <td>0.220000</td>\n",
              "      <td>0.21000</td>\n",
              "      <td>1.0</td>\n",
              "      <td>0.220000</td>\n",
              "      <td>0.440000</td>\n",
              "    </tr>\n",
              "    <tr>\n",
              "      <th>std</th>\n",
              "      <td>0.0</td>\n",
              "      <td>0.171447</td>\n",
              "      <td>0.49757</td>\n",
              "      <td>1.735517</td>\n",
              "      <td>0.10</td>\n",
              "      <td>0.0</td>\n",
              "      <td>0.314466</td>\n",
              "      <td>0.377525</td>\n",
              "      <td>0.238683</td>\n",
              "      <td>0.446196</td>\n",
              "      <td>0.502117</td>\n",
              "      <td>0.446196</td>\n",
              "      <td>0.416333</td>\n",
              "      <td>0.40936</td>\n",
              "      <td>0.0</td>\n",
              "      <td>0.416333</td>\n",
              "      <td>0.498888</td>\n",
              "    </tr>\n",
              "    <tr>\n",
              "      <th>min</th>\n",
              "      <td>0.0</td>\n",
              "      <td>0.000000</td>\n",
              "      <td>0.00000</td>\n",
              "      <td>0.000000</td>\n",
              "      <td>0.00</td>\n",
              "      <td>1.0</td>\n",
              "      <td>0.000000</td>\n",
              "      <td>0.000000</td>\n",
              "      <td>0.000000</td>\n",
              "      <td>0.000000</td>\n",
              "      <td>0.000000</td>\n",
              "      <td>0.000000</td>\n",
              "      <td>0.000000</td>\n",
              "      <td>0.00000</td>\n",
              "      <td>1.0</td>\n",
              "      <td>0.000000</td>\n",
              "      <td>0.000000</td>\n",
              "    </tr>\n",
              "    <tr>\n",
              "      <th>25%</th>\n",
              "      <td>0.0</td>\n",
              "      <td>0.000000</td>\n",
              "      <td>0.00000</td>\n",
              "      <td>1.000000</td>\n",
              "      <td>0.00</td>\n",
              "      <td>1.0</td>\n",
              "      <td>0.000000</td>\n",
              "      <td>0.000000</td>\n",
              "      <td>0.000000</td>\n",
              "      <td>0.000000</td>\n",
              "      <td>0.000000</td>\n",
              "      <td>0.000000</td>\n",
              "      <td>0.000000</td>\n",
              "      <td>0.00000</td>\n",
              "      <td>1.0</td>\n",
              "      <td>0.000000</td>\n",
              "      <td>0.000000</td>\n",
              "    </tr>\n",
              "    <tr>\n",
              "      <th>50%</th>\n",
              "      <td>0.0</td>\n",
              "      <td>0.000000</td>\n",
              "      <td>0.00000</td>\n",
              "      <td>2.000000</td>\n",
              "      <td>0.00</td>\n",
              "      <td>1.0</td>\n",
              "      <td>0.000000</td>\n",
              "      <td>0.000000</td>\n",
              "      <td>0.000000</td>\n",
              "      <td>1.000000</td>\n",
              "      <td>1.000000</td>\n",
              "      <td>1.000000</td>\n",
              "      <td>0.000000</td>\n",
              "      <td>0.00000</td>\n",
              "      <td>1.0</td>\n",
              "      <td>0.000000</td>\n",
              "      <td>0.000000</td>\n",
              "    </tr>\n",
              "    <tr>\n",
              "      <th>75%</th>\n",
              "      <td>0.0</td>\n",
              "      <td>0.000000</td>\n",
              "      <td>1.00000</td>\n",
              "      <td>3.000000</td>\n",
              "      <td>0.00</td>\n",
              "      <td>1.0</td>\n",
              "      <td>0.000000</td>\n",
              "      <td>0.000000</td>\n",
              "      <td>0.000000</td>\n",
              "      <td>1.000000</td>\n",
              "      <td>1.000000</td>\n",
              "      <td>1.000000</td>\n",
              "      <td>0.000000</td>\n",
              "      <td>0.00000</td>\n",
              "      <td>1.0</td>\n",
              "      <td>0.000000</td>\n",
              "      <td>1.000000</td>\n",
              "    </tr>\n",
              "    <tr>\n",
              "      <th>max</th>\n",
              "      <td>0.0</td>\n",
              "      <td>1.000000</td>\n",
              "      <td>1.00000</td>\n",
              "      <td>10.000000</td>\n",
              "      <td>1.00</td>\n",
              "      <td>1.0</td>\n",
              "      <td>1.000000</td>\n",
              "      <td>1.000000</td>\n",
              "      <td>1.000000</td>\n",
              "      <td>1.000000</td>\n",
              "      <td>1.000000</td>\n",
              "      <td>1.000000</td>\n",
              "      <td>1.000000</td>\n",
              "      <td>1.00000</td>\n",
              "      <td>1.0</td>\n",
              "      <td>1.000000</td>\n",
              "      <td>1.000000</td>\n",
              "    </tr>\n",
              "  </tbody>\n",
              "</table>\n",
              "</div>\n",
              "      <button class=\"colab-df-convert\" onclick=\"convertToInteractive('df-6a9b12db-873e-4620-b29a-e8bfa3e5f515')\"\n",
              "              title=\"Convert this dataframe to an interactive table.\"\n",
              "              style=\"display:none;\">\n",
              "        \n",
              "  <svg xmlns=\"http://www.w3.org/2000/svg\" height=\"24px\"viewBox=\"0 0 24 24\"\n",
              "       width=\"24px\">\n",
              "    <path d=\"M0 0h24v24H0V0z\" fill=\"none\"/>\n",
              "    <path d=\"M18.56 5.44l.94 2.06.94-2.06 2.06-.94-2.06-.94-.94-2.06-.94 2.06-2.06.94zm-11 1L8.5 8.5l.94-2.06 2.06-.94-2.06-.94L8.5 2.5l-.94 2.06-2.06.94zm10 10l.94 2.06.94-2.06 2.06-.94-2.06-.94-.94-2.06-.94 2.06-2.06.94z\"/><path d=\"M17.41 7.96l-1.37-1.37c-.4-.4-.92-.59-1.43-.59-.52 0-1.04.2-1.43.59L10.3 9.45l-7.72 7.72c-.78.78-.78 2.05 0 2.83L4 21.41c.39.39.9.59 1.41.59.51 0 1.02-.2 1.41-.59l7.78-7.78 2.81-2.81c.8-.78.8-2.07 0-2.86zM5.41 20L4 18.59l7.72-7.72 1.47 1.35L5.41 20z\"/>\n",
              "  </svg>\n",
              "      </button>\n",
              "      \n",
              "  <style>\n",
              "    .colab-df-container {\n",
              "      display:flex;\n",
              "      flex-wrap:wrap;\n",
              "      gap: 12px;\n",
              "    }\n",
              "\n",
              "    .colab-df-convert {\n",
              "      background-color: #E8F0FE;\n",
              "      border: none;\n",
              "      border-radius: 50%;\n",
              "      cursor: pointer;\n",
              "      display: none;\n",
              "      fill: #1967D2;\n",
              "      height: 32px;\n",
              "      padding: 0 0 0 0;\n",
              "      width: 32px;\n",
              "    }\n",
              "\n",
              "    .colab-df-convert:hover {\n",
              "      background-color: #E2EBFA;\n",
              "      box-shadow: 0px 1px 2px rgba(60, 64, 67, 0.3), 0px 1px 3px 1px rgba(60, 64, 67, 0.15);\n",
              "      fill: #174EA6;\n",
              "    }\n",
              "\n",
              "    [theme=dark] .colab-df-convert {\n",
              "      background-color: #3B4455;\n",
              "      fill: #D2E3FC;\n",
              "    }\n",
              "\n",
              "    [theme=dark] .colab-df-convert:hover {\n",
              "      background-color: #434B5C;\n",
              "      box-shadow: 0px 1px 3px 1px rgba(0, 0, 0, 0.15);\n",
              "      filter: drop-shadow(0px 1px 2px rgba(0, 0, 0, 0.3));\n",
              "      fill: #FFFFFF;\n",
              "    }\n",
              "  </style>\n",
              "\n",
              "      <script>\n",
              "        const buttonEl =\n",
              "          document.querySelector('#df-6a9b12db-873e-4620-b29a-e8bfa3e5f515 button.colab-df-convert');\n",
              "        buttonEl.style.display =\n",
              "          google.colab.kernel.accessAllowed ? 'block' : 'none';\n",
              "\n",
              "        async function convertToInteractive(key) {\n",
              "          const element = document.querySelector('#df-6a9b12db-873e-4620-b29a-e8bfa3e5f515');\n",
              "          const dataTable =\n",
              "            await google.colab.kernel.invokeFunction('convertToInteractive',\n",
              "                                                     [key], {});\n",
              "          if (!dataTable) return;\n",
              "\n",
              "          const docLinkHtml = 'Like what you see? Visit the ' +\n",
              "            '<a target=\"_blank\" href=https://colab.research.google.com/notebooks/data_table.ipynb>data table notebook</a>'\n",
              "            + ' to learn more about interactive tables.';\n",
              "          element.innerHTML = '';\n",
              "          dataTable['output_type'] = 'display_data';\n",
              "          await google.colab.output.renderOutput(dataTable, element);\n",
              "          const docLink = document.createElement('div');\n",
              "          docLink.innerHTML = docLinkHtml;\n",
              "          element.appendChild(docLink);\n",
              "        }\n",
              "      </script>\n",
              "    </div>\n",
              "  </div>\n",
              "  "
            ]
          },
          "metadata": {},
          "execution_count": 53
        }
      ],
      "source": [
        "df_phis_legit.describe()"
      ]
    },
    {
      "cell_type": "markdown",
      "metadata": {
        "id": "nCiSnZ4IYTA3"
      },
      "source": [
        "Kết quả thu được ở trên cho thấy rằng hầu hết dữ liệu được tạo từ 0 và 1 ngời trừ cột  'Domain' & 'URL_Depth'. cột Domain hoàn toàn không có ý nghĩa gì để đào tạo mô hình nên loại nó."
      ]
    },
    {
      "cell_type": "code",
      "execution_count": null,
      "metadata": {
        "id": "5HA-i-4EYTA3"
      },
      "outputs": [],
      "source": [
        "#Drop Domain column\n",
        "data = df_phis_legit.drop(['Domain'], axis = 1).copy()"
      ]
    },
    {
      "cell_type": "markdown",
      "metadata": {
        "id": "Z_Hox6_QYTA3"
      },
      "source": [
        "Ta còn lại 16 thuộc tính và 1 cột phân loại. Giá trị tối đa của 'URL_Depth'  là 20. Ta cần chuẩn hoá cột này."
      ]
    },
    {
      "cell_type": "code",
      "execution_count": null,
      "metadata": {
        "colab": {
          "base_uri": "https://localhost:8080/"
        },
        "outputId": "868d9f58-9dfe-40c7-9eeb-3ce665056697",
        "id": "gm3JzrfxYTA3"
      },
      "outputs": [
        {
          "output_type": "execute_result",
          "data": {
            "text/plain": [
              "Have_IP          0\n",
              "Have_At          0\n",
              "URL_Length       0\n",
              "URL_Depth        0\n",
              "Redirection      0\n",
              "https_Domain     0\n",
              "TinyURL          0\n",
              "Prefix/Suffix    0\n",
              "DNS_Record       0\n",
              "Web_Traffic      0\n",
              "Domain_Age       0\n",
              "Domain_End       0\n",
              "iFrame           0\n",
              "Mouse_Over       0\n",
              "Right_Click      0\n",
              "Web_Forwards     0\n",
              "Label            0\n",
              "dtype: int64"
            ]
          },
          "metadata": {},
          "execution_count": 56
        }
      ],
      "source": [
        "#check data null \n",
        "data.isnull().sum()"
      ]
    },
    {
      "cell_type": "markdown",
      "metadata": {
        "id": "Fp1FekiuYTA3"
      },
      "source": [
        "Trong tập tin thuộc tính được trích xuất, các thuộc tính được trích xuất của tập url lừa đảo và lành tính không có bất kỳ xáo trộn nào."
      ]
    },
    {
      "cell_type": "code",
      "execution_count": null,
      "metadata": {
        "colab": {
          "base_uri": "https://localhost:8080/",
          "height": 270
        },
        "outputId": "9e0fd229-44ab-4856-f852-8e9532b10c7a",
        "id": "SQGdc9j7YTA3"
      },
      "outputs": [
        {
          "output_type": "execute_result",
          "data": {
            "text/plain": [
              "   Have_IP  Have_At  URL_Length  URL_Depth  Redirection  https_Domain  \\\n",
              "0        0        0           0          0            0             1   \n",
              "1        0        0           1          3            0             1   \n",
              "2        0        0           0          1            0             1   \n",
              "3        0        0           0          3            0             1   \n",
              "4        0        0           0          0            0             1   \n",
              "\n",
              "   TinyURL  Prefix/Suffix  DNS_Record  Web_Traffic  Domain_Age  Domain_End  \\\n",
              "0        1              0           1            1           1           1   \n",
              "1        0              0           0            1           1           1   \n",
              "2        1              0           0            1           1           1   \n",
              "3        0              0           0            1           0           0   \n",
              "4        0              0           0            0           0           1   \n",
              "\n",
              "   iFrame  Mouse_Over  Right_Click  Web_Forwards  Label  \n",
              "0       0           0            1             0      1  \n",
              "1       0           0            1             0      0  \n",
              "2       0           0            1             0      0  \n",
              "3       0           0            1             0      1  \n",
              "4       1           1            1             1      0  "
            ],
            "text/html": [
              "\n",
              "  <div id=\"df-743da0c4-54f3-4e9a-9311-9f2b146f3985\">\n",
              "    <div class=\"colab-df-container\">\n",
              "      <div>\n",
              "<style scoped>\n",
              "    .dataframe tbody tr th:only-of-type {\n",
              "        vertical-align: middle;\n",
              "    }\n",
              "\n",
              "    .dataframe tbody tr th {\n",
              "        vertical-align: top;\n",
              "    }\n",
              "\n",
              "    .dataframe thead th {\n",
              "        text-align: right;\n",
              "    }\n",
              "</style>\n",
              "<table border=\"1\" class=\"dataframe\">\n",
              "  <thead>\n",
              "    <tr style=\"text-align: right;\">\n",
              "      <th></th>\n",
              "      <th>Have_IP</th>\n",
              "      <th>Have_At</th>\n",
              "      <th>URL_Length</th>\n",
              "      <th>URL_Depth</th>\n",
              "      <th>Redirection</th>\n",
              "      <th>https_Domain</th>\n",
              "      <th>TinyURL</th>\n",
              "      <th>Prefix/Suffix</th>\n",
              "      <th>DNS_Record</th>\n",
              "      <th>Web_Traffic</th>\n",
              "      <th>Domain_Age</th>\n",
              "      <th>Domain_End</th>\n",
              "      <th>iFrame</th>\n",
              "      <th>Mouse_Over</th>\n",
              "      <th>Right_Click</th>\n",
              "      <th>Web_Forwards</th>\n",
              "      <th>Label</th>\n",
              "    </tr>\n",
              "  </thead>\n",
              "  <tbody>\n",
              "    <tr>\n",
              "      <th>0</th>\n",
              "      <td>0</td>\n",
              "      <td>0</td>\n",
              "      <td>0</td>\n",
              "      <td>0</td>\n",
              "      <td>0</td>\n",
              "      <td>1</td>\n",
              "      <td>1</td>\n",
              "      <td>0</td>\n",
              "      <td>1</td>\n",
              "      <td>1</td>\n",
              "      <td>1</td>\n",
              "      <td>1</td>\n",
              "      <td>0</td>\n",
              "      <td>0</td>\n",
              "      <td>1</td>\n",
              "      <td>0</td>\n",
              "      <td>1</td>\n",
              "    </tr>\n",
              "    <tr>\n",
              "      <th>1</th>\n",
              "      <td>0</td>\n",
              "      <td>0</td>\n",
              "      <td>1</td>\n",
              "      <td>3</td>\n",
              "      <td>0</td>\n",
              "      <td>1</td>\n",
              "      <td>0</td>\n",
              "      <td>0</td>\n",
              "      <td>0</td>\n",
              "      <td>1</td>\n",
              "      <td>1</td>\n",
              "      <td>1</td>\n",
              "      <td>0</td>\n",
              "      <td>0</td>\n",
              "      <td>1</td>\n",
              "      <td>0</td>\n",
              "      <td>0</td>\n",
              "    </tr>\n",
              "    <tr>\n",
              "      <th>2</th>\n",
              "      <td>0</td>\n",
              "      <td>0</td>\n",
              "      <td>0</td>\n",
              "      <td>1</td>\n",
              "      <td>0</td>\n",
              "      <td>1</td>\n",
              "      <td>1</td>\n",
              "      <td>0</td>\n",
              "      <td>0</td>\n",
              "      <td>1</td>\n",
              "      <td>1</td>\n",
              "      <td>1</td>\n",
              "      <td>0</td>\n",
              "      <td>0</td>\n",
              "      <td>1</td>\n",
              "      <td>0</td>\n",
              "      <td>0</td>\n",
              "    </tr>\n",
              "    <tr>\n",
              "      <th>3</th>\n",
              "      <td>0</td>\n",
              "      <td>0</td>\n",
              "      <td>0</td>\n",
              "      <td>3</td>\n",
              "      <td>0</td>\n",
              "      <td>1</td>\n",
              "      <td>0</td>\n",
              "      <td>0</td>\n",
              "      <td>0</td>\n",
              "      <td>1</td>\n",
              "      <td>0</td>\n",
              "      <td>0</td>\n",
              "      <td>0</td>\n",
              "      <td>0</td>\n",
              "      <td>1</td>\n",
              "      <td>0</td>\n",
              "      <td>1</td>\n",
              "    </tr>\n",
              "    <tr>\n",
              "      <th>4</th>\n",
              "      <td>0</td>\n",
              "      <td>0</td>\n",
              "      <td>0</td>\n",
              "      <td>0</td>\n",
              "      <td>0</td>\n",
              "      <td>1</td>\n",
              "      <td>0</td>\n",
              "      <td>0</td>\n",
              "      <td>0</td>\n",
              "      <td>0</td>\n",
              "      <td>0</td>\n",
              "      <td>1</td>\n",
              "      <td>1</td>\n",
              "      <td>1</td>\n",
              "      <td>1</td>\n",
              "      <td>1</td>\n",
              "      <td>0</td>\n",
              "    </tr>\n",
              "  </tbody>\n",
              "</table>\n",
              "</div>\n",
              "      <button class=\"colab-df-convert\" onclick=\"convertToInteractive('df-743da0c4-54f3-4e9a-9311-9f2b146f3985')\"\n",
              "              title=\"Convert this dataframe to an interactive table.\"\n",
              "              style=\"display:none;\">\n",
              "        \n",
              "  <svg xmlns=\"http://www.w3.org/2000/svg\" height=\"24px\"viewBox=\"0 0 24 24\"\n",
              "       width=\"24px\">\n",
              "    <path d=\"M0 0h24v24H0V0z\" fill=\"none\"/>\n",
              "    <path d=\"M18.56 5.44l.94 2.06.94-2.06 2.06-.94-2.06-.94-.94-2.06-.94 2.06-2.06.94zm-11 1L8.5 8.5l.94-2.06 2.06-.94-2.06-.94L8.5 2.5l-.94 2.06-2.06.94zm10 10l.94 2.06.94-2.06 2.06-.94-2.06-.94-.94-2.06-.94 2.06-2.06.94z\"/><path d=\"M17.41 7.96l-1.37-1.37c-.4-.4-.92-.59-1.43-.59-.52 0-1.04.2-1.43.59L10.3 9.45l-7.72 7.72c-.78.78-.78 2.05 0 2.83L4 21.41c.39.39.9.59 1.41.59.51 0 1.02-.2 1.41-.59l7.78-7.78 2.81-2.81c.8-.78.8-2.07 0-2.86zM5.41 20L4 18.59l7.72-7.72 1.47 1.35L5.41 20z\"/>\n",
              "  </svg>\n",
              "      </button>\n",
              "      \n",
              "  <style>\n",
              "    .colab-df-container {\n",
              "      display:flex;\n",
              "      flex-wrap:wrap;\n",
              "      gap: 12px;\n",
              "    }\n",
              "\n",
              "    .colab-df-convert {\n",
              "      background-color: #E8F0FE;\n",
              "      border: none;\n",
              "      border-radius: 50%;\n",
              "      cursor: pointer;\n",
              "      display: none;\n",
              "      fill: #1967D2;\n",
              "      height: 32px;\n",
              "      padding: 0 0 0 0;\n",
              "      width: 32px;\n",
              "    }\n",
              "\n",
              "    .colab-df-convert:hover {\n",
              "      background-color: #E2EBFA;\n",
              "      box-shadow: 0px 1px 2px rgba(60, 64, 67, 0.3), 0px 1px 3px 1px rgba(60, 64, 67, 0.15);\n",
              "      fill: #174EA6;\n",
              "    }\n",
              "\n",
              "    [theme=dark] .colab-df-convert {\n",
              "      background-color: #3B4455;\n",
              "      fill: #D2E3FC;\n",
              "    }\n",
              "\n",
              "    [theme=dark] .colab-df-convert:hover {\n",
              "      background-color: #434B5C;\n",
              "      box-shadow: 0px 1px 3px 1px rgba(0, 0, 0, 0.15);\n",
              "      filter: drop-shadow(0px 1px 2px rgba(0, 0, 0, 0.3));\n",
              "      fill: #FFFFFF;\n",
              "    }\n",
              "  </style>\n",
              "\n",
              "      <script>\n",
              "        const buttonEl =\n",
              "          document.querySelector('#df-743da0c4-54f3-4e9a-9311-9f2b146f3985 button.colab-df-convert');\n",
              "        buttonEl.style.display =\n",
              "          google.colab.kernel.accessAllowed ? 'block' : 'none';\n",
              "\n",
              "        async function convertToInteractive(key) {\n",
              "          const element = document.querySelector('#df-743da0c4-54f3-4e9a-9311-9f2b146f3985');\n",
              "          const dataTable =\n",
              "            await google.colab.kernel.invokeFunction('convertToInteractive',\n",
              "                                                     [key], {});\n",
              "          if (!dataTable) return;\n",
              "\n",
              "          const docLinkHtml = 'Like what you see? Visit the ' +\n",
              "            '<a target=\"_blank\" href=https://colab.research.google.com/notebooks/data_table.ipynb>data table notebook</a>'\n",
              "            + ' to learn more about interactive tables.';\n",
              "          element.innerHTML = '';\n",
              "          dataTable['output_type'] = 'display_data';\n",
              "          await google.colab.output.renderOutput(dataTable, element);\n",
              "          const docLink = document.createElement('div');\n",
              "          docLink.innerHTML = docLinkHtml;\n",
              "          element.appendChild(docLink);\n",
              "        }\n",
              "      </script>\n",
              "    </div>\n",
              "  </div>\n",
              "  "
            ]
          },
          "metadata": {},
          "execution_count": 57
        }
      ],
      "source": [
        "# shuffling the rows \n",
        "data = data.sample(frac=1).reset_index(drop=True)\n",
        "data.head()"
      ]
    },
    {
      "cell_type": "markdown",
      "metadata": {
        "id": "s7ehmPHyZTWa"
      },
      "source": [
        "## e. Chia dữ liệu"
      ]
    },
    {
      "cell_type": "code",
      "execution_count": null,
      "metadata": {
        "colab": {
          "base_uri": "https://localhost:8080/"
        },
        "outputId": "ccf52efb-b98f-4b2d-a4c8-868183499d9b",
        "id": "yk54QWUnZTWa"
      },
      "outputs": [
        {
          "output_type": "execute_result",
          "data": {
            "text/plain": [
              "((100, 16), (100,))"
            ]
          },
          "metadata": {},
          "execution_count": 58
        }
      ],
      "source": [
        "#features and target columns to X & y\n",
        "y = data['Label']\n",
        "X = data.drop('Label',axis=1)\n",
        "X.shape, y.shape"
      ]
    },
    {
      "cell_type": "code",
      "execution_count": null,
      "metadata": {
        "colab": {
          "base_uri": "https://localhost:8080/"
        },
        "outputId": "2a997dd4-b9c5-42a6-c97c-e519c9c0a279",
        "id": "zHc0LD0qZTWa"
      },
      "outputs": [
        {
          "output_type": "execute_result",
          "data": {
            "text/plain": [
              "((80, 16), (20, 16))"
            ]
          },
          "metadata": {},
          "execution_count": 59
        }
      ],
      "source": [
        "# train and test sets: 80-20 split\n",
        "from sklearn.model_selection import train_test_split\n",
        "\n",
        "X_train, X_test, y_train, y_test = train_test_split(X, y, \n",
        "                                                    test_size = 0.2, random_state = 12)\n",
        "X_train.shape, X_test.shape"
      ]
    },
    {
      "cell_type": "markdown",
      "metadata": {
        "id": "fQrgUrCBZdek"
      },
      "source": [
        "## f. Đào tạo mô hình học máy\n",
        "Dữ liệu phù hợp với việc học có giám sát và hai bài toán nên áp dụng là classification - phân loại và regression - hồi quy.\n",
        "Ta sẽ có 2 nhãn  phishing (1) và legitimate (0), với các mô hình học giám sát sau:\n",
        "*  Decision Tree\n",
        "*  Random Forest\n",
        "*  Multilayer Perceptrons\n",
        "* XGBoost\n",
        "* Autoencoder Neural Network\n",
        "* Support Vector Machines"
      ]
    },
    {
      "cell_type": "code",
      "execution_count": null,
      "metadata": {
        "id": "j3X1IZIeZdel"
      },
      "outputs": [],
      "source": [
        "from sklearn.metrics import accuracy_score"
      ]
    },
    {
      "cell_type": "code",
      "execution_count": null,
      "metadata": {
        "id": "Vgaipy3NZdel"
      },
      "outputs": [],
      "source": [
        "# Creating model results\n",
        "ML_Model = []\n",
        "acc_train = []\n",
        "acc_test = []\n",
        "\n",
        "#storing the results\n",
        "def storeResults(model, a,b):\n",
        "  ML_Model.append(model)\n",
        "  acc_train.append(round(a, 3))\n",
        "  acc_test.append(round(b, 3))"
      ]
    },
    {
      "cell_type": "markdown",
      "metadata": {
        "id": "yusfiYaCZdel"
      },
      "source": [
        "### i. Decision Tree Classifier"
      ]
    },
    {
      "cell_type": "code",
      "execution_count": null,
      "metadata": {
        "colab": {
          "base_uri": "https://localhost:8080/"
        },
        "outputId": "12b3547c-7aa9-4a9c-cd1e-7ec706063d36",
        "id": "jWVrpDBuZdel"
      },
      "outputs": [
        {
          "output_type": "execute_result",
          "data": {
            "text/plain": [
              "DecisionTreeClassifier(max_depth=5)"
            ]
          },
          "metadata": {},
          "execution_count": 62
        }
      ],
      "source": [
        "# Decision Tree model \n",
        "from sklearn.tree import DecisionTreeClassifier\n",
        "\n",
        "# instantiate\n",
        "tree = DecisionTreeClassifier(max_depth = 5)\n",
        "# fit \n",
        "tree.fit(X_train, y_train)"
      ]
    },
    {
      "cell_type": "code",
      "execution_count": null,
      "metadata": {
        "id": "s3OviSxIZdel"
      },
      "outputs": [],
      "source": [
        "#predicting \n",
        "y_test_tree = tree.predict(X_test)\n",
        "y_train_tree = tree.predict(X_train)"
      ]
    },
    {
      "cell_type": "markdown",
      "metadata": {
        "id": "VxSRasj-Zdel"
      },
      "source": [
        "***Đánh giá hiệu suất***"
      ]
    },
    {
      "cell_type": "code",
      "execution_count": null,
      "metadata": {
        "colab": {
          "base_uri": "https://localhost:8080/"
        },
        "outputId": "213bb2b6-5ddc-4665-b7de-6446da61dd78",
        "id": "T9NuyBfXZdel"
      },
      "outputs": [
        {
          "output_type": "stream",
          "name": "stdout",
          "text": [
            "Decision Tree: Accuracy on training Data: 0.800\n",
            "Decision Tree: Accuracy on test Data: 0.600\n"
          ]
        }
      ],
      "source": [
        "#computing the accuracy\n",
        "acc_train_tree = accuracy_score(y_train,y_train_tree)\n",
        "acc_test_tree = accuracy_score(y_test,y_test_tree)\n",
        "\n",
        "print(\"Decision Tree: Accuracy on training Data: {:.3f}\".format(acc_train_tree))\n",
        "print(\"Decision Tree: Accuracy on test Data: {:.3f}\".format(acc_test_tree))"
      ]
    },
    {
      "cell_type": "code",
      "execution_count": null,
      "metadata": {
        "colab": {
          "base_uri": "https://localhost:8080/",
          "height": 442
        },
        "outputId": "b73f0ad3-d8bf-40f2-a233-ffad6849dc61",
        "id": "ecdkkVppZdel"
      },
      "outputs": [
        {
          "output_type": "display_data",
          "data": {
            "text/plain": [
              "<Figure size 648x504 with 1 Axes>"
            ],
            "image/png": "[encoded data removed]"
          },
          "metadata": {
            "needs_background": "light"
          }
        }
      ],
      "source": [
        "#checking the feature improtance in the model\n",
        "plt.figure(figsize=(9,7))\n",
        "n_features = X_train.shape[1]\n",
        "plt.barh(range(n_features), tree.feature_importances_, align='center')\n",
        "plt.yticks(np.arange(n_features), X_train.columns)\n",
        "plt.xlabel(\"Feature importance\")\n",
        "plt.ylabel(\"Feature\")\n",
        "plt.show()"
      ]
    },
    {
      "cell_type": "markdown",
      "metadata": {
        "id": "nWd7G2AhZdel"
      },
      "source": [
        "**Lưu trữ kết quả**"
      ]
    },
    {
      "cell_type": "code",
      "execution_count": null,
      "metadata": {
        "id": "2WIAoC2wZdel"
      },
      "outputs": [],
      "source": [
        "storeResults('Decision Tree', acc_train_tree, acc_test_tree)"
      ]
    },
    {
      "cell_type": "markdown",
      "metadata": {
        "id": "Qe3dyAPOZdel"
      },
      "source": [
        "### ii. Random Forest Classifier"
      ]
    },
    {
      "cell_type": "code",
      "execution_count": null,
      "metadata": {
        "colab": {
          "base_uri": "https://localhost:8080/"
        },
        "outputId": "4ec9094d-ac80-4877-a5fc-45562b09b138",
        "id": "N3b2hGkoZdel"
      },
      "outputs": [
        {
          "output_type": "execute_result",
          "data": {
            "text/plain": [
              "RandomForestClassifier(max_depth=5)"
            ]
          },
          "metadata": {},
          "execution_count": 67
        }
      ],
      "source": [
        "# Random Forest model\n",
        "from sklearn.ensemble import RandomForestClassifier\n",
        "\n",
        "# instantiate \n",
        "forest = RandomForestClassifier(max_depth=5)\n",
        "\n",
        "# fit \n",
        "forest.fit(X_train, y_train)"
      ]
    },
    {
      "cell_type": "code",
      "execution_count": null,
      "metadata": {
        "id": "bH3WGw7hZdel"
      },
      "outputs": [],
      "source": [
        "#predicting \n",
        "y_test_forest = forest.predict(X_test)\n",
        "y_train_forest = forest.predict(X_train)"
      ]
    },
    {
      "cell_type": "markdown",
      "metadata": {
        "id": "X5Lrj9MJZdem"
      },
      "source": [
        "**Đánh giá hiệu suất**"
      ]
    },
    {
      "cell_type": "code",
      "execution_count": null,
      "metadata": {
        "colab": {
          "base_uri": "https://localhost:8080/"
        },
        "outputId": "f838c3d7-0ed4-4d7c-c92c-05b7514ca41d",
        "id": "qnJ50OatZdem"
      },
      "outputs": [
        {
          "output_type": "stream",
          "name": "stdout",
          "text": [
            "Random forest: Accuracy on training Data: 0.838\n",
            "Random forest: Accuracy on test Data: 0.600\n"
          ]
        }
      ],
      "source": [
        "#computing the accuracy\n",
        "acc_train_forest = accuracy_score(y_train,y_train_forest)\n",
        "acc_test_forest = accuracy_score(y_test,y_test_forest)\n",
        "\n",
        "print(\"Random forest: Accuracy on training Data: {:.3f}\".format(acc_train_forest))\n",
        "print(\"Random forest: Accuracy on test Data: {:.3f}\".format(acc_test_forest))"
      ]
    },
    {
      "cell_type": "code",
      "execution_count": null,
      "metadata": {
        "colab": {
          "base_uri": "https://localhost:8080/",
          "height": 442
        },
        "outputId": "b051ef8d-553e-411d-e6a8-99b9c2dd0da6",
        "id": "_8SGvKxWZdem"
      },
      "outputs": [
        {
          "output_type": "display_data",
          "data": {
            "text/plain": [
              "<Figure size 648x504 with 1 Axes>"
            ],
            "image/png": "[encoded data removed]"
          },
          "metadata": {
            "needs_background": "light"
          }
        }
      ],
      "source": [
        "#checking the feature improtance in the model\n",
        "plt.figure(figsize=(9,7))\n",
        "n_features = X_train.shape[1]\n",
        "plt.barh(range(n_features), forest.feature_importances_, align='center')\n",
        "plt.yticks(np.arange(n_features), X_train.columns)\n",
        "plt.xlabel(\"Feature importance\")\n",
        "plt.ylabel(\"Feature\")\n",
        "plt.show()"
      ]
    },
    {
      "cell_type": "markdown",
      "metadata": {
        "id": "qoiVI5r3Zdem"
      },
      "source": [
        "**Lưu trữ kết quả**"
      ]
    },
    {
      "cell_type": "code",
      "execution_count": null,
      "metadata": {
        "id": "HOhmwqmwZdem"
      },
      "outputs": [],
      "source": [
        "storeResults('Random Forest', acc_train_forest, acc_test_forest)"
      ]
    },
    {
      "cell_type": "markdown",
      "metadata": {
        "id": "t1a6ei9kZdem"
      },
      "source": [
        "### iii. Multilayer Perceptrons (MLPs) - Học sâu"
      ]
    },
    {
      "cell_type": "code",
      "execution_count": null,
      "metadata": {
        "colab": {
          "base_uri": "https://localhost:8080/"
        },
        "outputId": "33af71a9-6e80-4b6a-b384-ffa042924318",
        "id": "uk57EAgCZdem"
      },
      "outputs": [
        {
          "output_type": "stream",
          "name": "stderr",
          "text": [
            "/usr/local/lib/python3.8/dist-packages/sklearn/neural_network/_multilayer_perceptron.py:692: ConvergenceWarning: Stochastic Optimizer: Maximum iterations (200) reached and the optimization hasn't converged yet.\n",
            "  warnings.warn(\n"
          ]
        },
        {
          "output_type": "execute_result",
          "data": {
            "text/plain": [
              "MLPClassifier(alpha=0.001, hidden_layer_sizes=[100, 100, 100])"
            ]
          },
          "metadata": {},
          "execution_count": 72
        }
      ],
      "source": [
        "# Multilayer Perceptrons model\n",
        "from sklearn.neural_network import MLPClassifier\n",
        "\n",
        "# instantiate \n",
        "mlp = MLPClassifier(alpha=0.001, hidden_layer_sizes=([100,100,100]))\n",
        "\n",
        "# fit  \n",
        "mlp.fit(X_train, y_train)"
      ]
    },
    {
      "cell_type": "code",
      "execution_count": null,
      "metadata": {
        "id": "CJI8giX3Zdem"
      },
      "outputs": [],
      "source": [
        "#predicting \n",
        "y_test_mlp = mlp.predict(X_test)\n",
        "y_train_mlp = mlp.predict(X_train)"
      ]
    },
    {
      "cell_type": "markdown",
      "metadata": {
        "id": "M7x7j9KGZdem"
      },
      "source": [
        "**Đánh giá hiệu suất**"
      ]
    },
    {
      "cell_type": "code",
      "execution_count": null,
      "metadata": {
        "colab": {
          "base_uri": "https://localhost:8080/"
        },
        "outputId": "9ba265cf-7289-4b2a-e026-b3e1470f88af",
        "id": "mKlJs4maZdem"
      },
      "outputs": [
        {
          "output_type": "stream",
          "name": "stdout",
          "text": [
            "Multilayer Perceptrons: Accuracy on training Data: 0.900\n",
            "Multilayer Perceptrons: Accuracy on test Data: 0.600\n"
          ]
        }
      ],
      "source": [
        "#computing the accuracy\n",
        "acc_train_mlp = accuracy_score(y_train,y_train_mlp)\n",
        "acc_test_mlp = accuracy_score(y_test,y_test_mlp)\n",
        "\n",
        "print(\"Multilayer Perceptrons: Accuracy on training Data: {:.3f}\".format(acc_train_mlp))\n",
        "print(\"Multilayer Perceptrons: Accuracy on test Data: {:.3f}\".format(acc_test_mlp))"
      ]
    },
    {
      "cell_type": "markdown",
      "metadata": {
        "id": "hYm3MroBZdem"
      },
      "source": [
        "**Lưu trữ kết quả**"
      ]
    },
    {
      "cell_type": "code",
      "execution_count": null,
      "metadata": {
        "id": "0IVWf31uZdem"
      },
      "outputs": [],
      "source": [
        "storeResults('Multilayer Perceptrons', acc_train_mlp, acc_test_mlp)"
      ]
    },
    {
      "cell_type": "markdown",
      "metadata": {
        "id": "UqOLSue2Zdem"
      },
      "source": [
        "### iv. XGBoost Classifier"
      ]
    },
    {
      "cell_type": "code",
      "execution_count": null,
      "metadata": {
        "colab": {
          "base_uri": "https://localhost:8080/"
        },
        "outputId": "5e163543-e190-452f-c39f-3047278e65f9",
        "id": "3PuQon-oZdem"
      },
      "outputs": [
        {
          "output_type": "execute_result",
          "data": {
            "text/plain": [
              "XGBClassifier(learning_rate=0.4, max_depth=7)"
            ]
          },
          "metadata": {},
          "execution_count": 76
        }
      ],
      "source": [
        "#XGBoost Classification model\n",
        "from xgboost import XGBClassifier\n",
        "\n",
        "# instantiate\n",
        "xgb = XGBClassifier(learning_rate=0.4,max_depth=7)\n",
        "#fit\n",
        "xgb.fit(X_train, y_train)"
      ]
    },
    {
      "cell_type": "code",
      "execution_count": null,
      "metadata": {
        "id": "X6RQzzdxZdem"
      },
      "outputs": [],
      "source": [
        "#predicting \n",
        "y_test_xgb = xgb.predict(X_test)\n",
        "y_train_xgb = xgb.predict(X_train)"
      ]
    },
    {
      "cell_type": "markdown",
      "metadata": {
        "id": "BC_n3qEEZdem"
      },
      "source": [
        "**Đánh giá hiệu suất**"
      ]
    },
    {
      "cell_type": "code",
      "execution_count": null,
      "metadata": {
        "colab": {
          "base_uri": "https://localhost:8080/"
        },
        "outputId": "9d2fdb97-6ac1-4398-a9a9-ba80b7a487db",
        "id": "OktE7G5iZdem"
      },
      "outputs": [
        {
          "output_type": "stream",
          "name": "stdout",
          "text": [
            "XGBoost: Accuracy on training Data: 0.900\n",
            "XGBoost : Accuracy on test Data: 0.500\n"
          ]
        }
      ],
      "source": [
        "#computing the accuracy \n",
        "acc_train_xgb = accuracy_score(y_train,y_train_xgb)\n",
        "acc_test_xgb = accuracy_score(y_test,y_test_xgb)\n",
        "\n",
        "print(\"XGBoost: Accuracy on training Data: {:.3f}\".format(acc_train_xgb))\n",
        "print(\"XGBoost : Accuracy on test Data: {:.3f}\".format(acc_test_xgb))"
      ]
    },
    {
      "cell_type": "markdown",
      "metadata": {
        "id": "NeTdLtrDZdem"
      },
      "source": [
        "**Lưu trữ kết quả**"
      ]
    },
    {
      "cell_type": "code",
      "execution_count": null,
      "metadata": {
        "id": "M7bj0i0IZden"
      },
      "outputs": [],
      "source": [
        "storeResults('XGBoost', acc_train_xgb, acc_test_xgb)"
      ]
    },
    {
      "cell_type": "markdown",
      "metadata": {
        "id": "fu13OtQvZden"
      },
      "source": [
        "### v. Autoencoder Neural Network"
      ]
    },
    {
      "cell_type": "code",
      "source": [
        "import keras\n",
        "from keras import layers\n",
        "\n",
        "# This is the size of our encoded representations\n",
        "encoding_dim = 16  # 32 floats -> Lấy số chiều input của mình là 16, sau khi bỏ 'Domain' và 'label' và chia cho 24.5\n",
        "# nhưng số chiều encoding không được là số thập phân nên mình lấy giá trị 16. \n",
        "# Theo nhiều nguồn tham khảo thì `encoding_dim` nên là 7, 16, 32\n",
        "\n",
        "# Đây là input image đối với dữ liệu dạng ảnh. Mình có thể sử dụng lại cho mô hình phân loại của chúng\n",
        "input_img = keras.Input(shape=(16,)) # Chỉnh lại số chiều input theo dữ liệu của mình, sau khi bỏ 'Domain' và 'label' thì còn 16 cột.\n",
        "\n",
        "# \"encoded\" là layer dạng encode đại diện cho input\n",
        "encoded = layers.Dense(encoding_dim, activation='relu')(input_img)\n",
        "# \"decoded\" là layer dạng  lossy reconstruction của input.\n",
        "decoded = layers.Dense(16, activation='sigmoid')(encoded) # Chỉnh lại theo số chiều dữ liệu của mình ở đây\n",
        "\n",
        "#  model sẽ maps (ánh xạ) một input vào một reconstruction\n",
        "autoencoder = keras.Model(input_img, decoded)"
      ],
      "metadata": {
        "id": "Sm51Jt-UZden"
      },
      "execution_count": null,
      "outputs": []
    },
    {
      "cell_type": "code",
      "source": [
        "# Còn model này sẽ map input thành bản bị encoded của nó\n",
        "encoder = keras.Model(input_img, encoded)"
      ],
      "metadata": {
        "id": "t3R7TV85Zden"
      },
      "execution_count": null,
      "outputs": []
    },
    {
      "cell_type": "code",
      "source": [
        "# Đây là input (đã bị encoded) với số chiều 16 \n",
        "encoded_input = keras.Input(shape=(encoding_dim,))\n",
        "# Lấy output layer từ model Autoencoder\n",
        "decoder_layer = autoencoder.layers[-1]\n",
        "# Tạo model Decoder\n",
        "decoder = keras.Model(encoded_input, decoder_layer(encoded_input))"
      ],
      "metadata": {
        "id": "4kVMpYBoZden"
      },
      "execution_count": null,
      "outputs": []
    },
    {
      "cell_type": "code",
      "source": [
        "autoencoder.compile(optimizer='adam', loss='binary_crossentropy', metrics=['accuracy'])"
      ],
      "metadata": {
        "id": "IIwYujfWZden"
      },
      "execution_count": null,
      "outputs": []
    },
    {
      "cell_type": "code",
      "source": [
        "autoencoder.fit(X_train, X_train,\n",
        "                epochs=50,\n",
        "                batch_size=256,\n",
        "                shuffle=True,\n",
        "                #validation_split=0.2,\n",
        "                validation_data=(X_test, X_test)\n",
        "                )"
      ],
      "metadata": {
        "colab": {
          "base_uri": "https://localhost:8080/"
        },
        "outputId": "3a9e4eef-0375-4d6a-e299-7441f16ced47",
        "id": "MKcu7d3AZden"
      },
      "execution_count": null,
      "outputs": [
        {
          "output_type": "stream",
          "name": "stdout",
          "text": [
            "Epoch 1/50\n",
            "1/1 [==============================] - 1s 658ms/step - loss: 0.7188 - accuracy: 0.0750 - val_loss: 0.7143 - val_accuracy: 0.0000e+00\n",
            "Epoch 2/50\n",
            "1/1 [==============================] - 0s 36ms/step - loss: 0.7138 - accuracy: 0.0750 - val_loss: 0.7091 - val_accuracy: 0.0000e+00\n",
            "Epoch 3/50\n",
            "1/1 [==============================] - 0s 31ms/step - loss: 0.7088 - accuracy: 0.0750 - val_loss: 0.7040 - val_accuracy: 0.0000e+00\n",
            "Epoch 4/50\n",
            "1/1 [==============================] - 0s 30ms/step - loss: 0.7038 - accuracy: 0.0750 - val_loss: 0.6989 - val_accuracy: 0.0500\n",
            "Epoch 5/50\n",
            "1/1 [==============================] - 0s 30ms/step - loss: 0.6989 - accuracy: 0.0875 - val_loss: 0.6938 - val_accuracy: 0.0500\n",
            "Epoch 6/50\n",
            "1/1 [==============================] - 0s 33ms/step - loss: 0.6939 - accuracy: 0.0875 - val_loss: 0.6888 - val_accuracy: 0.0500\n",
            "Epoch 7/50\n",
            "1/1 [==============================] - 0s 31ms/step - loss: 0.6890 - accuracy: 0.0875 - val_loss: 0.6838 - val_accuracy: 0.0500\n",
            "Epoch 8/50\n",
            "1/1 [==============================] - 0s 31ms/step - loss: 0.6841 - accuracy: 0.0875 - val_loss: 0.6789 - val_accuracy: 0.0500\n",
            "Epoch 9/50\n",
            "1/1 [==============================] - 0s 31ms/step - loss: 0.6793 - accuracy: 0.0875 - val_loss: 0.6740 - val_accuracy: 0.0500\n",
            "Epoch 10/50\n",
            "1/1 [==============================] - 0s 31ms/step - loss: 0.6745 - accuracy: 0.0875 - val_loss: 0.6692 - val_accuracy: 0.1000\n",
            "Epoch 11/50\n",
            "1/1 [==============================] - 0s 29ms/step - loss: 0.6697 - accuracy: 0.1000 - val_loss: 0.6644 - val_accuracy: 0.1000\n",
            "Epoch 12/50\n",
            "1/1 [==============================] - 0s 30ms/step - loss: 0.6650 - accuracy: 0.1000 - val_loss: 0.6597 - val_accuracy: 0.1000\n",
            "Epoch 13/50\n",
            "1/1 [==============================] - 0s 46ms/step - loss: 0.6603 - accuracy: 0.1250 - val_loss: 0.6550 - val_accuracy: 0.1000\n",
            "Epoch 14/50\n",
            "1/1 [==============================] - 0s 35ms/step - loss: 0.6556 - accuracy: 0.1250 - val_loss: 0.6503 - val_accuracy: 0.1000\n",
            "Epoch 15/50\n",
            "1/1 [==============================] - 0s 33ms/step - loss: 0.6510 - accuracy: 0.1500 - val_loss: 0.6456 - val_accuracy: 0.1000\n",
            "Epoch 16/50\n",
            "1/1 [==============================] - 0s 31ms/step - loss: 0.6463 - accuracy: 0.1625 - val_loss: 0.6409 - val_accuracy: 0.1000\n",
            "Epoch 17/50\n",
            "1/1 [==============================] - 0s 30ms/step - loss: 0.6417 - accuracy: 0.1625 - val_loss: 0.6362 - val_accuracy: 0.1000\n",
            "Epoch 18/50\n",
            "1/1 [==============================] - 0s 31ms/step - loss: 0.6370 - accuracy: 0.1625 - val_loss: 0.6315 - val_accuracy: 0.1000\n",
            "Epoch 19/50\n",
            "1/1 [==============================] - 0s 30ms/step - loss: 0.6324 - accuracy: 0.1500 - val_loss: 0.6269 - val_accuracy: 0.2000\n",
            "Epoch 20/50\n",
            "1/1 [==============================] - 0s 30ms/step - loss: 0.6278 - accuracy: 0.1625 - val_loss: 0.6222 - val_accuracy: 0.2500\n",
            "Epoch 21/50\n",
            "1/1 [==============================] - 0s 33ms/step - loss: 0.6232 - accuracy: 0.1750 - val_loss: 0.6175 - val_accuracy: 0.3000\n",
            "Epoch 22/50\n",
            "1/1 [==============================] - 0s 49ms/step - loss: 0.6185 - accuracy: 0.2125 - val_loss: 0.6129 - val_accuracy: 0.3000\n",
            "Epoch 23/50\n",
            "1/1 [==============================] - 0s 30ms/step - loss: 0.6138 - accuracy: 0.2125 - val_loss: 0.6082 - val_accuracy: 0.3500\n",
            "Epoch 24/50\n",
            "1/1 [==============================] - 0s 32ms/step - loss: 0.6090 - accuracy: 0.2375 - val_loss: 0.6035 - val_accuracy: 0.3500\n",
            "Epoch 25/50\n",
            "1/1 [==============================] - 0s 32ms/step - loss: 0.6042 - accuracy: 0.2375 - val_loss: 0.5987 - val_accuracy: 0.3500\n",
            "Epoch 26/50\n",
            "1/1 [==============================] - 0s 28ms/step - loss: 0.5994 - accuracy: 0.2750 - val_loss: 0.5940 - val_accuracy: 0.3500\n",
            "Epoch 27/50\n",
            "1/1 [==============================] - 0s 33ms/step - loss: 0.5946 - accuracy: 0.2875 - val_loss: 0.5892 - val_accuracy: 0.3500\n",
            "Epoch 28/50\n",
            "1/1 [==============================] - 0s 32ms/step - loss: 0.5896 - accuracy: 0.2875 - val_loss: 0.5843 - val_accuracy: 0.3500\n",
            "Epoch 29/50\n",
            "1/1 [==============================] - 0s 40ms/step - loss: 0.5847 - accuracy: 0.3125 - val_loss: 0.5794 - val_accuracy: 0.3500\n",
            "Epoch 30/50\n",
            "1/1 [==============================] - 0s 30ms/step - loss: 0.5797 - accuracy: 0.3375 - val_loss: 0.5745 - val_accuracy: 0.3500\n",
            "Epoch 31/50\n",
            "1/1 [==============================] - 0s 54ms/step - loss: 0.5747 - accuracy: 0.3625 - val_loss: 0.5695 - val_accuracy: 0.3500\n",
            "Epoch 32/50\n",
            "1/1 [==============================] - 0s 30ms/step - loss: 0.5697 - accuracy: 0.3625 - val_loss: 0.5646 - val_accuracy: 0.3500\n",
            "Epoch 33/50\n",
            "1/1 [==============================] - 0s 30ms/step - loss: 0.5647 - accuracy: 0.3625 - val_loss: 0.5593 - val_accuracy: 0.3500\n",
            "Epoch 34/50\n",
            "1/1 [==============================] - 0s 29ms/step - loss: 0.5596 - accuracy: 0.3625 - val_loss: 0.5540 - val_accuracy: 0.4000\n",
            "Epoch 35/50\n",
            "1/1 [==============================] - 0s 29ms/step - loss: 0.5545 - accuracy: 0.3750 - val_loss: 0.5485 - val_accuracy: 0.4000\n",
            "Epoch 36/50\n",
            "1/1 [==============================] - 0s 35ms/step - loss: 0.5494 - accuracy: 0.3750 - val_loss: 0.5428 - val_accuracy: 0.4000\n",
            "Epoch 37/50\n",
            "1/1 [==============================] - 0s 30ms/step - loss: 0.5442 - accuracy: 0.4000 - val_loss: 0.5371 - val_accuracy: 0.4000\n",
            "Epoch 38/50\n",
            "1/1 [==============================] - 0s 30ms/step - loss: 0.5390 - accuracy: 0.4625 - val_loss: 0.5313 - val_accuracy: 0.5500\n",
            "Epoch 39/50\n",
            "1/1 [==============================] - 0s 29ms/step - loss: 0.5337 - accuracy: 0.4875 - val_loss: 0.5254 - val_accuracy: 0.6000\n",
            "Epoch 40/50\n",
            "1/1 [==============================] - 0s 35ms/step - loss: 0.5283 - accuracy: 0.4875 - val_loss: 0.5195 - val_accuracy: 0.6000\n",
            "Epoch 41/50\n",
            "1/1 [==============================] - 0s 30ms/step - loss: 0.5228 - accuracy: 0.5000 - val_loss: 0.5135 - val_accuracy: 0.6000\n",
            "Epoch 42/50\n",
            "1/1 [==============================] - 0s 30ms/step - loss: 0.5172 - accuracy: 0.5250 - val_loss: 0.5075 - val_accuracy: 0.6000\n",
            "Epoch 43/50\n",
            "1/1 [==============================] - 0s 29ms/step - loss: 0.5116 - accuracy: 0.5250 - val_loss: 0.5015 - val_accuracy: 0.6000\n",
            "Epoch 44/50\n",
            "1/1 [==============================] - 0s 29ms/step - loss: 0.5059 - accuracy: 0.5375 - val_loss: 0.4954 - val_accuracy: 0.6000\n",
            "Epoch 45/50\n",
            "1/1 [==============================] - 0s 32ms/step - loss: 0.5001 - accuracy: 0.5375 - val_loss: 0.4892 - val_accuracy: 0.6000\n",
            "Epoch 46/50\n",
            "1/1 [==============================] - 0s 36ms/step - loss: 0.4943 - accuracy: 0.5375 - val_loss: 0.4831 - val_accuracy: 0.6000\n",
            "Epoch 47/50\n",
            "1/1 [==============================] - 0s 34ms/step - loss: 0.4883 - accuracy: 0.5375 - val_loss: 0.4768 - val_accuracy: 0.6000\n",
            "Epoch 48/50\n",
            "1/1 [==============================] - 0s 32ms/step - loss: 0.4822 - accuracy: 0.5375 - val_loss: 0.4704 - val_accuracy: 0.6000\n",
            "Epoch 49/50\n",
            "1/1 [==============================] - 0s 30ms/step - loss: 0.4761 - accuracy: 0.5500 - val_loss: 0.4640 - val_accuracy: 0.6000\n",
            "Epoch 50/50\n",
            "1/1 [==============================] - 0s 33ms/step - loss: 0.4699 - accuracy: 0.5750 - val_loss: 0.4574 - val_accuracy: 0.6000\n"
          ]
        },
        {
          "output_type": "execute_result",
          "data": {
            "text/plain": [
              "<keras.callbacks.History at 0x7f6d380d8e80>"
            ]
          },
          "metadata": {},
          "execution_count": 115
        }
      ]
    },
    {
      "cell_type": "code",
      "source": [
        "acc_train_auto = autoencoder.evaluate(X_train, X_train)[1]\n",
        "acc_test_auto = autoencoder.evaluate(X_test, X_test)[1]\n",
        "\n",
        "print('\\nAutoencoder: Accuracy on training Data: {:.3f}' .format(acc_train_auto))\n",
        "print('Autoencoder: Accuracy on test Data: {:.3f}' .format(acc_test_auto))"
      ],
      "metadata": {
        "colab": {
          "base_uri": "https://localhost:8080/"
        },
        "outputId": "df0d8827-d175-45c6-adb8-a6ef0c32f6f2",
        "id": "mfPdaC78Zden"
      },
      "execution_count": null,
      "outputs": [
        {
          "output_type": "stream",
          "name": "stdout",
          "text": [
            "3/3 [==============================] - 0s 3ms/step - loss: 0.4636 - accuracy: 0.5750\n",
            "1/1 [==============================] - 0s 19ms/step - loss: 0.4574 - accuracy: 0.6000\n",
            "\n",
            "Autoencoder: Accuracy on training Data: 0.575\n",
            "Autoencoder: Accuracy on test Data: 0.600\n"
          ]
        }
      ]
    },
    {
      "cell_type": "code",
      "source": [
        "storeResults('Autoencoder Neural Network', acc_train_auto, acc_test_auto)"
      ],
      "metadata": {
        "id": "vvVepHUmZden"
      },
      "execution_count": null,
      "outputs": []
    },
    {
      "cell_type": "markdown",
      "metadata": {
        "id": "QstL_MxgZden"
      },
      "source": [
        "### vi. Support Vector Machines"
      ]
    },
    {
      "cell_type": "code",
      "source": [
        "from sklearn.svm import SVC\n",
        "svm = SVC(kernel='linear')\n",
        "svm.fit(X_train, y_train)"
      ],
      "metadata": {
        "colab": {
          "base_uri": "https://localhost:8080/"
        },
        "outputId": "c87122e7-2eeb-4787-e173-5d29586db16a",
        "id": "0xOtNqteZden"
      },
      "execution_count": null,
      "outputs": [
        {
          "output_type": "execute_result",
          "data": {
            "text/plain": [
              "SVC(kernel='linear')"
            ]
          },
          "metadata": {},
          "execution_count": 87
        }
      ]
    },
    {
      "cell_type": "code",
      "source": [
        "from sklearn.metrics import confusion_matrix\n",
        "\n",
        "y_pred = svm.predict(X_test)\n",
        "\n",
        "tn, fp, fn, tp = confusion_matrix(y_test, y_pred).ravel()\n",
        "\n",
        "print(\"Accuracy: \", round((tp + tn) / (tp + tn + fp + fn), 8))\n",
        "print('False positive rate(FPR): ', round(fp / (fp + tn), 8))\n",
        "print('False negative rate(FN): ', round(fn / (fn + tp), 8))\n",
        "recall = round(tp / (tp + fn), 8)\n",
        "print('Recall(TPR): ', recall)\n",
        "precision = round(tp / (tp + fp), 8)\n",
        "print('Precision: ', precision)\n",
        "print('F1 score: ', round((2 * precision * recall) / (precision + recall), 8))"
      ],
      "metadata": {
        "colab": {
          "base_uri": "https://localhost:8080/"
        },
        "outputId": "cdd83762-b1f0-4d38-daff-9fffd182403e",
        "id": "Cu4G-WJTZden"
      },
      "execution_count": null,
      "outputs": [
        {
          "output_type": "stream",
          "name": "stdout",
          "text": [
            "Accuracy:  0.55\n",
            "False positive rate(FPR):  0.25\n",
            "False negative rate(FN):  0.58333333\n",
            "Recall(TPR):  0.41666667\n",
            "Precision:  0.71428571\n",
            "F1 score:  0.52631579\n"
          ]
        }
      ]
    },
    {
      "cell_type": "code",
      "source": [
        "#predicting \n",
        "y_test_svm = svm.predict(X_test)\n",
        "y_train_svm = svm.predict(X_train)"
      ],
      "metadata": {
        "id": "w40u7wcWZden"
      },
      "execution_count": null,
      "outputs": []
    },
    {
      "cell_type": "code",
      "source": [
        "#computing the accuracy \n",
        "acc_train_svm = accuracy_score(y_train,y_train_svm)\n",
        "acc_test_svm = accuracy_score(y_test,y_test_svm)\n",
        "\n",
        "print(\"XGBoost: Accuracy on training Data: {:.3f}\".format(acc_train_svm))\n",
        "print(\"XGBoost : Accuracy on test Data: {:.3f}\".format(acc_test_svm))"
      ],
      "metadata": {
        "colab": {
          "base_uri": "https://localhost:8080/"
        },
        "outputId": "91212cc3-4953-4835-affe-705c6ce2cb75",
        "id": "DSUs7GaAZden"
      },
      "execution_count": null,
      "outputs": [
        {
          "output_type": "stream",
          "name": "stdout",
          "text": [
            "XGBoost: Accuracy on training Data: 0.787\n",
            "XGBoost : Accuracy on test Data: 0.550\n"
          ]
        }
      ]
    },
    {
      "cell_type": "code",
      "source": [
        "storeResults('Support Vector Machines', acc_train_svm, acc_test_svm)"
      ],
      "metadata": {
        "id": "OtbqB50mZden"
      },
      "execution_count": null,
      "outputs": []
    },
    {
      "cell_type": "markdown",
      "metadata": {
        "id": "yuZShrPsaQ2H"
      },
      "source": [
        "## g. So sánh các mô hình"
      ]
    },
    {
      "cell_type": "code",
      "execution_count": null,
      "metadata": {
        "colab": {
          "base_uri": "https://localhost:8080/",
          "height": 269
        },
        "outputId": "35ae24ce-2c57-486b-8aab-f602218d9def",
        "id": "1PepQCqXaQ2H"
      },
      "outputs": [
        {
          "output_type": "execute_result",
          "data": {
            "text/plain": [
              "                     ML Model  Train Accuracy  Test Accuracy\n",
              "0               Decision Tree           0.800           0.60\n",
              "1               Random Forest           0.838           0.60\n",
              "2      Multilayer Perceptrons           0.900           0.60\n",
              "3                     XGBoost           0.900           0.50\n",
              "4  Autoencoder Neural Network           0.387           0.45\n",
              "5     Support Vector Machines           0.788           0.55\n",
              "6  Autoencoder Neural Network           0.575           0.60"
            ],
            "text/html": [
              "\n",
              "  <div id=\"df-a7e79aeb-8f6a-4edb-835a-b9234e821c12\">\n",
              "    <div class=\"colab-df-container\">\n",
              "      <div>\n",
              "<style scoped>\n",
              "    .dataframe tbody tr th:only-of-type {\n",
              "        vertical-align: middle;\n",
              "    }\n",
              "\n",
              "    .dataframe tbody tr th {\n",
              "        vertical-align: top;\n",
              "    }\n",
              "\n",
              "    .dataframe thead th {\n",
              "        text-align: right;\n",
              "    }\n",
              "</style>\n",
              "<table border=\"1\" class=\"dataframe\">\n",
              "  <thead>\n",
              "    <tr style=\"text-align: right;\">\n",
              "      <th></th>\n",
              "      <th>ML Model</th>\n",
              "      <th>Train Accuracy</th>\n",
              "      <th>Test Accuracy</th>\n",
              "    </tr>\n",
              "  </thead>\n",
              "  <tbody>\n",
              "    <tr>\n",
              "      <th>0</th>\n",
              "      <td>Decision Tree</td>\n",
              "      <td>0.800</td>\n",
              "      <td>0.60</td>\n",
              "    </tr>\n",
              "    <tr>\n",
              "      <th>1</th>\n",
              "      <td>Random Forest</td>\n",
              "      <td>0.838</td>\n",
              "      <td>0.60</td>\n",
              "    </tr>\n",
              "    <tr>\n",
              "      <th>2</th>\n",
              "      <td>Multilayer Perceptrons</td>\n",
              "      <td>0.900</td>\n",
              "      <td>0.60</td>\n",
              "    </tr>\n",
              "    <tr>\n",
              "      <th>3</th>\n",
              "      <td>XGBoost</td>\n",
              "      <td>0.900</td>\n",
              "      <td>0.50</td>\n",
              "    </tr>\n",
              "    <tr>\n",
              "      <th>4</th>\n",
              "      <td>Autoencoder Neural Network</td>\n",
              "      <td>0.387</td>\n",
              "      <td>0.45</td>\n",
              "    </tr>\n",
              "    <tr>\n",
              "      <th>5</th>\n",
              "      <td>Support Vector Machines</td>\n",
              "      <td>0.788</td>\n",
              "      <td>0.55</td>\n",
              "    </tr>\n",
              "    <tr>\n",
              "      <th>6</th>\n",
              "      <td>Autoencoder Neural Network</td>\n",
              "      <td>0.575</td>\n",
              "      <td>0.60</td>\n",
              "    </tr>\n",
              "  </tbody>\n",
              "</table>\n",
              "</div>\n",
              "      <button class=\"colab-df-convert\" onclick=\"convertToInteractive('df-a7e79aeb-8f6a-4edb-835a-b9234e821c12')\"\n",
              "              title=\"Convert this dataframe to an interactive table.\"\n",
              "              style=\"display:none;\">\n",
              "        \n",
              "  <svg xmlns=\"http://www.w3.org/2000/svg\" height=\"24px\"viewBox=\"0 0 24 24\"\n",
              "       width=\"24px\">\n",
              "    <path d=\"M0 0h24v24H0V0z\" fill=\"none\"/>\n",
              "    <path d=\"M18.56 5.44l.94 2.06.94-2.06 2.06-.94-2.06-.94-.94-2.06-.94 2.06-2.06.94zm-11 1L8.5 8.5l.94-2.06 2.06-.94-2.06-.94L8.5 2.5l-.94 2.06-2.06.94zm10 10l.94 2.06.94-2.06 2.06-.94-2.06-.94-.94-2.06-.94 2.06-2.06.94z\"/><path d=\"M17.41 7.96l-1.37-1.37c-.4-.4-.92-.59-1.43-.59-.52 0-1.04.2-1.43.59L10.3 9.45l-7.72 7.72c-.78.78-.78 2.05 0 2.83L4 21.41c.39.39.9.59 1.41.59.51 0 1.02-.2 1.41-.59l7.78-7.78 2.81-2.81c.8-.78.8-2.07 0-2.86zM5.41 20L4 18.59l7.72-7.72 1.47 1.35L5.41 20z\"/>\n",
              "  </svg>\n",
              "      </button>\n",
              "      \n",
              "  <style>\n",
              "    .colab-df-container {\n",
              "      display:flex;\n",
              "      flex-wrap:wrap;\n",
              "      gap: 12px;\n",
              "    }\n",
              "\n",
              "    .colab-df-convert {\n",
              "      background-color: #E8F0FE;\n",
              "      border: none;\n",
              "      border-radius: 50%;\n",
              "      cursor: pointer;\n",
              "      display: none;\n",
              "      fill: #1967D2;\n",
              "      height: 32px;\n",
              "      padding: 0 0 0 0;\n",
              "      width: 32px;\n",
              "    }\n",
              "\n",
              "    .colab-df-convert:hover {\n",
              "      background-color: #E2EBFA;\n",
              "      box-shadow: 0px 1px 2px rgba(60, 64, 67, 0.3), 0px 1px 3px 1px rgba(60, 64, 67, 0.15);\n",
              "      fill: #174EA6;\n",
              "    }\n",
              "\n",
              "    [theme=dark] .colab-df-convert {\n",
              "      background-color: #3B4455;\n",
              "      fill: #D2E3FC;\n",
              "    }\n",
              "\n",
              "    [theme=dark] .colab-df-convert:hover {\n",
              "      background-color: #434B5C;\n",
              "      box-shadow: 0px 1px 3px 1px rgba(0, 0, 0, 0.15);\n",
              "      filter: drop-shadow(0px 1px 2px rgba(0, 0, 0, 0.3));\n",
              "      fill: #FFFFFF;\n",
              "    }\n",
              "  </style>\n",
              "\n",
              "      <script>\n",
              "        const buttonEl =\n",
              "          document.querySelector('#df-a7e79aeb-8f6a-4edb-835a-b9234e821c12 button.colab-df-convert');\n",
              "        buttonEl.style.display =\n",
              "          google.colab.kernel.accessAllowed ? 'block' : 'none';\n",
              "\n",
              "        async function convertToInteractive(key) {\n",
              "          const element = document.querySelector('#df-a7e79aeb-8f6a-4edb-835a-b9234e821c12');\n",
              "          const dataTable =\n",
              "            await google.colab.kernel.invokeFunction('convertToInteractive',\n",
              "                                                     [key], {});\n",
              "          if (!dataTable) return;\n",
              "\n",
              "          const docLinkHtml = 'Like what you see? Visit the ' +\n",
              "            '<a target=\"_blank\" href=https://colab.research.google.com/notebooks/data_table.ipynb>data table notebook</a>'\n",
              "            + ' to learn more about interactive tables.';\n",
              "          element.innerHTML = '';\n",
              "          dataTable['output_type'] = 'display_data';\n",
              "          await google.colab.output.renderOutput(dataTable, element);\n",
              "          const docLink = document.createElement('div');\n",
              "          docLink.innerHTML = docLinkHtml;\n",
              "          element.appendChild(docLink);\n",
              "        }\n",
              "      </script>\n",
              "    </div>\n",
              "  </div>\n",
              "  "
            ]
          },
          "metadata": {},
          "execution_count": 118
        }
      ],
      "source": [
        "results = pd.DataFrame({ 'ML Model': ML_Model,    \n",
        "    'Train Accuracy': acc_train,\n",
        "    'Test Accuracy': acc_test})\n",
        "results"
      ]
    },
    {
      "cell_type": "markdown",
      "source": [
        "Performance cho ra thấp hơn so với dataset trên. Bởi vì số lượng input sample khá ít, chỉ **100 mẫu**."
      ],
      "metadata": {
        "id": "SrrVY02MarH-"
      }
    },
    {
      "cell_type": "code",
      "execution_count": null,
      "metadata": {
        "colab": {
          "base_uri": "https://localhost:8080/",
          "height": 238
        },
        "outputId": "9ae2cb6d-95f4-4b6e-c430-459412db0092",
        "id": "rzAfoCA1aQ2I"
      },
      "outputs": [
        {
          "output_type": "execute_result",
          "data": {
            "text/plain": [
              "                     ML Model  Train Accuracy  Test Accuracy\n",
              "2      Multilayer Perceptrons           0.900           0.60\n",
              "1               Random Forest           0.838           0.60\n",
              "0               Decision Tree           0.800           0.60\n",
              "5     Support Vector Machines           0.788           0.55\n",
              "3                     XGBoost           0.900           0.50\n",
              "4  Autoencoder Neural Network           0.387           0.45"
            ],
            "text/html": [
              "\n",
              "  <div id=\"df-e886761e-cb62-4d89-b3b4-bdcabc7f8d96\">\n",
              "    <div class=\"colab-df-container\">\n",
              "      <div>\n",
              "<style scoped>\n",
              "    .dataframe tbody tr th:only-of-type {\n",
              "        vertical-align: middle;\n",
              "    }\n",
              "\n",
              "    .dataframe tbody tr th {\n",
              "        vertical-align: top;\n",
              "    }\n",
              "\n",
              "    .dataframe thead th {\n",
              "        text-align: right;\n",
              "    }\n",
              "</style>\n",
              "<table border=\"1\" class=\"dataframe\">\n",
              "  <thead>\n",
              "    <tr style=\"text-align: right;\">\n",
              "      <th></th>\n",
              "      <th>ML Model</th>\n",
              "      <th>Train Accuracy</th>\n",
              "      <th>Test Accuracy</th>\n",
              "    </tr>\n",
              "  </thead>\n",
              "  <tbody>\n",
              "    <tr>\n",
              "      <th>2</th>\n",
              "      <td>Multilayer Perceptrons</td>\n",
              "      <td>0.900</td>\n",
              "      <td>0.60</td>\n",
              "    </tr>\n",
              "    <tr>\n",
              "      <th>1</th>\n",
              "      <td>Random Forest</td>\n",
              "      <td>0.838</td>\n",
              "      <td>0.60</td>\n",
              "    </tr>\n",
              "    <tr>\n",
              "      <th>0</th>\n",
              "      <td>Decision Tree</td>\n",
              "      <td>0.800</td>\n",
              "      <td>0.60</td>\n",
              "    </tr>\n",
              "    <tr>\n",
              "      <th>5</th>\n",
              "      <td>Support Vector Machines</td>\n",
              "      <td>0.788</td>\n",
              "      <td>0.55</td>\n",
              "    </tr>\n",
              "    <tr>\n",
              "      <th>3</th>\n",
              "      <td>XGBoost</td>\n",
              "      <td>0.900</td>\n",
              "      <td>0.50</td>\n",
              "    </tr>\n",
              "    <tr>\n",
              "      <th>4</th>\n",
              "      <td>Autoencoder Neural Network</td>\n",
              "      <td>0.387</td>\n",
              "      <td>0.45</td>\n",
              "    </tr>\n",
              "  </tbody>\n",
              "</table>\n",
              "</div>\n",
              "      <button class=\"colab-df-convert\" onclick=\"convertToInteractive('df-e886761e-cb62-4d89-b3b4-bdcabc7f8d96')\"\n",
              "              title=\"Convert this dataframe to an interactive table.\"\n",
              "              style=\"display:none;\">\n",
              "        \n",
              "  <svg xmlns=\"http://www.w3.org/2000/svg\" height=\"24px\"viewBox=\"0 0 24 24\"\n",
              "       width=\"24px\">\n",
              "    <path d=\"M0 0h24v24H0V0z\" fill=\"none\"/>\n",
              "    <path d=\"M18.56 5.44l.94 2.06.94-2.06 2.06-.94-2.06-.94-.94-2.06-.94 2.06-2.06.94zm-11 1L8.5 8.5l.94-2.06 2.06-.94-2.06-.94L8.5 2.5l-.94 2.06-2.06.94zm10 10l.94 2.06.94-2.06 2.06-.94-2.06-.94-.94-2.06-.94 2.06-2.06.94z\"/><path d=\"M17.41 7.96l-1.37-1.37c-.4-.4-.92-.59-1.43-.59-.52 0-1.04.2-1.43.59L10.3 9.45l-7.72 7.72c-.78.78-.78 2.05 0 2.83L4 21.41c.39.39.9.59 1.41.59.51 0 1.02-.2 1.41-.59l7.78-7.78 2.81-2.81c.8-.78.8-2.07 0-2.86zM5.41 20L4 18.59l7.72-7.72 1.47 1.35L5.41 20z\"/>\n",
              "  </svg>\n",
              "      </button>\n",
              "      \n",
              "  <style>\n",
              "    .colab-df-container {\n",
              "      display:flex;\n",
              "      flex-wrap:wrap;\n",
              "      gap: 12px;\n",
              "    }\n",
              "\n",
              "    .colab-df-convert {\n",
              "      background-color: #E8F0FE;\n",
              "      border: none;\n",
              "      border-radius: 50%;\n",
              "      cursor: pointer;\n",
              "      display: none;\n",
              "      fill: #1967D2;\n",
              "      height: 32px;\n",
              "      padding: 0 0 0 0;\n",
              "      width: 32px;\n",
              "    }\n",
              "\n",
              "    .colab-df-convert:hover {\n",
              "      background-color: #E2EBFA;\n",
              "      box-shadow: 0px 1px 2px rgba(60, 64, 67, 0.3), 0px 1px 3px 1px rgba(60, 64, 67, 0.15);\n",
              "      fill: #174EA6;\n",
              "    }\n",
              "\n",
              "    [theme=dark] .colab-df-convert {\n",
              "      background-color: #3B4455;\n",
              "      fill: #D2E3FC;\n",
              "    }\n",
              "\n",
              "    [theme=dark] .colab-df-convert:hover {\n",
              "      background-color: #434B5C;\n",
              "      box-shadow: 0px 1px 3px 1px rgba(0, 0, 0, 0.15);\n",
              "      filter: drop-shadow(0px 1px 2px rgba(0, 0, 0, 0.3));\n",
              "      fill: #FFFFFF;\n",
              "    }\n",
              "  </style>\n",
              "\n",
              "      <script>\n",
              "        const buttonEl =\n",
              "          document.querySelector('#df-e886761e-cb62-4d89-b3b4-bdcabc7f8d96 button.colab-df-convert');\n",
              "        buttonEl.style.display =\n",
              "          google.colab.kernel.accessAllowed ? 'block' : 'none';\n",
              "\n",
              "        async function convertToInteractive(key) {\n",
              "          const element = document.querySelector('#df-e886761e-cb62-4d89-b3b4-bdcabc7f8d96');\n",
              "          const dataTable =\n",
              "            await google.colab.kernel.invokeFunction('convertToInteractive',\n",
              "                                                     [key], {});\n",
              "          if (!dataTable) return;\n",
              "\n",
              "          const docLinkHtml = 'Like what you see? Visit the ' +\n",
              "            '<a target=\"_blank\" href=https://colab.research.google.com/notebooks/data_table.ipynb>data table notebook</a>'\n",
              "            + ' to learn more about interactive tables.';\n",
              "          element.innerHTML = '';\n",
              "          dataTable['output_type'] = 'display_data';\n",
              "          await google.colab.output.renderOutput(dataTable, element);\n",
              "          const docLink = document.createElement('div');\n",
              "          docLink.innerHTML = docLinkHtml;\n",
              "          element.appendChild(docLink);\n",
              "        }\n",
              "      </script>\n",
              "    </div>\n",
              "  </div>\n",
              "  "
            ]
          },
          "metadata": {},
          "execution_count": 93
        }
      ],
      "source": [
        "#Sort accuracy\n",
        "results.sort_values(by=['Test Accuracy', 'Train Accuracy'], ascending=False)"
      ]
    },
    {
      "cell_type": "markdown",
      "source": [
        "Lưu trữ model của keras của mục [7.5](#scrollTo=7_5_Autoencoder_Neural_Network)"
      ],
      "metadata": {
        "id": "epTR4-aWaQ2I"
      }
    },
    {
      "cell_type": "code",
      "source": [
        "autoencoder.save(\"/content/drive/MyDrive/Lab/Lab4/Output Model/AutoencoderNN_otherdataset.h5\")"
      ],
      "metadata": {
        "id": "CEObFNNLaQ2I"
      },
      "execution_count": null,
      "outputs": []
    },
    {
      "cell_type": "code",
      "source": [
        "!ls \"/content/drive/MyDrive/Lab/Lab4/Output Model/\""
      ],
      "metadata": {
        "colab": {
          "base_uri": "https://localhost:8080/"
        },
        "outputId": "572dc2ab-13ca-4a9e-a100-00f81e8764bb",
        "id": "NsBTq0fEaQ2I"
      },
      "execution_count": null,
      "outputs": [
        {
          "output_type": "stream",
          "name": "stdout",
          "text": [
            "AutoencoderNN.h5  AutoencoderNN_otherdataset.h5\n"
          ]
        }
      ]
    },
    {
      "cell_type": "markdown",
      "metadata": {
        "id": "QcRM4RqOwKg3"
      },
      "source": [
        "# **5. Trích dẫn**"
      ]
    },
    {
      "cell_type": "markdown",
      "metadata": {
        "id": "HqRaGvvRwPf_"
      },
      "source": [
        "https://archive.ics.uci.edu/ml/datasets/Phishing+Websites"
      ]
    }
  ],
  "metadata": {
    "colab": {
      "collapsed_sections": [
        "akgh4KUtDN3t",
        "gD-KzGg2EQJq",
        "ULpWf7j_Jiid",
        "2VzDewbsMsHw",
        "140lDfWSN1xJ",
        "BkmZK_LjOQ9q",
        "mQcWx-AjO1R3",
        "v6nY9qtiilUF",
        "BXmYbf6CnEig",
        "OHhuivfQ0lC1",
        "0N9XTsYQvRn_",
        "UobA-il0XUkT",
        "ey_Z3xITXyaY",
        "TKRt2cxKYTA3",
        "s7ehmPHyZTWa",
        "yusfiYaCZdel",
        "Qe3dyAPOZdel",
        "t1a6ei9kZdem",
        "UqOLSue2Zdem",
        "QstL_MxgZden"
      ],
      "provenance": [],
      "toc_visible": true
    },
    "kernelspec": {
      "display_name": "Python 3",
      "name": "python3"
    },
    "language_info": {
      "name": "python"
    }
  },
  "nbformat": 4,
  "nbformat_minor": 0
}